{
 "cells": [
  {
   "cell_type": "markdown",
   "metadata": {
    "id": "xsJJaZ01T6JH"
   },
   "source": [
    "# **VoxelCity Demo**"
   ]
  },
  {
   "cell_type": "markdown",
   "metadata": {
    "id": "B24u-0E7UIo7"
   },
   "source": [
    "You can easily learn how the Python module \"VoxelCity\" works by following this demo.\n",
    "\n",
    "Please execute cells from Step 1 to Step 5 by clicking the ▶️ icons.\n",
    "\n",
    "It is important to note that you need to choose either Option 1 or Option 2 in Step 2 and execute only one.\n",
    "\n",
    "Also, you need to set up your Earth Engine enabled Cloud Project to use VoxelCity. The instructions on how to set it up are detailed here: https://developers.google.com/earth-engine/cloud/earthengine_cloud_project_setup"
   ]
  },
  {
   "cell_type": "markdown",
   "metadata": {
    "id": "KBEOxqh0-WjR"
   },
   "source": [
    "# Step1. Prepare environment"
   ]
  },
  {
   "cell_type": "code",
   "execution_count": 25,
   "metadata": {
    "cellView": "form",
    "colab": {
     "base_uri": "https://localhost:8080/"
    },
    "executionInfo": {
     "elapsed": 26525,
     "status": "ok",
     "timestamp": 1727916480835,
     "user": {
      "displayName": "Kunihiko Fujiwara",
      "userId": "03970325715211983816"
     },
     "user_tz": -480
    },
    "id": "3xwczicBFTUe",
    "outputId": "57049b15-09db-4997-c28b-a5290bdde77d"
   },
   "outputs": [
    {
     "data": {
      "text/html": [
       "\n",
       "            <style>\n",
       "                .geemap-dark {\n",
       "                    --jp-widgets-color: white;\n",
       "                    --jp-widgets-label-color: white;\n",
       "                    --jp-ui-font-color1: white;\n",
       "                    --jp-layout-color2: #454545;\n",
       "                    background-color: #383838;\n",
       "                }\n",
       "\n",
       "                .geemap-dark .jupyter-button {\n",
       "                    --jp-layout-color3: #383838;\n",
       "                }\n",
       "\n",
       "                .geemap-colab {\n",
       "                    background-color: var(--colab-primary-surface-color, white);\n",
       "                }\n",
       "\n",
       "                .geemap-colab .jupyter-button {\n",
       "                    --jp-layout-color3: var(--colab-primary-surface-color, white);\n",
       "                }\n",
       "            </style>\n",
       "            "
      ],
      "text/plain": [
       "<IPython.core.display.HTML object>"
      ]
     },
     "metadata": {},
     "output_type": "display_data"
    }
   ],
   "source": [
    "#@title Install VoxelCity\n",
    "# !pip install voxelcity"
   ]
  },
  {
   "cell_type": "code",
   "execution_count": 1,
   "metadata": {},
   "outputs": [
    {
     "name": "stdout",
     "output_type": "stream",
     "text": [
      "Authenticate: Credentials already exist.  Use --force to refresh.\n"
     ]
    }
   ],
   "source": [
    "#@title Authenticate Google Earth Engine on local environment\n",
    "!earthengine authenticate\n",
    "\n",
    "import ee\n",
    "ee.Authenticate()\n",
    "ee.Initialize(project='ee-kunihiko92150920research')"
   ]
  },
  {
   "cell_type": "markdown",
   "metadata": {
    "id": "GQaebhqM-2vS"
   },
   "source": [
    "# Step2. Set target area by a rectangle"
   ]
  },
  {
   "cell_type": "code",
   "execution_count": 2,
   "metadata": {
    "cellView": "form",
    "executionInfo": {
     "elapsed": 322,
     "status": "ok",
     "timestamp": 1727916570492,
     "user": {
      "displayName": "Kunihiko Fujiwara",
      "userId": "03970325715211983816"
     },
     "user_tz": -480
    },
    "id": "Nra9xPrSerQr"
   },
   "outputs": [],
   "source": [
    "#@title Set target city (you need to fill in required values before executing!)\n",
    "cityname = \"tokyo\" #@param {type:\"string\"}"
   ]
  },
  {
   "cell_type": "markdown",
   "metadata": {
    "id": "pxm6MLF0_Je5"
   },
   "source": [
    "## Option1 Draw a rectangle directly"
   ]
  },
  {
   "cell_type": "code",
   "execution_count": null,
   "metadata": {
    "cellView": "form",
    "colab": {
     "base_uri": "https://localhost:8080/",
     "height": 421,
     "referenced_widgets": [
      "4331ec93404a4bb7829aeccf767f009f",
      "bb4ef23c7591404387c030ac01fda6a5",
      "89a847ecd1db40c88bf8000863996476",
      "1ee31ad06e0a4a0aa83f59786b3a884a",
      "f08e0f82d8114978a59c3a45f1ea3b41",
      "4eb70ec0199948439bc87c3bef920b37",
      "d9cf530ff07f4316b19fa42d680c6833",
      "5b88e4c15d744e9d94b961d8df8ec3bd",
      "b96a1de8e11e4a86aa8fd507fb5dc489"
     ]
    },
    "executionInfo": {
     "elapsed": 4328,
     "status": "ok",
     "timestamp": 1727013776272,
     "user": {
      "displayName": "Kunihiko Fujiwara",
      "userId": "03970325715211983816"
     },
     "user_tz": -480
    },
    "id": "xm2NcICP_6GF",
    "outputId": "9657fab9-a9ff-449e-d2d9-df61c55cd9cf"
   },
   "outputs": [],
   "source": [
    "#@title Draw a rectangle on a map (Click ■ on the left side, then click the north west corner and the south east corner of the rectangle.)\n",
    "from voxelcity.geo.draw import draw_rectangle_map_cityname\n",
    "\n",
    "m, rectangle_vertices = draw_rectangle_map_cityname(cityname, zoom=15)\n",
    "m"
   ]
  },
  {
   "cell_type": "markdown",
   "metadata": {
    "id": "MP_EIVXV_63L"
   },
   "source": [
    "##Option2 Set the center location and the width [m] (east-west) and height [m] (nort-south)"
   ]
  },
  {
   "cell_type": "code",
   "execution_count": 4,
   "metadata": {
    "cellView": "form",
    "executionInfo": {
     "elapsed": 305,
     "status": "ok",
     "timestamp": 1727916574328,
     "user": {
      "displayName": "Kunihiko Fujiwara",
      "userId": "03970325715211983816"
     },
     "user_tz": -480
    },
    "id": "0SR5Ly3eBhfl"
   },
   "outputs": [
    {
     "data": {
      "text/html": [
       "\n",
       "            <style>\n",
       "                .geemap-dark {\n",
       "                    --jp-widgets-color: white;\n",
       "                    --jp-widgets-label-color: white;\n",
       "                    --jp-ui-font-color1: white;\n",
       "                    --jp-layout-color2: #454545;\n",
       "                    background-color: #383838;\n",
       "                }\n",
       "\n",
       "                .geemap-dark .jupyter-button {\n",
       "                    --jp-layout-color3: #383838;\n",
       "                }\n",
       "\n",
       "                .geemap-colab {\n",
       "                    background-color: var(--colab-primary-surface-color, white);\n",
       "                }\n",
       "\n",
       "                .geemap-colab .jupyter-button {\n",
       "                    --jp-layout-color3: var(--colab-primary-surface-color, white);\n",
       "                }\n",
       "            </style>\n",
       "            "
      ],
      "text/plain": [
       "<IPython.core.display.HTML object>"
      ]
     },
     "metadata": {},
     "output_type": "display_data"
    }
   ],
   "source": [
    "#@title Set width (m) and height (m) (you need to fill in required values before executing!)\n",
    "width = 500 #@param {type:\"number\"}\n",
    "height = 500 #@param {type:\"number\"}"
   ]
  },
  {
   "cell_type": "code",
   "execution_count": null,
   "metadata": {
    "colab": {
     "base_uri": "https://localhost:8080/",
     "height": 533,
     "referenced_widgets": [
      "8d047f814ebf4a1f98e1d79783b6636b",
      "9a757aed38694ff883c4b8a64c7985e4",
      "963b8a22063f4d70a192fa3ff178869f",
      "9db59ba2b66e49f8a95bbee76c91e1a1",
      "e081b3c251e34c71b547fef95af8b796",
      "58da19d4c48a4960a08567bd2f5c2911",
      "00d54f381cb247559a88ef8bf695ac1a",
      "d7ac8adec6cc4c41ad2dde54884a6bee",
      "d3a226a60cc54a328cdd5000e6fd5ae0",
      "a1f4ed7d969643af890160d433791b2f"
     ]
    },
    "executionInfo": {
     "elapsed": 5744,
     "status": "ok",
     "timestamp": 1727916581753,
     "user": {
      "displayName": "Kunihiko Fujiwara",
      "userId": "03970325715211983816"
     },
     "user_tz": -480
    },
    "id": "4jf5xarPGCiT",
    "outputId": "5498f9f6-da31-4a90-b8c0-92ba8e6e03fa"
   },
   "outputs": [],
   "source": [
    "#@title Draw a center point (circlemarker) on a map (Click ○ on the left side and then click the center location on the map.)\n",
    "from voxelcity.geo.draw import center_location_map_cityname\n",
    "\n",
    "m, rectangle_vertices = center_location_map_cityname(cityname, width, height, zoom=15)\n",
    "m"
   ]
  },
  {
   "cell_type": "code",
   "execution_count": 36,
   "metadata": {},
   "outputs": [
    {
     "data": {
      "text/html": [
       "\n",
       "            <style>\n",
       "                .geemap-dark {\n",
       "                    --jp-widgets-color: white;\n",
       "                    --jp-widgets-label-color: white;\n",
       "                    --jp-ui-font-color1: white;\n",
       "                    --jp-layout-color2: #454545;\n",
       "                    background-color: #383838;\n",
       "                }\n",
       "\n",
       "                .geemap-dark .jupyter-button {\n",
       "                    --jp-layout-color3: #383838;\n",
       "                }\n",
       "\n",
       "                .geemap-colab {\n",
       "                    background-color: var(--colab-primary-surface-color, white);\n",
       "                }\n",
       "\n",
       "                .geemap-colab .jupyter-button {\n",
       "                    --jp-layout-color3: var(--colab-primary-surface-color, white);\n",
       "                }\n",
       "            </style>\n",
       "            "
      ],
      "text/plain": [
       "<IPython.core.display.HTML object>"
      ]
     },
     "metadata": {},
     "output_type": "display_data"
    }
   ],
   "source": [
    "#eubucco.py\n",
    "rectangle_vertices = [(49.60903223400548, 6.1256568534699705),\n",
    " (49.61352776511707, 6.1256568534699705),\n",
    " (49.61352776511707, 6.132575146530029),\n",
    " (49.60903223400548, 6.132575146530029)]"
   ]
  },
  {
   "cell_type": "code",
   "execution_count": 46,
   "metadata": {},
   "outputs": [
    {
     "data": {
      "text/html": [
       "\n",
       "            <style>\n",
       "                .geemap-dark {\n",
       "                    --jp-widgets-color: white;\n",
       "                    --jp-widgets-label-color: white;\n",
       "                    --jp-ui-font-color1: white;\n",
       "                    --jp-layout-color2: #454545;\n",
       "                    background-color: #383838;\n",
       "                }\n",
       "\n",
       "                .geemap-dark .jupyter-button {\n",
       "                    --jp-layout-color3: #383838;\n",
       "                }\n",
       "\n",
       "                .geemap-colab {\n",
       "                    background-color: var(--colab-primary-surface-color, white);\n",
       "                }\n",
       "\n",
       "                .geemap-colab .jupyter-button {\n",
       "                    --jp-layout-color3: var(--colab-primary-surface-color, white);\n",
       "                }\n",
       "            </style>\n",
       "            "
      ],
      "text/plain": [
       "<IPython.core.display.HTML object>"
      ]
     },
     "metadata": {},
     "output_type": "display_data"
    }
   ],
   "source": [
    "#oemj.py\n",
    "rectangle_vertices = [(35.671290792464255, 139.7564216011559),\n",
    " (35.67579720669077, 139.7564216011559),\n",
    " (35.67579720669077, 139.76194439884412),\n",
    " (35.671290792464255, 139.76194439884412)]"
   ]
  },
  {
   "cell_type": "code",
   "execution_count": 2,
   "metadata": {},
   "outputs": [],
   "source": [
    "#mbfp.py, overture.py, osm.py, urbanwatch.py, gee.py, omt.py\n",
    "rectangle_vertices = [(47.59830044521263, -122.33587348582083),\n",
    " (47.60279755390168, -122.33587348582083),\n",
    " (47.60279755390168, -122.32922451417917),\n",
    " (47.59830044521263, -122.32922451417917)]"
   ]
  },
  {
   "cell_type": "code",
   "execution_count": 45,
   "metadata": {},
   "outputs": [
    {
     "data": {
      "text/html": [
       "\n",
       "            <style>\n",
       "                .geemap-dark {\n",
       "                    --jp-widgets-color: white;\n",
       "                    --jp-widgets-label-color: white;\n",
       "                    --jp-ui-font-color1: white;\n",
       "                    --jp-layout-color2: #454545;\n",
       "                    background-color: #383838;\n",
       "                }\n",
       "\n",
       "                .geemap-dark .jupyter-button {\n",
       "                    --jp-layout-color3: #383838;\n",
       "                }\n",
       "\n",
       "                .geemap-colab {\n",
       "                    background-color: var(--colab-primary-surface-color, white);\n",
       "                }\n",
       "\n",
       "                .geemap-colab .jupyter-button {\n",
       "                    --jp-layout-color3: var(--colab-primary-surface-color, white);\n",
       "                }\n",
       "            </style>\n",
       "            "
      ],
      "text/plain": [
       "<IPython.core.display.HTML object>"
      ]
     },
     "metadata": {},
     "output_type": "display_data"
    },
    {
     "data": {
      "text/plain": [
       "[(35.671290792464255, 139.7564216011559),\n",
       " (35.67579720669077, 139.7564216011559),\n",
       " (35.67579720669077, 139.76194439884412),\n",
       " (35.671290792464255, 139.76194439884412)]"
      ]
     },
     "execution_count": 45,
     "metadata": {},
     "output_type": "execute_result"
    }
   ],
   "source": [
    "rectangle_vertices"
   ]
  },
  {
   "cell_type": "markdown",
   "metadata": {
    "id": "mBdaDdW4D5_4"
   },
   "source": [
    "# Step3 Set variables"
   ]
  },
  {
   "cell_type": "code",
   "execution_count": 6,
   "metadata": {
    "cellView": "form",
    "colab": {
     "base_uri": "https://localhost:8080/",
     "height": 17
    },
    "executionInfo": {
     "elapsed": 308,
     "status": "ok",
     "timestamp": 1727916597393,
     "user": {
      "displayName": "Kunihiko Fujiwara",
      "userId": "03970325715211983816"
     },
     "user_tz": -480
    },
    "id": "XYyT56LGfS2e",
    "outputId": "645e1125-9829-48f4-b0e3-a16920e05d50"
   },
   "outputs": [
    {
     "data": {
      "text/html": [
       "\n",
       "            <style>\n",
       "                .geemap-dark {\n",
       "                    --jp-widgets-color: white;\n",
       "                    --jp-widgets-label-color: white;\n",
       "                    --jp-ui-font-color1: white;\n",
       "                    --jp-layout-color2: #454545;\n",
       "                    background-color: #383838;\n",
       "                }\n",
       "\n",
       "                .geemap-dark .jupyter-button {\n",
       "                    --jp-layout-color3: #383838;\n",
       "                }\n",
       "\n",
       "                .geemap-colab {\n",
       "                    background-color: var(--colab-primary-surface-color, white);\n",
       "                }\n",
       "\n",
       "                .geemap-colab .jupyter-button {\n",
       "                    --jp-layout-color3: var(--colab-primary-surface-color, white);\n",
       "                }\n",
       "            </style>\n",
       "            "
      ],
      "text/plain": [
       "<IPython.core.display.HTML object>"
      ]
     },
     "metadata": {},
     "output_type": "display_data"
    }
   ],
   "source": [
    "#@title Set necessary parameters, data sources and meshsize (m)\n",
    "building_source = 'OpenStreetMap' #@param ['OpenStreetMap', 'Overture', 'EUBUCCO v0.1', 'Open Building 2.5D Temporal', 'Microsoft Building Footprints', 'OpenMapTiles', 'Local file']\n",
    "building_complementary_source = 'None' #@param ['None', 'Open Building 2.5D Temporal', 'Microsoft Building Footprints', 'OpenMapTiles', 'Local file', 'OpenStreetMap', 'Overture', 'EUBUCCO v0.1']\n",
    "land_cover_source = 'OpenStreetMap' #@param ['Urbanwatch', 'OpenEarthMapJapan', 'ESA WorldCover', 'ESRI 10m Annual Land Cover', 'Dynamic World V1', 'OpenStreetMap']\n",
    "canopy_height_source = 'High Resolution 1m Global Canopy Height Maps' #@param ['High Resolution 1m Global Canopy Height Maps', 'ETH Global Sentinel-2 10m Canopy Height (2020)']\n",
    "dem_source = 'DeltaDTM' #@param ['DeltaDTM', 'FABDEM', 'England 1m DTM', 'DEM France 1m', 'AUSTRALIA 5M DEM', 'USGS 3DEP 1m', 'NASA', 'COPERNICUS', 'Flat']\n",
    "meshsize = 5 #@param {type:\"number\"}"
   ]
  },
  {
   "cell_type": "code",
   "execution_count": 7,
   "metadata": {},
   "outputs": [
    {
     "data": {
      "text/html": [
       "\n",
       "            <style>\n",
       "                .geemap-dark {\n",
       "                    --jp-widgets-color: white;\n",
       "                    --jp-widgets-label-color: white;\n",
       "                    --jp-ui-font-color1: white;\n",
       "                    --jp-layout-color2: #454545;\n",
       "                    background-color: #383838;\n",
       "                }\n",
       "\n",
       "                .geemap-dark .jupyter-button {\n",
       "                    --jp-layout-color3: #383838;\n",
       "                }\n",
       "\n",
       "                .geemap-colab {\n",
       "                    background-color: var(--colab-primary-surface-color, white);\n",
       "                }\n",
       "\n",
       "                .geemap-colab .jupyter-button {\n",
       "                    --jp-layout-color3: var(--colab-primary-surface-color, white);\n",
       "                }\n",
       "            </style>\n",
       "            "
      ],
      "text/plain": [
       "<IPython.core.display.HTML object>"
      ]
     },
     "metadata": {},
     "output_type": "display_data"
    }
   ],
   "source": [
    "#@title Set optional parameters, data sources and meshsize (m)\n",
    "kwargs = {\n",
    "    # \"building_path\": 'path_to_building_source_file', #To set path to building base data source when you select 'Local file' as building_source.  \n",
    "    # \"building_complementary_path\": 'path_to_building_complemntary_source_file', #To set path to building complementary data source  when you select 'Local file' as building_complementary_source.\n",
    "    # \"building_complementary_source\": building_complementary_source,\n",
    "    # \"complement_polygon\": True, #Set 'True' if you want to incorporate building footprints from building complementary source. Only building footprints that do not have any intersections with footprints from building source are included.\n",
    "    \"output_dir\": 'output/test', #To set directory path for output files \n",
    "    # \"remove_perimeter_object\": 0.1, #Set value more than 0 if you want to remove objects including buildings and trees near to domain boundarys (perimeter). Used mainly for CFD simulation. For instance, when you set 0.1, objects with distances from domain boundaries less than 0.1 * domain width (height) are removed.\n",
    "    # \"gridvis\": True, #Set 'True' if you want to visualize extracted 2D grid data.\n",
    "    # \"mapvis\": False, #Set 'True' if you want to visualize extracted 2D grid data on a basemap. Note that it take longer time than \"gridvis\".\n",
    "    # \"voxelvis\": False, #Set 'True' if you want to visualize generated voxel 3d city model. Note that this visualiztion takes long time if the number of voxels is huge, e.g., more than one million.  \n",
    "    # \"voxelvis_img_save_path\": None, #Set path to save image file of generated voxel 3d city model.\n",
    "    # \"maptiler_API_key\": 'your_API_key', #To set API key of Maptiler when you select 'OpenMapTilse' as building_source.\n",
    "    # \"trunk_height_ratio\": None, #To set ratio of tree trunk height against tree canopy height. Default: 0.59 (11.76 / 19.98).\n",
    "    # \"min_canopy_height\": None, #To set minimum canopy height in meters if you want to exclude trees lower than that height.\n",
    "    \"dem_interpolation\": True, #Set 'True' when mesh size if finer than resolution of dem data source and if you want to use interporation.\n",
    "    # \"dynamic_world_date\": '2021-04-02', #To set date of Dynamic World.\n",
    "    # \"esri_landcover_year\": '2023' #To set year of Esri Land Cover.\n",
    "}"
   ]
  },
  {
   "cell_type": "markdown",
   "metadata": {
    "id": "9hN1OshjE9rF"
   },
   "source": [
    "# Step4 Get voxelcity output"
   ]
  },
  {
   "cell_type": "code",
   "execution_count": null,
   "metadata": {
    "cellView": "form",
    "colab": {
     "base_uri": "https://localhost:8080/",
     "height": 1000
    },
    "executionInfo": {
     "elapsed": 40594,
     "status": "ok",
     "timestamp": 1727916642938,
     "user": {
      "displayName": "Kunihiko Fujiwara",
      "userId": "03970325715211983816"
     },
     "user_tz": -480
    },
    "id": "ezU8L5KulPNA",
    "outputId": "13a16b47-01af-401d-fe17-a186e4b7add6"
   },
   "outputs": [],
   "source": [
    "#@title Obtain grid data integrate it to create voxel data\n",
    "from voxelcity import get_voxelcity\n",
    "\n",
    "voxelcity_grid, building_height_grid, building_min_height_grid, building_id_grid, canopy_height_grid, land_cover_grid, dem_grid, building_geojson = get_voxelcity(\n",
    "    rectangle_vertices, \n",
    "    building_source, \n",
    "    land_cover_source, \n",
    "    canopy_height_source, \n",
    "    dem_source, \n",
    "    meshsize, \n",
    "    **kwargs\n",
    ")"
   ]
  },
  {
   "cell_type": "markdown",
   "metadata": {
    "id": "w3EtplbdGDzC"
   },
   "source": [
    "# Step5 Export files"
   ]
  },
  {
   "cell_type": "code",
   "execution_count": 9,
   "metadata": {
    "cellView": "form",
    "colab": {
     "base_uri": "https://localhost:8080/",
     "height": 36
    },
    "executionInfo": {
     "elapsed": 322,
     "status": "ok",
     "timestamp": 1727013936704,
     "user": {
      "displayName": "Kunihiko Fujiwara",
      "userId": "03970325715211983816"
     },
     "user_tz": -480
    },
    "id": "5S2JEkRAQYc7",
    "outputId": "69e3412f-a613-4364-c322-8d3d129a0c03"
   },
   "outputs": [
    {
     "data": {
      "text/html": [
       "\n",
       "            <style>\n",
       "                .geemap-dark {\n",
       "                    --jp-widgets-color: white;\n",
       "                    --jp-widgets-label-color: white;\n",
       "                    --jp-ui-font-color1: white;\n",
       "                    --jp-layout-color2: #454545;\n",
       "                    background-color: #383838;\n",
       "                }\n",
       "\n",
       "                .geemap-dark .jupyter-button {\n",
       "                    --jp-layout-color3: #383838;\n",
       "                }\n",
       "\n",
       "                .geemap-colab {\n",
       "                    background-color: var(--colab-primary-surface-color, white);\n",
       "                }\n",
       "\n",
       "                .geemap-colab .jupyter-button {\n",
       "                    --jp-layout-color3: var(--colab-primary-surface-color, white);\n",
       "                }\n",
       "            </style>\n",
       "            "
      ],
      "text/plain": [
       "<IPython.core.display.HTML object>"
      ]
     },
     "metadata": {},
     "output_type": "display_data"
    }
   ],
   "source": [
    "#@title Export INX file for ENVI-MET\n",
    "from voxelcity.file.envimet import export_inx, generate_edb_file\n",
    "\n",
    "envimet_kwargs = {\n",
    "    \"output_directory\": 'output/test', # To set directory path for output files \n",
    "    \"author_name\": \"enter your name\", # Optional. To set author name in INX.\n",
    "    \"model_description\": \"generated and exported using VoxCity\", # Optional. To desctibe model in INX.\n",
    "    \"domain_building_max_height_ratio\": 2, # Optional. To set ratio between domain height (Z) and maximum height (building + terrain). Default: 2.0.\n",
    "    \"useTelescoping_grid\": True, # Optional. To activate telescoping grid. Default: False.\n",
    "    \"verticalStretch\": 20, # Optional. To set vertical stretch (%). Default: 0%.\n",
    "    \"min_grids_Z\": 20, # Optional. To set minimum number of vertical grid cells (Z-axis). Default: None.\n",
    "    \"lad\": 1.0 # Optional. To set Leaf Area Density (LAD) of trees in m^-1. Default: 1.0 m^-1.\n",
    "}\n",
    "\n",
    "export_inx(building_height_grid, building_id_grid, canopy_height_grid, land_cover_grid, dem_grid, meshsize, land_cover_source, rectangle_vertices, **envimet_kwargs)\n",
    "generate_edb_file(**envimet_kwargs)"
   ]
  },
  {
   "cell_type": "code",
   "execution_count": 10,
   "metadata": {
    "cellView": "form",
    "colab": {
     "base_uri": "https://localhost:8080/",
     "height": 73
    },
    "executionInfo": {
     "elapsed": 325,
     "status": "ok",
     "timestamp": 1727013952145,
     "user": {
      "displayName": "Kunihiko Fujiwara",
      "userId": "03970325715211983816"
     },
     "user_tz": -480
    },
    "id": "K3VmI57vhNPu",
    "outputId": "93b87e51-61ed-47cd-88c1-4c9af1d37a3e"
   },
   "outputs": [
    {
     "data": {
      "text/html": [
       "\n",
       "            <style>\n",
       "                .geemap-dark {\n",
       "                    --jp-widgets-color: white;\n",
       "                    --jp-widgets-label-color: white;\n",
       "                    --jp-ui-font-color1: white;\n",
       "                    --jp-layout-color2: #454545;\n",
       "                    background-color: #383838;\n",
       "                }\n",
       "\n",
       "                .geemap-dark .jupyter-button {\n",
       "                    --jp-layout-color3: #383838;\n",
       "                }\n",
       "\n",
       "                .geemap-colab {\n",
       "                    background-color: var(--colab-primary-surface-color, white);\n",
       "                }\n",
       "\n",
       "                .geemap-colab .jupyter-button {\n",
       "                    --jp-layout-color3: var(--colab-primary-surface-color, white);\n",
       "                }\n",
       "            </style>\n",
       "            "
      ],
      "text/plain": [
       "<IPython.core.display.HTML object>"
      ]
     },
     "metadata": {},
     "output_type": "display_data"
    },
    {
     "name": "stdout",
     "output_type": "stream",
     "text": [
      "Chunk 0_0_0 saved as output/magicavoxel/test_seattle_0_0_0.vox\n",
      "Shape: (100, 40, 100)\n",
      "\tvox files was successfully exported in output/magicavoxel\n"
     ]
    }
   ],
   "source": [
    "#@title Export vox file for MagicaVoxel\n",
    "from voxelcity.file.magicavoxel import export_magicavoxel_vox\n",
    "\n",
    "output_path = f\"output/magicavoxel\"\n",
    "base_filename = f'test_seattle'\n",
    "export_magicavoxel_vox(voxelcity_grid, output_path, base_filename=base_filename)"
   ]
  },
  {
   "cell_type": "code",
   "execution_count": 11,
   "metadata": {},
   "outputs": [
    {
     "data": {
      "text/html": [
       "\n",
       "            <style>\n",
       "                .geemap-dark {\n",
       "                    --jp-widgets-color: white;\n",
       "                    --jp-widgets-label-color: white;\n",
       "                    --jp-ui-font-color1: white;\n",
       "                    --jp-layout-color2: #454545;\n",
       "                    background-color: #383838;\n",
       "                }\n",
       "\n",
       "                .geemap-dark .jupyter-button {\n",
       "                    --jp-layout-color3: #383838;\n",
       "                }\n",
       "\n",
       "                .geemap-colab {\n",
       "                    background-color: var(--colab-primary-surface-color, white);\n",
       "                }\n",
       "\n",
       "                .geemap-colab .jupyter-button {\n",
       "                    --jp-layout-color3: var(--colab-primary-surface-color, white);\n",
       "                }\n",
       "            </style>\n",
       "            "
      ],
      "text/plain": [
       "<IPython.core.display.HTML object>"
      ]
     },
     "metadata": {},
     "output_type": "display_data"
    },
    {
     "name": "stdout",
     "output_type": "stream",
     "text": [
      "OBJ and MTL files have been generated in ./output/test with the base name \"voxcity_test\".\n"
     ]
    }
   ],
   "source": [
    "#@title Export OBJ file\n",
    "\n",
    "from voxelcity.file.obj import export_obj\n",
    "\n",
    "output_directory = './output/test'\n",
    "output_file_name = 'voxcity_test'\n",
    "\n",
    "export_obj(voxelcity_grid, output_directory, output_file_name, meshsize)"
   ]
  },
  {
   "cell_type": "markdown",
   "metadata": {},
   "source": [
    "# Step6 Use cases"
   ]
  },
  {
   "cell_type": "code",
   "execution_count": null,
   "metadata": {},
   "outputs": [],
   "source": [
    "#@title Simulation of view index\n",
    "\n",
    "from voxelcity.sim.view import get_green_view_index, get_sky_view_index\n",
    "\n",
    "view_kwargs = {\n",
    "    \"view_point_height\": 1.5, # To set height of view point in meters. Default: 1.5 m.\n",
    "    \"dem_grid\": dem_grid,\n",
    "    \"colormap\": 'viridis', # Choose a colormap. Default: 'viridis'.\n",
    "    \"obj_export\": True, # Set \"True\" if you export the result in an OBJ file.\n",
    "    \"output_directory\": 'output/test', # To set directory path for output files. Default: False.\n",
    "    \"output_file_name\": 'gvi_test', # To set file name excluding extension. Default: 'view_index.\n",
    "    \"num_colors\": 10, # Number of discrete colors\n",
    "    \"alpha\": 1.0, # Set transparency (0.0 to 1.0)\n",
    "    \"vmin\": 0.0, # Minimum value for colormap normalization\n",
    "    \"vmax\": 1.0 # Maximum value for colormap normalization\n",
    "}\n",
    "gvi_grid = get_green_view_index(voxelcity_grid, meshsize, **view_kwargs)\n",
    "\n",
    "view_kwargs = {\n",
    "    \"view_point_height\": 1.5, # To set height of view point in meters. Default: 1.5 m.\n",
    "    \"dem_grid\": dem_grid,\n",
    "    \"colormap\": 'BuPu_r', # Choose a colormap.  Default: 'viridis'.\n",
    "    \"obj_export\": True, # Set \"True\" if you export the result in an OBJ file.\n",
    "    \"output_directory\": 'output/test', # To set directory path for output files. Default: False.\n",
    "    \"output_file_name\": 'svi_test', # To set file name excluding extension. Default: 'view_index.\n",
    "    \"num_colors\": 10, # Number of discrete colors in OBJ file. Default: 10.\n",
    "    \"alpha\": 1.0, # Set transparency (0.0 to 1.0)\n",
    "    \"vmin\": 0.0, # Minimum value for colormap normalization\n",
    "    \"vmax\": 1.0 # Maximum value for colormap normalization\n",
    "}\n",
    "svi_grid = get_sky_view_index(voxelcity_grid, meshsize, **view_kwargs)"
   ]
  },
  {
   "cell_type": "code",
   "execution_count": null,
   "metadata": {},
   "outputs": [],
   "source": [
    "from voxelcity.sim.view import get_landmark_visibility_map\n",
    "\n",
    "landmark_kwargs = {\n",
    "    # \"landmark_building_ids\": [518143060, 34619038, 303446390], # Set building ids of landmark if you want to specify. When you do not input this, building ids at the center of target area are automatically set.\n",
    "    \"view_point_height\": 1.5, # To set height of view point in meters. Default: 1.5 m.\n",
    "    \"rectangle_vertices\": rectangle_vertices,\n",
    "    \"dem_grid\": dem_grid,\n",
    "    \"colormap\": 'cool', # Choose a colormap.  Default: 'viridis'.\n",
    "    \"obj_export\": True, # Set \"True\" if you export the result in an OBJ file.\n",
    "    \"output_directory\": 'output/test', # To set directory path for output files. Default: False.\n",
    "    \"output_file_name\": 'landmark_visibility_test', # To set file name excluding extension. Default: 'view_index.\n",
    "    \"alpha\": 1.0, # Set transparency (0.0 to 1.0)\n",
    "    \"vmin\": 0.0, # Minimum value for colormap normalization\n",
    "    \"vmax\": 1.0 # Maximum value for colormap normalization\n",
    "}\n",
    "\n",
    "landmark_vis_map = get_landmark_visibility_map(voxelcity_grid, building_id_grid, building_geojson, meshsize, **landmark_kwargs)"
   ]
  },
  {
   "cell_type": "code",
   "execution_count": null,
   "metadata": {},
   "outputs": [],
   "source": [
    "#@title Simulation of landmark visibility\n",
    "from voxelcity.utils.visualization import display_builing_ids_on_map\n",
    "display_builing_ids_on_map(building_geojson, rectangle_vertices)"
   ]
  },
  {
   "cell_type": "markdown",
   "metadata": {},
   "source": [
    "# **References**\n",
    "\n",
    "**OpenStreetMap**\n",
    "\n",
    "Type: Building footprint\n",
    "\n",
    "Coverage: All over the world (crowdsourced)\n",
    "\n",
    "Link:https://wiki.openstreetmap.org/wiki/Key:building\n",
    "\n",
    "**Microsoft Building Footprints**\n",
    "\n",
    "Type: Building footprint\n",
    "\n",
    "Coverage: footprint: all over the world, height: US, Europe, Australia\n",
    "\n",
    "Link: https://github.com/microsoft/GlobalMLBuildingFootprints\n",
    "\n",
    "**Urbanwatch**\n",
    "\n",
    "Type: Land Use Land Cover\n",
    "\n",
    "Resolution: 1 meter\n",
    "\n",
    "Coverage: 22 major cities in the US including Atlanta, Boston, Charlotte, Chicago, Denver, Dallas, Detroit, Houston, Los Angeles, Miami, Minneapolis, New York City, Philadelphia, Phoenix, Raleigh, Riverside, San Diego, San Francisco, Seattle, Tampa, St. Louis, and Washington D.C.\n",
    "\n",
    "Link: https://urbanwatch.charlotte.edu/\n",
    "\n",
    "Citation: Zhang, Y., Chen, G., Myint, S.W., Zhou, Y., Hay, G.J., Vukomanovic, J., & Meentemeyer, R.K. (2022). UrbanWatch: A 1-meter resolution land cover and land use database for 22 major cities in the United States. Remote Sensing of Environment, 278: 113106.\n",
    "\n",
    "**OpenEarthMap Japan**\n",
    "\n",
    "Type: Land Use Land Cover\n",
    "\n",
    "Resolution: <= 1 meter\n",
    "\n",
    "Coverage: Japan\n",
    "\n",
    "Link: https://www.open-earth-map.org/demo/Japan/leaflet.html\n",
    "\n",
    "Citation: Yokoya, N., Xia, J., & Broni-Bediako, C. (2024). Submeter-level land cover mapping of Japan. International Journal of Applied Earth Observation and Geoinformation, 127, 103660.\n",
    "\n",
    "**ESA World Cover**\n",
    "\n",
    "Type: Land Use Land Cover\n",
    "\n",
    "Resolution: 10 meters\n",
    "\n",
    "Coverage: All over the world\n",
    "\n",
    "Link: https://esa-worldcover.org/en\n",
    "\n",
    "**NASA DEM**\n",
    "\n",
    "Type: Digital Elevation Model\n",
    "\n",
    "Resolution: <= 30 meters\n",
    "\n",
    "Coverage: All over the world\n",
    "\n",
    "Link: https://developers.google.com/earth-engine/datasets/catalog/USGS_SRTMGL1_003\n",
    "\n",
    "**COPERNICUS DEM**\n",
    "\n",
    "Type: Digital Elevation Model\n",
    "\n",
    "Resolution: <= 30 meters\n",
    "\n",
    "Coverage: All over the world\n",
    "\n",
    "Link: https://developers.google.com/earth-engine/datasets/catalog/COPERNICUS_DEM_GLO30\n",
    "\n",
    "**DeltaDTM**\n",
    "\n",
    "Type: Digital Terrain Model\n",
    "\n",
    "Resolution: <= 30 meters\n",
    "\n",
    "Coverage: All over the world (coastral area)\n",
    "\n",
    "Link: https://gee-community-catalog.org/projects/delta_dtm/\n",
    "\n"
   ]
  }
 ],
 "metadata": {
  "colab": {
   "authorship_tag": "ABX9TyP0I5fNMNjJ1Idrl3IjdjyQ",
   "mount_file_id": "1b7jE-b8tX-ZbOEwZjyUDusMv2PLoaYTG",
   "provenance": []
  },
  "kernelspec": {
   "display_name": "voxelcity",
   "language": "python",
   "name": "voxelcity"
  },
  "language_info": {
   "codemirror_mode": {
    "name": "ipython",
    "version": 3
   },
   "file_extension": ".py",
   "mimetype": "text/x-python",
   "name": "python",
   "nbconvert_exporter": "python",
   "pygments_lexer": "ipython3",
   "version": "3.12.7"
  },
  "widgets": {
   "application/vnd.jupyter.widget-state+json": {
    "00d54f381cb247559a88ef8bf695ac1a": {
     "model_module": "jupyter-leaflet",
     "model_module_version": "^0.19",
     "model_name": "LeafletTileLayerModel",
     "state": {
      "_model_module": "jupyter-leaflet",
      "_model_module_version": "^0.19",
      "_model_name": "LeafletTileLayerModel",
      "_view_count": null,
      "_view_module": "jupyter-leaflet",
      "_view_module_version": "^0.19",
      "_view_name": "LeafletTileLayerView",
      "attribution": "&copy; <a href=\"https://www.openstreetmap.org/copyright\">OpenStreetMap</a> contributors",
      "base": true,
      "bottom": true,
      "bounds": null,
      "detect_retina": false,
      "loading": false,
      "max_native_zoom": null,
      "max_zoom": 19,
      "min_native_zoom": null,
      "min_zoom": 1,
      "name": "OpenStreetMap.Mapnik",
      "no_wrap": false,
      "opacity": 1,
      "options": [
       "attribution",
       "bounds",
       "detect_retina",
       "max_native_zoom",
       "max_zoom",
       "min_native_zoom",
       "min_zoom",
       "no_wrap",
       "tile_size",
       "tms",
       "zoom_offset"
      ],
      "pane": "",
      "popup": null,
      "popup_max_height": null,
      "popup_max_width": 300,
      "popup_min_width": 50,
      "show_loading": false,
      "subitems": [],
      "tile_size": 256,
      "tms": false,
      "url": "https://tile.openstreetmap.org/{z}/{x}/{y}.png",
      "visible": true,
      "zoom_offset": 0
     }
    },
    "1ee31ad06e0a4a0aa83f59786b3a884a": {
     "model_module": "jupyter-leaflet",
     "model_module_version": "^0.19",
     "model_name": "LeafletDrawControlModel",
     "state": {
      "_model_module": "jupyter-leaflet",
      "_model_module_version": "^0.19",
      "_model_name": "LeafletDrawControlModel",
      "_view_count": null,
      "_view_module": "jupyter-leaflet",
      "_view_module_version": "^0.19",
      "_view_name": "LeafletDrawControlView",
      "circle": {},
      "circlemarker": {
       "shapeOptions": {}
      },
      "data": [],
      "edit": true,
      "marker": {},
      "options": [
       "position"
      ],
      "polygon": {},
      "polyline": {},
      "position": "topleft",
      "rectangle": {
       "shapeOptions": {
        "color": "#6bc2e5",
        "weight": 4
       }
      },
      "remove": true
     }
    },
    "4331ec93404a4bb7829aeccf767f009f": {
     "model_module": "jupyter-leaflet",
     "model_module_version": "^0.19",
     "model_name": "LeafletMapModel",
     "state": {
      "_dom_classes": [],
      "_model_module": "jupyter-leaflet",
      "_model_module_version": "^0.19",
      "_model_name": "LeafletMapModel",
      "_view_count": null,
      "_view_module": "jupyter-leaflet",
      "_view_module_version": "^0.19",
      "_view_name": "LeafletMapView",
      "bottom": 4162878,
      "bounce_at_zoom_limits": true,
      "box_zoom": true,
      "center": [
       1.357107,
       103.8194992
      ],
      "close_popup_on_click": true,
      "controls": [
       "IPY_MODEL_bb4ef23c7591404387c030ac01fda6a5",
       "IPY_MODEL_89a847ecd1db40c88bf8000863996476",
       "IPY_MODEL_1ee31ad06e0a4a0aa83f59786b3a884a"
      ],
      "crs": {
       "custom": false,
       "name": "EPSG3857"
      },
      "default_style": "IPY_MODEL_f08e0f82d8114978a59c3a45f1ea3b41",
      "double_click_zoom": true,
      "dragging": true,
      "dragging_style": "IPY_MODEL_4eb70ec0199948439bc87c3bef920b37",
      "east": 103.8618278503418,
      "fullscreen": false,
      "inertia": true,
      "inertia_deceleration": 3000,
      "inertia_max_speed": 1500,
      "interpolation": "bilinear",
      "keyboard": true,
      "keyboard_pan_offset": 80,
      "keyboard_zoom_offset": 1,
      "layers": [
       "IPY_MODEL_d9cf530ff07f4316b19fa42d680c6833"
      ],
      "layout": "IPY_MODEL_5b88e4c15d744e9d94b961d8df8ec3bd",
      "left": 6612488,
      "max_zoom": null,
      "min_zoom": null,
      "modisdate": "2024-09-21",
      "north": 1.365694407838087,
      "options": [
       "bounce_at_zoom_limits",
       "box_zoom",
       "center",
       "close_popup_on_click",
       "double_click_zoom",
       "dragging",
       "fullscreen",
       "inertia",
       "inertia_deceleration",
       "inertia_max_speed",
       "interpolation",
       "keyboard",
       "keyboard_pan_offset",
       "keyboard_zoom_offset",
       "max_zoom",
       "min_zoom",
       "prefer_canvas",
       "scroll_wheel_zoom",
       "tap",
       "tap_tolerance",
       "touch_zoom",
       "world_copy_jump",
       "zoom",
       "zoom_animation_threshold",
       "zoom_delta",
       "zoom_snap"
      ],
      "panes": {},
      "prefer_canvas": false,
      "right": 6614460,
      "scroll_wheel_zoom": false,
      "south": 1.3485330853537403,
      "style": "IPY_MODEL_b96a1de8e11e4a86aa8fd507fb5dc489",
      "tap": true,
      "tap_tolerance": 15,
      "top": 4162478,
      "touch_zoom": true,
      "west": 103.77719879150392,
      "window_url": "https://dl58raobsze-496ff2e9c6d22116-0-colab.googleusercontent.com/outputframe.html?vrz=colab_20240918-060111_RC00_675939473",
      "world_copy_jump": false,
      "zoom": 15,
      "zoom_animation_threshold": 4,
      "zoom_delta": 1,
      "zoom_snap": 1
     }
    },
    "4eb70ec0199948439bc87c3bef920b37": {
     "model_module": "jupyter-leaflet",
     "model_module_version": "^0.19",
     "model_name": "LeafletMapStyleModel",
     "state": {
      "_model_module": "jupyter-leaflet",
      "_model_module_version": "^0.19",
      "_model_name": "LeafletMapStyleModel",
      "_view_count": null,
      "_view_module": "@jupyter-widgets/base",
      "_view_module_version": "1.2.0",
      "_view_name": "StyleView",
      "cursor": "move"
     }
    },
    "58da19d4c48a4960a08567bd2f5c2911": {
     "model_module": "jupyter-leaflet",
     "model_module_version": "^0.19",
     "model_name": "LeafletMapStyleModel",
     "state": {
      "_model_module": "jupyter-leaflet",
      "_model_module_version": "^0.19",
      "_model_name": "LeafletMapStyleModel",
      "_view_count": null,
      "_view_module": "@jupyter-widgets/base",
      "_view_module_version": "1.2.0",
      "_view_name": "StyleView",
      "cursor": "move"
     }
    },
    "5b88e4c15d744e9d94b961d8df8ec3bd": {
     "model_module": "@jupyter-widgets/base",
     "model_module_version": "1.2.0",
     "model_name": "LayoutModel",
     "state": {
      "_model_module": "@jupyter-widgets/base",
      "_model_module_version": "1.2.0",
      "_model_name": "LayoutModel",
      "_view_count": null,
      "_view_module": "@jupyter-widgets/base",
      "_view_module_version": "1.2.0",
      "_view_name": "LayoutView",
      "align_content": null,
      "align_items": null,
      "align_self": null,
      "border": null,
      "bottom": null,
      "display": null,
      "flex": null,
      "flex_flow": null,
      "grid_area": null,
      "grid_auto_columns": null,
      "grid_auto_flow": null,
      "grid_auto_rows": null,
      "grid_column": null,
      "grid_gap": null,
      "grid_row": null,
      "grid_template_areas": null,
      "grid_template_columns": null,
      "grid_template_rows": null,
      "height": null,
      "justify_content": null,
      "justify_items": null,
      "left": null,
      "margin": null,
      "max_height": null,
      "max_width": null,
      "min_height": null,
      "min_width": null,
      "object_fit": null,
      "object_position": null,
      "order": null,
      "overflow": null,
      "overflow_x": null,
      "overflow_y": null,
      "padding": null,
      "right": null,
      "top": null,
      "visibility": null,
      "width": null
     }
    },
    "89a847ecd1db40c88bf8000863996476": {
     "model_module": "jupyter-leaflet",
     "model_module_version": "^0.19",
     "model_name": "LeafletAttributionControlModel",
     "state": {
      "_model_module": "jupyter-leaflet",
      "_model_module_version": "^0.19",
      "_model_name": "LeafletAttributionControlModel",
      "_view_count": null,
      "_view_module": "jupyter-leaflet",
      "_view_module_version": "^0.19",
      "_view_name": "LeafletAttributionControlView",
      "options": [
       "position",
       "prefix"
      ],
      "position": "bottomright",
      "prefix": "ipyleaflet"
     }
    },
    "8d047f814ebf4a1f98e1d79783b6636b": {
     "model_module": "jupyter-leaflet",
     "model_module_version": "^0.19",
     "model_name": "LeafletMapModel",
     "state": {
      "_dom_classes": [],
      "_model_module": "jupyter-leaflet",
      "_model_module_version": "^0.19",
      "_model_name": "LeafletMapModel",
      "_view_count": null,
      "_view_module": "jupyter-leaflet",
      "_view_module_version": "^0.19",
      "_view_name": "LeafletMapView",
      "bottom": 4164191,
      "bounce_at_zoom_limits": true,
      "box_zoom": true,
      "center": [
       1.3007810735785752,
       103.86772871017456
      ],
      "close_popup_on_click": true,
      "controls": [
       "IPY_MODEL_9a757aed38694ff883c4b8a64c7985e4",
       "IPY_MODEL_963b8a22063f4d70a192fa3ff178869f",
       "IPY_MODEL_9db59ba2b66e49f8a95bbee76c91e1a1"
      ],
      "crs": {
       "custom": false,
       "name": "EPSG3857"
      },
      "default_style": "IPY_MODEL_e081b3c251e34c71b547fef95af8b796",
      "double_click_zoom": true,
      "dragging": true,
      "dragging_style": "IPY_MODEL_58da19d4c48a4960a08567bd2f5c2911",
      "east": 103.89367103576662,
      "fullscreen": false,
      "inertia": true,
      "inertia_deceleration": 3000,
      "inertia_max_speed": 1500,
      "interpolation": "bilinear",
      "keyboard": true,
      "keyboard_pan_offset": 80,
      "keyboard_zoom_offset": 1,
      "layers": [
       "IPY_MODEL_00d54f381cb247559a88ef8bf695ac1a",
       "IPY_MODEL_a1f4ed7d969643af890160d433791b2f"
      ],
      "layout": "IPY_MODEL_d7ac8adec6cc4c41ad2dde54884a6bee",
      "left": 6613993,
      "max_zoom": null,
      "min_zoom": null,
      "modisdate": "2024-10-02",
      "north": 1.3093619159465821,
      "options": [
       "bounce_at_zoom_limits",
       "box_zoom",
       "center",
       "close_popup_on_click",
       "double_click_zoom",
       "dragging",
       "fullscreen",
       "inertia",
       "inertia_deceleration",
       "inertia_max_speed",
       "interpolation",
       "keyboard",
       "keyboard_pan_offset",
       "keyboard_zoom_offset",
       "max_zoom",
       "min_zoom",
       "prefer_canvas",
       "scroll_wheel_zoom",
       "tap",
       "tap_tolerance",
       "touch_zoom",
       "world_copy_jump",
       "zoom",
       "zoom_animation_threshold",
       "zoom_delta",
       "zoom_snap"
      ],
      "panes": {},
      "prefer_canvas": false,
      "right": 6615202,
      "scroll_wheel_zoom": false,
      "south": 1.292200202029946,
      "style": "IPY_MODEL_e081b3c251e34c71b547fef95af8b796",
      "tap": true,
      "tap_tolerance": 15,
      "top": 4163791,
      "touch_zoom": true,
      "west": 103.84178638458253,
      "window_url": "https://uu0ndjz5e-496ff2e9c6d22116-0-colab.googleusercontent.com/outputframe.html?vrz=colab_20241001-060119_RC01_681036954",
      "world_copy_jump": false,
      "zoom": 15,
      "zoom_animation_threshold": 4,
      "zoom_delta": 1,
      "zoom_snap": 1
     }
    },
    "963b8a22063f4d70a192fa3ff178869f": {
     "model_module": "jupyter-leaflet",
     "model_module_version": "^0.19",
     "model_name": "LeafletAttributionControlModel",
     "state": {
      "_model_module": "jupyter-leaflet",
      "_model_module_version": "^0.19",
      "_model_name": "LeafletAttributionControlModel",
      "_view_count": null,
      "_view_module": "jupyter-leaflet",
      "_view_module_version": "^0.19",
      "_view_name": "LeafletAttributionControlView",
      "options": [
       "position",
       "prefix"
      ],
      "position": "bottomright",
      "prefix": "ipyleaflet"
     }
    },
    "9a757aed38694ff883c4b8a64c7985e4": {
     "model_module": "jupyter-leaflet",
     "model_module_version": "^0.19",
     "model_name": "LeafletZoomControlModel",
     "state": {
      "_model_module": "jupyter-leaflet",
      "_model_module_version": "^0.19",
      "_model_name": "LeafletZoomControlModel",
      "_view_count": null,
      "_view_module": "jupyter-leaflet",
      "_view_module_version": "^0.19",
      "_view_name": "LeafletZoomControlView",
      "options": [
       "position",
       "zoom_in_text",
       "zoom_in_title",
       "zoom_out_text",
       "zoom_out_title"
      ],
      "position": "topleft",
      "zoom_in_text": "+",
      "zoom_in_title": "Zoom in",
      "zoom_out_text": "-",
      "zoom_out_title": "Zoom out"
     }
    },
    "9db59ba2b66e49f8a95bbee76c91e1a1": {
     "model_module": "jupyter-leaflet",
     "model_module_version": "^0.19",
     "model_name": "LeafletDrawControlModel",
     "state": {
      "_model_module": "jupyter-leaflet",
      "_model_module_version": "^0.19",
      "_model_name": "LeafletDrawControlModel",
      "_view_count": null,
      "_view_module": "jupyter-leaflet",
      "_view_module_version": "^0.19",
      "_view_name": "LeafletDrawControlView",
      "circle": {},
      "circlemarker": {
       "shapeOptions": {}
      },
      "data": [
       {
        "geometry": {
         "coordinates": [
          103.864112,
          1.304041
         ],
         "type": "Point"
        },
        "properties": {
         "style": {
          "clickable": true,
          "color": "#3388ff",
          "fill": true,
          "fillColor": null,
          "fillOpacity": 0.2,
          "icon": {
           "_initHooksCalled": true,
           "options": {}
          },
          "opacity": 0.5,
          "repeatMode": false,
          "shapeOptions": {},
          "stroke": true,
          "weight": 4,
          "zIndexOffset": 2000
         }
        },
        "type": "Feature"
       }
      ],
      "edit": true,
      "marker": {},
      "options": [
       "position"
      ],
      "polygon": {},
      "polyline": {},
      "position": "topleft",
      "rectangle": {},
      "remove": true
     }
    },
    "a1f4ed7d969643af890160d433791b2f": {
     "model_module": "jupyter-leaflet",
     "model_module_version": "^0.19",
     "model_name": "LeafletRectangleModel",
     "state": {
      "_model_module": "jupyter-leaflet",
      "_model_module_version": "^0.19",
      "_model_name": "LeafletRectangleModel",
      "_view_count": null,
      "_view_module": "jupyter-leaflet",
      "_view_module_version": "^0.19",
      "_view_name": "LeafletRectangleView",
      "base": false,
      "bottom": false,
      "bounds": [
       [
        1.3063019119138002,
        103.86186563388924
       ],
       [
        1.3017800880454342,
        103.86635836611077
       ]
      ],
      "color": "red",
      "dash_array": null,
      "draggable": false,
      "fill": true,
      "fill_color": "red",
      "fill_opacity": 0.2,
      "line_cap": "round",
      "line_join": "round",
      "locations": [],
      "name": "",
      "no_clip": true,
      "opacity": 1,
      "options": [
       "color",
       "dash_array",
       "draggable",
       "fill",
       "fill_color",
       "fill_opacity",
       "line_cap",
       "line_join",
       "no_clip",
       "opacity",
       "pointer_events",
       "smooth_factor",
       "stroke",
       "transform",
       "weight"
      ],
      "pane": "",
      "pointer_events": "",
      "popup": null,
      "popup_max_height": null,
      "popup_max_width": 300,
      "popup_min_width": 50,
      "rotation": true,
      "scaling": true,
      "smooth_factor": 1,
      "stroke": true,
      "subitems": [],
      "transform": false,
      "uniform_scaling": false,
      "weight": 5
     }
    },
    "b96a1de8e11e4a86aa8fd507fb5dc489": {
     "model_module": "jupyter-leaflet",
     "model_module_version": "^0.19",
     "model_name": "LeafletMapStyleModel",
     "state": {
      "_model_module": "jupyter-leaflet",
      "_model_module_version": "^0.19",
      "_model_name": "LeafletMapStyleModel",
      "_view_count": null,
      "_view_module": "@jupyter-widgets/base",
      "_view_module_version": "1.2.0",
      "_view_name": "StyleView",
      "cursor": "grab"
     }
    },
    "bb4ef23c7591404387c030ac01fda6a5": {
     "model_module": "jupyter-leaflet",
     "model_module_version": "^0.19",
     "model_name": "LeafletZoomControlModel",
     "state": {
      "_model_module": "jupyter-leaflet",
      "_model_module_version": "^0.19",
      "_model_name": "LeafletZoomControlModel",
      "_view_count": null,
      "_view_module": "jupyter-leaflet",
      "_view_module_version": "^0.19",
      "_view_name": "LeafletZoomControlView",
      "options": [
       "position",
       "zoom_in_text",
       "zoom_in_title",
       "zoom_out_text",
       "zoom_out_title"
      ],
      "position": "topleft",
      "zoom_in_text": "+",
      "zoom_in_title": "Zoom in",
      "zoom_out_text": "-",
      "zoom_out_title": "Zoom out"
     }
    },
    "d3a226a60cc54a328cdd5000e6fd5ae0": {
     "model_module": "jupyter-leaflet",
     "model_module_version": "^0.19",
     "model_name": "LeafletMapStyleModel",
     "state": {
      "_model_module": "jupyter-leaflet",
      "_model_module_version": "^0.19",
      "_model_name": "LeafletMapStyleModel",
      "_view_count": null,
      "_view_module": "@jupyter-widgets/base",
      "_view_module_version": "1.2.0",
      "_view_name": "StyleView",
      "cursor": "grab"
     }
    },
    "d7ac8adec6cc4c41ad2dde54884a6bee": {
     "model_module": "@jupyter-widgets/base",
     "model_module_version": "1.2.0",
     "model_name": "LayoutModel",
     "state": {
      "_model_module": "@jupyter-widgets/base",
      "_model_module_version": "1.2.0",
      "_model_name": "LayoutModel",
      "_view_count": null,
      "_view_module": "@jupyter-widgets/base",
      "_view_module_version": "1.2.0",
      "_view_name": "LayoutView",
      "align_content": null,
      "align_items": null,
      "align_self": null,
      "border": null,
      "bottom": null,
      "display": null,
      "flex": null,
      "flex_flow": null,
      "grid_area": null,
      "grid_auto_columns": null,
      "grid_auto_flow": null,
      "grid_auto_rows": null,
      "grid_column": null,
      "grid_gap": null,
      "grid_row": null,
      "grid_template_areas": null,
      "grid_template_columns": null,
      "grid_template_rows": null,
      "height": null,
      "justify_content": null,
      "justify_items": null,
      "left": null,
      "margin": null,
      "max_height": null,
      "max_width": null,
      "min_height": null,
      "min_width": null,
      "object_fit": null,
      "object_position": null,
      "order": null,
      "overflow": null,
      "overflow_x": null,
      "overflow_y": null,
      "padding": null,
      "right": null,
      "top": null,
      "visibility": null,
      "width": null
     }
    },
    "d9cf530ff07f4316b19fa42d680c6833": {
     "model_module": "jupyter-leaflet",
     "model_module_version": "^0.19",
     "model_name": "LeafletTileLayerModel",
     "state": {
      "_model_module": "jupyter-leaflet",
      "_model_module_version": "^0.19",
      "_model_name": "LeafletTileLayerModel",
      "_view_count": null,
      "_view_module": "jupyter-leaflet",
      "_view_module_version": "^0.19",
      "_view_name": "LeafletTileLayerView",
      "attribution": "&copy; <a href=\"https://www.openstreetmap.org/copyright\">OpenStreetMap</a> contributors",
      "base": true,
      "bottom": true,
      "bounds": null,
      "detect_retina": false,
      "loading": false,
      "max_native_zoom": null,
      "max_zoom": 19,
      "min_native_zoom": null,
      "min_zoom": 1,
      "name": "OpenStreetMap.Mapnik",
      "no_wrap": false,
      "opacity": 1,
      "options": [
       "attribution",
       "bounds",
       "detect_retina",
       "max_native_zoom",
       "max_zoom",
       "min_native_zoom",
       "min_zoom",
       "no_wrap",
       "tile_size",
       "tms",
       "zoom_offset"
      ],
      "pane": "",
      "popup": null,
      "popup_max_height": null,
      "popup_max_width": 300,
      "popup_min_width": 50,
      "show_loading": false,
      "subitems": [],
      "tile_size": 256,
      "tms": false,
      "url": "https://tile.openstreetmap.org/{z}/{x}/{y}.png",
      "visible": true,
      "zoom_offset": 0
     }
    },
    "e081b3c251e34c71b547fef95af8b796": {
     "model_module": "jupyter-leaflet",
     "model_module_version": "^0.19",
     "model_name": "LeafletMapStyleModel",
     "state": {
      "_model_module": "jupyter-leaflet",
      "_model_module_version": "^0.19",
      "_model_name": "LeafletMapStyleModel",
      "_view_count": null,
      "_view_module": "@jupyter-widgets/base",
      "_view_module_version": "1.2.0",
      "_view_name": "StyleView",
      "cursor": "grab"
     }
    },
    "f08e0f82d8114978a59c3a45f1ea3b41": {
     "model_module": "jupyter-leaflet",
     "model_module_version": "^0.19",
     "model_name": "LeafletMapStyleModel",
     "state": {
      "_model_module": "jupyter-leaflet",
      "_model_module_version": "^0.19",
      "_model_name": "LeafletMapStyleModel",
      "_view_count": null,
      "_view_module": "@jupyter-widgets/base",
      "_view_module_version": "1.2.0",
      "_view_name": "StyleView",
      "cursor": "grab"
     }
    }
   }
  }
 },
 "nbformat": 4,
 "nbformat_minor": 0
}
