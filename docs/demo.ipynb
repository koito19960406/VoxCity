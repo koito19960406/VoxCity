{
 "cells": [
  {
   "cell_type": "markdown",
   "metadata": {
    "id": "xsJJaZ01T6JH"
   },
   "source": [
    "# **VoxelCity Demo**"
   ]
  },
  {
   "cell_type": "markdown",
   "metadata": {
    "id": "B24u-0E7UIo7"
   },
   "source": [
    "You can easily learn how the Python module \"VoxelCity\" works by following this demo.\n",
    "\n",
    "Please execute cells from Step 1 to Step 5 by clicking the ▶️ icons.\n",
    "\n",
    "It is important to note that you need to choose either Option 1 or Option 2 in Step 2 and execute only one.\n",
    "\n",
    "Also, you need to set up your Earth Engine enabled Cloud Project to use VoxelCity. The instructions on how to set it up are detailed here: https://developers.google.com/earth-engine/cloud/earthengine_cloud_project_setup"
   ]
  },
  {
   "cell_type": "markdown",
   "metadata": {
    "id": "KBEOxqh0-WjR"
   },
   "source": [
    "# Step1. Prepare environment"
   ]
  },
  {
   "cell_type": "code",
   "execution_count": 25,
   "metadata": {
    "cellView": "form",
    "colab": {
     "base_uri": "https://localhost:8080/"
    },
    "executionInfo": {
     "elapsed": 26525,
     "status": "ok",
     "timestamp": 1727916480835,
     "user": {
      "displayName": "Kunihiko Fujiwara",
      "userId": "03970325715211983816"
     },
     "user_tz": -480
    },
    "id": "3xwczicBFTUe",
    "outputId": "57049b15-09db-4997-c28b-a5290bdde77d"
   },
   "outputs": [
    {
     "data": {
      "text/html": [
       "\n",
       "            <style>\n",
       "                .geemap-dark {\n",
       "                    --jp-widgets-color: white;\n",
       "                    --jp-widgets-label-color: white;\n",
       "                    --jp-ui-font-color1: white;\n",
       "                    --jp-layout-color2: #454545;\n",
       "                    background-color: #383838;\n",
       "                }\n",
       "\n",
       "                .geemap-dark .jupyter-button {\n",
       "                    --jp-layout-color3: #383838;\n",
       "                }\n",
       "\n",
       "                .geemap-colab {\n",
       "                    background-color: var(--colab-primary-surface-color, white);\n",
       "                }\n",
       "\n",
       "                .geemap-colab .jupyter-button {\n",
       "                    --jp-layout-color3: var(--colab-primary-surface-color, white);\n",
       "                }\n",
       "            </style>\n",
       "            "
      ],
      "text/plain": [
       "<IPython.core.display.HTML object>"
      ]
     },
     "metadata": {},
     "output_type": "display_data"
    }
   ],
   "source": [
    "#@title Install VoxelCity\n",
    "# !pip install voxelcity"
   ]
  },
  {
   "cell_type": "code",
   "execution_count": null,
   "metadata": {},
   "outputs": [
    {
     "data": {
      "text/html": [
       "\n",
       "            <style>\n",
       "                .geemap-dark {\n",
       "                    --jp-widgets-color: white;\n",
       "                    --jp-widgets-label-color: white;\n",
       "                    --jp-ui-font-color1: white;\n",
       "                    --jp-layout-color2: #454545;\n",
       "                    background-color: #383838;\n",
       "                }\n",
       "\n",
       "                .geemap-dark .jupyter-button {\n",
       "                    --jp-layout-color3: #383838;\n",
       "                }\n",
       "\n",
       "                .geemap-colab {\n",
       "                    background-color: var(--colab-primary-surface-color, white);\n",
       "                }\n",
       "\n",
       "                .geemap-colab .jupyter-button {\n",
       "                    --jp-layout-color3: var(--colab-primary-surface-color, white);\n",
       "                }\n",
       "            </style>\n",
       "            "
      ],
      "text/plain": [
       "<IPython.core.display.HTML object>"
      ]
     },
     "metadata": {},
     "output_type": "display_data"
    },
    {
     "name": "stdout",
     "output_type": "stream",
     "text": [
      "Authenticate: Credentials already exist.  Use --force to refresh.\n"
     ]
    }
   ],
   "source": [
    "#@title Authenticate Google Earth Engine on local environment\n",
    "!earthengine authenticate\n",
    "\n",
    "import ee\n",
    "ee.Authenticate()\n",
    "ee.Initialize(project='ee-kunihiko92150920research')"
   ]
  },
  {
   "cell_type": "markdown",
   "metadata": {
    "id": "GQaebhqM-2vS"
   },
   "source": [
    "# Step2. Set target area by a rectangle"
   ]
  },
  {
   "cell_type": "code",
   "execution_count": 42,
   "metadata": {
    "cellView": "form",
    "executionInfo": {
     "elapsed": 322,
     "status": "ok",
     "timestamp": 1727916570492,
     "user": {
      "displayName": "Kunihiko Fujiwara",
      "userId": "03970325715211983816"
     },
     "user_tz": -480
    },
    "id": "Nra9xPrSerQr"
   },
   "outputs": [
    {
     "data": {
      "text/html": [
       "\n",
       "            <style>\n",
       "                .geemap-dark {\n",
       "                    --jp-widgets-color: white;\n",
       "                    --jp-widgets-label-color: white;\n",
       "                    --jp-ui-font-color1: white;\n",
       "                    --jp-layout-color2: #454545;\n",
       "                    background-color: #383838;\n",
       "                }\n",
       "\n",
       "                .geemap-dark .jupyter-button {\n",
       "                    --jp-layout-color3: #383838;\n",
       "                }\n",
       "\n",
       "                .geemap-colab {\n",
       "                    background-color: var(--colab-primary-surface-color, white);\n",
       "                }\n",
       "\n",
       "                .geemap-colab .jupyter-button {\n",
       "                    --jp-layout-color3: var(--colab-primary-surface-color, white);\n",
       "                }\n",
       "            </style>\n",
       "            "
      ],
      "text/plain": [
       "<IPython.core.display.HTML object>"
      ]
     },
     "metadata": {},
     "output_type": "display_data"
    }
   ],
   "source": [
    "#@title Set target city (you need to fill in required values before executing!)\n",
    "cityname = \"tokyo\" #@param {type:\"string\"}"
   ]
  },
  {
   "cell_type": "markdown",
   "metadata": {
    "id": "pxm6MLF0_Je5"
   },
   "source": [
    "## Option1 Draw a rectangle directly"
   ]
  },
  {
   "cell_type": "code",
   "execution_count": 9,
   "metadata": {
    "cellView": "form",
    "colab": {
     "base_uri": "https://localhost:8080/",
     "height": 421,
     "referenced_widgets": [
      "4331ec93404a4bb7829aeccf767f009f",
      "bb4ef23c7591404387c030ac01fda6a5",
      "89a847ecd1db40c88bf8000863996476",
      "1ee31ad06e0a4a0aa83f59786b3a884a",
      "f08e0f82d8114978a59c3a45f1ea3b41",
      "4eb70ec0199948439bc87c3bef920b37",
      "d9cf530ff07f4316b19fa42d680c6833",
      "5b88e4c15d744e9d94b961d8df8ec3bd",
      "b96a1de8e11e4a86aa8fd507fb5dc489"
     ]
    },
    "executionInfo": {
     "elapsed": 4328,
     "status": "ok",
     "timestamp": 1727013776272,
     "user": {
      "displayName": "Kunihiko Fujiwara",
      "userId": "03970325715211983816"
     },
     "user_tz": -480
    },
    "id": "xm2NcICP_6GF",
    "outputId": "9657fab9-a9ff-449e-d2d9-df61c55cd9cf"
   },
   "outputs": [
    {
     "data": {
      "text/html": [
       "\n",
       "            <style>\n",
       "                .geemap-dark {\n",
       "                    --jp-widgets-color: white;\n",
       "                    --jp-widgets-label-color: white;\n",
       "                    --jp-ui-font-color1: white;\n",
       "                    --jp-layout-color2: #454545;\n",
       "                    background-color: #383838;\n",
       "                }\n",
       "\n",
       "                .geemap-dark .jupyter-button {\n",
       "                    --jp-layout-color3: #383838;\n",
       "                }\n",
       "\n",
       "                .geemap-colab {\n",
       "                    background-color: var(--colab-primary-surface-color, white);\n",
       "                }\n",
       "\n",
       "                .geemap-colab .jupyter-button {\n",
       "                    --jp-layout-color3: var(--colab-primary-surface-color, white);\n",
       "                }\n",
       "            </style>\n",
       "            "
      ],
      "text/plain": [
       "<IPython.core.display.HTML object>"
      ]
     },
     "metadata": {},
     "output_type": "display_data"
    },
    {
     "data": {
      "application/vnd.jupyter.widget-view+json": {
       "model_id": "be8ee144503e42a2ab089f4bce61d512",
       "version_major": 2,
       "version_minor": 0
      },
      "text/plain": [
       "Map(center=[52.3730796, 4.8924534], controls=(ZoomControl(options=['position', 'zoom_in_text', 'zoom_in_title'…"
      ]
     },
     "execution_count": 9,
     "metadata": {},
     "output_type": "execute_result"
    },
    {
     "name": "stdout",
     "output_type": "stream",
     "text": [
      "Vertices of the drawn rectangle:\n",
      "Longitude: 4.887843, Latitude: 52.370516\n",
      "Longitude: 4.887843, Latitude: 52.375992\n",
      "Longitude: 4.897156, Latitude: 52.375992\n",
      "Longitude: 4.897156, Latitude: 52.370516\n"
     ]
    }
   ],
   "source": [
    "#@title Draw a rectangle on a map (Click ■ on the left side, then click the north west corner and the south east corner of the rectangle.)\n",
    "from voxelcity.geo.draw import draw_rectangle_map_cityname\n",
    "\n",
    "m, rectangle_vertices = draw_rectangle_map_cityname(cityname, zoom=15)\n",
    "m"
   ]
  },
  {
   "cell_type": "markdown",
   "metadata": {
    "id": "MP_EIVXV_63L"
   },
   "source": [
    "##Option2 Set the center location and the width [m] (east-west) and height [m] (nort-south)"
   ]
  },
  {
   "cell_type": "code",
   "execution_count": 43,
   "metadata": {
    "cellView": "form",
    "executionInfo": {
     "elapsed": 305,
     "status": "ok",
     "timestamp": 1727916574328,
     "user": {
      "displayName": "Kunihiko Fujiwara",
      "userId": "03970325715211983816"
     },
     "user_tz": -480
    },
    "id": "0SR5Ly3eBhfl"
   },
   "outputs": [
    {
     "data": {
      "text/html": [
       "\n",
       "            <style>\n",
       "                .geemap-dark {\n",
       "                    --jp-widgets-color: white;\n",
       "                    --jp-widgets-label-color: white;\n",
       "                    --jp-ui-font-color1: white;\n",
       "                    --jp-layout-color2: #454545;\n",
       "                    background-color: #383838;\n",
       "                }\n",
       "\n",
       "                .geemap-dark .jupyter-button {\n",
       "                    --jp-layout-color3: #383838;\n",
       "                }\n",
       "\n",
       "                .geemap-colab {\n",
       "                    background-color: var(--colab-primary-surface-color, white);\n",
       "                }\n",
       "\n",
       "                .geemap-colab .jupyter-button {\n",
       "                    --jp-layout-color3: var(--colab-primary-surface-color, white);\n",
       "                }\n",
       "            </style>\n",
       "            "
      ],
      "text/plain": [
       "<IPython.core.display.HTML object>"
      ]
     },
     "metadata": {},
     "output_type": "display_data"
    }
   ],
   "source": [
    "#@title Set width (m) and height (m) (you need to fill in required values before executing!)\n",
    "width = 500 #@param {type:\"number\"}\n",
    "height = 500 #@param {type:\"number\"}"
   ]
  },
  {
   "cell_type": "code",
   "execution_count": 44,
   "metadata": {
    "colab": {
     "base_uri": "https://localhost:8080/",
     "height": 533,
     "referenced_widgets": [
      "8d047f814ebf4a1f98e1d79783b6636b",
      "9a757aed38694ff883c4b8a64c7985e4",
      "963b8a22063f4d70a192fa3ff178869f",
      "9db59ba2b66e49f8a95bbee76c91e1a1",
      "e081b3c251e34c71b547fef95af8b796",
      "58da19d4c48a4960a08567bd2f5c2911",
      "00d54f381cb247559a88ef8bf695ac1a",
      "d7ac8adec6cc4c41ad2dde54884a6bee",
      "d3a226a60cc54a328cdd5000e6fd5ae0",
      "a1f4ed7d969643af890160d433791b2f"
     ]
    },
    "executionInfo": {
     "elapsed": 5744,
     "status": "ok",
     "timestamp": 1727916581753,
     "user": {
      "displayName": "Kunihiko Fujiwara",
      "userId": "03970325715211983816"
     },
     "user_tz": -480
    },
    "id": "4jf5xarPGCiT",
    "outputId": "5498f9f6-da31-4a90-b8c0-92ba8e6e03fa"
   },
   "outputs": [
    {
     "data": {
      "text/html": [
       "\n",
       "            <style>\n",
       "                .geemap-dark {\n",
       "                    --jp-widgets-color: white;\n",
       "                    --jp-widgets-label-color: white;\n",
       "                    --jp-ui-font-color1: white;\n",
       "                    --jp-layout-color2: #454545;\n",
       "                    background-color: #383838;\n",
       "                }\n",
       "\n",
       "                .geemap-dark .jupyter-button {\n",
       "                    --jp-layout-color3: #383838;\n",
       "                }\n",
       "\n",
       "                .geemap-colab {\n",
       "                    background-color: var(--colab-primary-surface-color, white);\n",
       "                }\n",
       "\n",
       "                .geemap-colab .jupyter-button {\n",
       "                    --jp-layout-color3: var(--colab-primary-surface-color, white);\n",
       "                }\n",
       "            </style>\n",
       "            "
      ],
      "text/plain": [
       "<IPython.core.display.HTML object>"
      ]
     },
     "metadata": {},
     "output_type": "display_data"
    },
    {
     "data": {
      "application/vnd.jupyter.widget-view+json": {
       "model_id": "16f29b1af8374a4eb8b83e6a1bdbb006",
       "version_major": 2,
       "version_minor": 0
      },
      "text/plain": [
       "Map(center=[35.6768601, 139.7638947], controls=(ZoomControl(options=['position', 'zoom_in_text', 'zoom_in_titl…"
      ]
     },
     "execution_count": 44,
     "metadata": {},
     "output_type": "execute_result"
    },
    {
     "name": "stdout",
     "output_type": "stream",
     "text": [
      "Point drawn at Latitude: 35.673544, Longitude: 139.759183\n",
      "Rectangle vertices:\n",
      "Latitude: 35.671290792464255, Longitude: 139.7564216011559\n",
      "Latitude: 35.67579720669077, Longitude: 139.7564216011559\n",
      "Latitude: 35.67579720669077, Longitude: 139.76194439884412\n",
      "Latitude: 35.671290792464255, Longitude: 139.76194439884412\n"
     ]
    }
   ],
   "source": [
    "#@title Draw a center point (circlemarker) on a map (Click ○ on the left side and then click the center location on the map.)\n",
    "from voxelcity.geo.draw import center_location_map_cityname\n",
    "\n",
    "m, rectangle_vertices = center_location_map_cityname(cityname, width, height, zoom=15)\n",
    "m"
   ]
  },
  {
   "cell_type": "code",
   "execution_count": 36,
   "metadata": {},
   "outputs": [
    {
     "data": {
      "text/html": [
       "\n",
       "            <style>\n",
       "                .geemap-dark {\n",
       "                    --jp-widgets-color: white;\n",
       "                    --jp-widgets-label-color: white;\n",
       "                    --jp-ui-font-color1: white;\n",
       "                    --jp-layout-color2: #454545;\n",
       "                    background-color: #383838;\n",
       "                }\n",
       "\n",
       "                .geemap-dark .jupyter-button {\n",
       "                    --jp-layout-color3: #383838;\n",
       "                }\n",
       "\n",
       "                .geemap-colab {\n",
       "                    background-color: var(--colab-primary-surface-color, white);\n",
       "                }\n",
       "\n",
       "                .geemap-colab .jupyter-button {\n",
       "                    --jp-layout-color3: var(--colab-primary-surface-color, white);\n",
       "                }\n",
       "            </style>\n",
       "            "
      ],
      "text/plain": [
       "<IPython.core.display.HTML object>"
      ]
     },
     "metadata": {},
     "output_type": "display_data"
    }
   ],
   "source": [
    "#eubucco.py\n",
    "rectangle_vertices = [(49.60903223400548, 6.1256568534699705),\n",
    " (49.61352776511707, 6.1256568534699705),\n",
    " (49.61352776511707, 6.132575146530029),\n",
    " (49.60903223400548, 6.132575146530029)]"
   ]
  },
  {
   "cell_type": "code",
   "execution_count": 46,
   "metadata": {},
   "outputs": [
    {
     "data": {
      "text/html": [
       "\n",
       "            <style>\n",
       "                .geemap-dark {\n",
       "                    --jp-widgets-color: white;\n",
       "                    --jp-widgets-label-color: white;\n",
       "                    --jp-ui-font-color1: white;\n",
       "                    --jp-layout-color2: #454545;\n",
       "                    background-color: #383838;\n",
       "                }\n",
       "\n",
       "                .geemap-dark .jupyter-button {\n",
       "                    --jp-layout-color3: #383838;\n",
       "                }\n",
       "\n",
       "                .geemap-colab {\n",
       "                    background-color: var(--colab-primary-surface-color, white);\n",
       "                }\n",
       "\n",
       "                .geemap-colab .jupyter-button {\n",
       "                    --jp-layout-color3: var(--colab-primary-surface-color, white);\n",
       "                }\n",
       "            </style>\n",
       "            "
      ],
      "text/plain": [
       "<IPython.core.display.HTML object>"
      ]
     },
     "metadata": {},
     "output_type": "display_data"
    }
   ],
   "source": [
    "#oemj.py\n",
    "rectangle_vertices = [(35.671290792464255, 139.7564216011559),\n",
    " (35.67579720669077, 139.7564216011559),\n",
    " (35.67579720669077, 139.76194439884412),\n",
    " (35.671290792464255, 139.76194439884412)]"
   ]
  },
  {
   "cell_type": "code",
   "execution_count": 2,
   "metadata": {},
   "outputs": [],
   "source": [
    "#mbfp.py, overture.py, osm.py, urbanwatch.py, gee.py, omt.py\n",
    "rectangle_vertices = [(47.59830044521263, -122.33587348582083),\n",
    " (47.60279755390168, -122.33587348582083),\n",
    " (47.60279755390168, -122.32922451417917),\n",
    " (47.59830044521263, -122.32922451417917)]"
   ]
  },
  {
   "cell_type": "code",
   "execution_count": 45,
   "metadata": {},
   "outputs": [
    {
     "data": {
      "text/html": [
       "\n",
       "            <style>\n",
       "                .geemap-dark {\n",
       "                    --jp-widgets-color: white;\n",
       "                    --jp-widgets-label-color: white;\n",
       "                    --jp-ui-font-color1: white;\n",
       "                    --jp-layout-color2: #454545;\n",
       "                    background-color: #383838;\n",
       "                }\n",
       "\n",
       "                .geemap-dark .jupyter-button {\n",
       "                    --jp-layout-color3: #383838;\n",
       "                }\n",
       "\n",
       "                .geemap-colab {\n",
       "                    background-color: var(--colab-primary-surface-color, white);\n",
       "                }\n",
       "\n",
       "                .geemap-colab .jupyter-button {\n",
       "                    --jp-layout-color3: var(--colab-primary-surface-color, white);\n",
       "                }\n",
       "            </style>\n",
       "            "
      ],
      "text/plain": [
       "<IPython.core.display.HTML object>"
      ]
     },
     "metadata": {},
     "output_type": "display_data"
    },
    {
     "data": {
      "text/plain": [
       "[(35.671290792464255, 139.7564216011559),\n",
       " (35.67579720669077, 139.7564216011559),\n",
       " (35.67579720669077, 139.76194439884412),\n",
       " (35.671290792464255, 139.76194439884412)]"
      ]
     },
     "execution_count": 45,
     "metadata": {},
     "output_type": "execute_result"
    }
   ],
   "source": [
    "rectangle_vertices"
   ]
  },
  {
   "cell_type": "markdown",
   "metadata": {
    "id": "mBdaDdW4D5_4"
   },
   "source": [
    "# Step3 Set variables"
   ]
  },
  {
   "cell_type": "code",
   "execution_count": 37,
   "metadata": {
    "cellView": "form",
    "colab": {
     "base_uri": "https://localhost:8080/",
     "height": 17
    },
    "executionInfo": {
     "elapsed": 308,
     "status": "ok",
     "timestamp": 1727916597393,
     "user": {
      "displayName": "Kunihiko Fujiwara",
      "userId": "03970325715211983816"
     },
     "user_tz": -480
    },
    "id": "XYyT56LGfS2e",
    "outputId": "645e1125-9829-48f4-b0e3-a16920e05d50"
   },
   "outputs": [
    {
     "data": {
      "text/html": [
       "\n",
       "            <style>\n",
       "                .geemap-dark {\n",
       "                    --jp-widgets-color: white;\n",
       "                    --jp-widgets-label-color: white;\n",
       "                    --jp-ui-font-color1: white;\n",
       "                    --jp-layout-color2: #454545;\n",
       "                    background-color: #383838;\n",
       "                }\n",
       "\n",
       "                .geemap-dark .jupyter-button {\n",
       "                    --jp-layout-color3: #383838;\n",
       "                }\n",
       "\n",
       "                .geemap-colab {\n",
       "                    background-color: var(--colab-primary-surface-color, white);\n",
       "                }\n",
       "\n",
       "                .geemap-colab .jupyter-button {\n",
       "                    --jp-layout-color3: var(--colab-primary-surface-color, white);\n",
       "                }\n",
       "            </style>\n",
       "            "
      ],
      "text/plain": [
       "<IPython.core.display.HTML object>"
      ]
     },
     "metadata": {},
     "output_type": "display_data"
    }
   ],
   "source": [
    "#@title Set necessary parameters, data sources and meshsize (m)\n",
    "building_source = 'OpenStreetMap' #@param ['OpenStreetMap', 'Overture', 'EUBUCCO v0.1', 'Open Building 2.5D Temporal', 'Microsoft Building Footprints', 'OpenMapTiles', 'Local file']\n",
    "building_complementary_source = 'None' #@param ['None', 'Open Building 2.5D Temporal', 'Microsoft Building Footprints', 'OpenMapTiles', 'Local file', 'OpenStreetMap', 'Overture', 'EUBUCCO v0.1']\n",
    "land_cover_source = 'OpenStreetMap' #@param ['Urbanwatch', 'OpenEarthMapJapan', 'ESA WorldCover', 'ESRI 10m Annual Land Cover', 'Dynamic World V1', 'OpenStreetMap']\n",
    "canopy_height_source = 'High Resolution 1m Global Canopy Height Maps' #@param ['High Resolution 1m Global Canopy Height Maps', 'ETH Global Sentinel-2 10m Canopy Height (2020)']\n",
    "dem_source = 'DeltaDTM' #@param ['DeltaDTM', 'FABDEM', 'England 1m DTM', 'DEM France 1m', 'AUSTRALIA 5M DEM', 'USGS 3DEP 1m', 'NASA', 'COPERNICUS', 'Flat']\n",
    "meshsize = 5 #@param {type:\"number\"}"
   ]
  },
  {
   "cell_type": "code",
   "execution_count": null,
   "metadata": {},
   "outputs": [
    {
     "data": {
      "text/html": [
       "\n",
       "            <style>\n",
       "                .geemap-dark {\n",
       "                    --jp-widgets-color: white;\n",
       "                    --jp-widgets-label-color: white;\n",
       "                    --jp-ui-font-color1: white;\n",
       "                    --jp-layout-color2: #454545;\n",
       "                    background-color: #383838;\n",
       "                }\n",
       "\n",
       "                .geemap-dark .jupyter-button {\n",
       "                    --jp-layout-color3: #383838;\n",
       "                }\n",
       "\n",
       "                .geemap-colab {\n",
       "                    background-color: var(--colab-primary-surface-color, white);\n",
       "                }\n",
       "\n",
       "                .geemap-colab .jupyter-button {\n",
       "                    --jp-layout-color3: var(--colab-primary-surface-color, white);\n",
       "                }\n",
       "            </style>\n",
       "            "
      ],
      "text/plain": [
       "<IPython.core.display.HTML object>"
      ]
     },
     "metadata": {},
     "output_type": "display_data"
    }
   ],
   "source": [
    "#@title Set optional parameters, data sources and meshsize (m)\n",
    "kwargs = {\n",
    "    # \"building_path\": 'path_to_building_source_file', #To set path to building base data source when you select 'Local file' as building_source.  \n",
    "    # \"building_complementary_path\": 'path_to_building_complemntary_source_file', #To set path to building complementary data source  when you select 'Local file' as building_complementary_source.\n",
    "    # \"building_complementary_source\": building_complementary_source,\n",
    "    # \"complement_polygon\": True, #Set 'True' if you want to incorporate building footprints from building complementary source. Only building footprints that do not have any intersections with footprints from building source are included.\n",
    "    \"output_dir\": 'output/test', #To set directory path for output files \n",
    "    # \"remove_perimeter_object\": 0.1, #Set value more than 0 if you want to remove objects including buildings and trees near to domain boundarys (perimeter). Used mainly for CFD simulation. For instance, when you set 0.1, objects with distances from domain boundaries less than 0.1 * domain width (height) are removed.\n",
    "    # \"gridvis\": True, #Set 'True' if you want to visualize extracted 2D grid data.\n",
    "    # \"mapvis\": False, #Set 'True' if you want to visualize extracted 2D grid data on a basemap. Note that it take longer time than \"gridvis\".\n",
    "    # \"voxelvis\": False, #Set 'True' if you want to visualize generated voxel 3d city model. Note that this visualiztion takes long time if the number of voxels is huge, e.g., more than one million.  \n",
    "    # \"voxelvis_img_save_path\": None, #Set path to save image file of generated voxel 3d city model.\n",
    "    # \"maptiler_API_key\": 'your_API_key', #To set API key of Maptiler when you select 'OpenMapTilse' as building_source.\n",
    "    # \"trunk_height_ratio\": None, #To set ratio of tree trunk height against tree canopy height. Default: 0.59 (11.76 / 19.98).\n",
    "    # \"min_canopy_height\": None, #To set minimum canopy height in meters if you want to exclude trees lower than that height.\n",
    "    \"dem_interpolation\": True, #Set 'True' when mesh size if finer than resolution of dem data source and if you want to use interporation.\n",
    "    # \"dynamic_world_date\": '2021-04-02', #To set date of Dynamic World.\n",
    "    # \"esri_landcover_year\": '2023' #To set year of Esri Land Cover.\n",
    "}"
   ]
  },
  {
   "cell_type": "markdown",
   "metadata": {
    "id": "9hN1OshjE9rF"
   },
   "source": [
    "# Step4 Get voxelcity output"
   ]
  },
  {
   "cell_type": "code",
   "execution_count": 39,
   "metadata": {
    "cellView": "form",
    "colab": {
     "base_uri": "https://localhost:8080/",
     "height": 1000
    },
    "executionInfo": {
     "elapsed": 40594,
     "status": "ok",
     "timestamp": 1727916642938,
     "user": {
      "displayName": "Kunihiko Fujiwara",
      "userId": "03970325715211983816"
     },
     "user_tz": -480
    },
    "id": "ezU8L5KulPNA",
    "outputId": "13a16b47-01af-401d-fe17-a186e4b7add6"
   },
   "outputs": [
    {
     "data": {
      "text/html": [
       "\n",
       "            <style>\n",
       "                .geemap-dark {\n",
       "                    --jp-widgets-color: white;\n",
       "                    --jp-widgets-label-color: white;\n",
       "                    --jp-ui-font-color1: white;\n",
       "                    --jp-layout-color2: #454545;\n",
       "                    background-color: #383838;\n",
       "                }\n",
       "\n",
       "                .geemap-dark .jupyter-button {\n",
       "                    --jp-layout-color3: #383838;\n",
       "                }\n",
       "\n",
       "                .geemap-colab {\n",
       "                    background-color: var(--colab-primary-surface-color, white);\n",
       "                }\n",
       "\n",
       "                .geemap-colab .jupyter-button {\n",
       "                    --jp-layout-color3: var(--colab-primary-surface-color, white);\n",
       "                }\n",
       "            </style>\n",
       "            "
      ],
      "text/plain": [
       "<IPython.core.display.HTML object>"
      ]
     },
     "metadata": {},
     "output_type": "display_data"
    },
    {
     "name": "stdout",
     "output_type": "stream",
     "text": [
      "Creating Land Use Land Cover grid\n",
      " \n",
      "Data source: OpenStreetMap\n",
      "Fetching data from Overpass API...\n",
      "Converting data to GeoJSON format...\n",
      "Adjusted mesh size: (4.999999999987944, 4.999770097530468)\n"
     ]
    },
    {
     "data": {
      "image/png": "[encoded data removed]",
      "text/plain": [
       "<Figure size 1000x1000 with 2 Axes>"
      ]
     },
     "metadata": {},
     "output_type": "display_data"
    },
    {
     "name": "stdout",
     "output_type": "stream",
     "text": [
      "Creating Building Height grid\n",
      " \n",
      "Data source: OpenStreetMap\n"
     ]
    },
    {
     "data": {
      "image/png": "[encoded data removed]",
      "text/plain": [
       "<Figure size 1000x1000 with 2 Axes>"
      ]
     },
     "metadata": {},
     "output_type": "display_data"
    },
    {
     "name": "stdout",
     "output_type": "stream",
     "text": [
      "Creating Canopy Height grid\n",
      " \n",
      "Data source: High Resolution Canopy Height Maps by WRI and Meta\n"
     ]
    },
    {
     "name": "stderr",
     "output_type": "stream",
     "text": [
      "2024-12-09 15:33:50,021 - INFO - HTTP Request: GET https://earthengine.googleapis.com/v1/projects/ee-kunihiko92150920research/maps/4500f437a658380603b3a610b3fb755a-c6f9b3454d2debd9adf6a44ee4962c18/tiles/14/8470/5584 \"HTTP/1.1 200 OK\"\n",
      "2024-12-09 15:33:50,041 - INFO - HTTP Request: GET https://earthengine.googleapis.com/v1/projects/ee-kunihiko92150920research/maps/4500f437a658380603b3a610b3fb755a-c6f9b3454d2debd9adf6a44ee4962c18/tiles/14/8470/5583 \"HTTP/1.1 200 OK\"\n",
      "2024-12-09 15:33:50,044 - INFO - HTTP Request: GET https://earthengine.googleapis.com/v1/projects/ee-kunihiko92150920research/maps/4500f437a658380603b3a610b3fb755a-c6f9b3454d2debd9adf6a44ee4962c18/tiles/14/8471/5584 \"HTTP/1.1 200 OK\"\n"
     ]
    },
    {
     "name": "stdout",
     "output_type": "stream",
     "text": [
      "Downloaded image 1/4\n",
      "Downloaded image 2/4\n"
     ]
    },
    {
     "name": "stderr",
     "output_type": "stream",
     "text": [
      "2024-12-09 15:33:51,037 - INFO - HTTP Request: GET https://earthengine.googleapis.com/v1/projects/ee-kunihiko92150920research/maps/4500f437a658380603b3a610b3fb755a-c6f9b3454d2debd9adf6a44ee4962c18/tiles/14/8471/5583 \"HTTP/1.1 200 OK\"\n",
      "2024-12-09 15:33:51,127 - WARNING - CPLE_AppDefined in PROJ: proj_create_from_database: C:\\Users\\kunih\\anaconda3\\envs\\voxelcity\\Library\\share\\proj\\proj.db contains DATABASE.LAYOUT.VERSION.MINOR = 2 whereas a number >= 3 is expected. It comes from another PROJ installation.\n",
      "2024-12-09 15:33:51,127 - WARNING - CPLE_AppDefined in The definition of projected CRS EPSG:3857 got from GeoTIFF keys is not the same as the one from the EPSG registry, which may cause issues during reprojection operations. Set GTIFF_SRS_SOURCE configuration option to EPSG to use official parameters (overriding the ones from GeoTIFF keys), or to GEOKEYS to use custom values from GeoTIFF keys and drop the EPSG code.\n",
      "2024-12-09 15:33:51,158 - INFO - GDAL signalled an error: err_no=1, msg='PROJ: proj_identify: C:\\\\Users\\\\kunih\\\\anaconda3\\\\envs\\\\voxelcity\\\\Library\\\\share\\\\proj\\\\proj.db contains DATABASE.LAYOUT.VERSION.MINOR = 2 whereas a number >= 3 is expected. It comes from another PROJ installation.'\n",
      "2024-12-09 15:33:51,166 - INFO - GDAL signalled an error: err_no=1, msg='PROJ: proj_identify: C:\\\\Users\\\\kunih\\\\anaconda3\\\\envs\\\\voxelcity\\\\Library\\\\share\\\\proj\\\\proj.db contains DATABASE.LAYOUT.VERSION.MINOR = 2 whereas a number >= 3 is expected. It comes from another PROJ installation.'\n",
      "Reading input: c:\\Users\\kunih\\OneDrive\\00_Codes\\python\\voxelcity_demo\\output\\test\\canopy_height.tif\n",
      "\n",
      "Updating dataset tags...\n"
     ]
    },
    {
     "name": "stdout",
     "output_type": "stream",
     "text": [
      "Downloaded image 3/4\n",
      "Downloaded image 4/4\n",
      "Saving GeoTIFF. Please wait...\n",
      "Image saved to output/test\\canopy_height.tif\n"
     ]
    },
    {
     "name": "stderr",
     "output_type": "stream",
     "text": [
      "Writing output to: c:\\Users\\kunih\\OneDrive\\00_Codes\\python\\voxelcity_demo\\output\\test\\canopy_height.tif\n",
      "2024-12-09 15:33:51,340 - WARNING - CPLE_AppDefined in PROJ: proj_create_from_database: C:\\Users\\kunih\\anaconda3\\envs\\voxelcity\\Library\\share\\proj\\proj.db contains DATABASE.LAYOUT.VERSION.MINOR = 2 whereas a number >= 3 is expected. It comes from another PROJ installation.\n",
      "2024-12-09 15:33:51,348 - WARNING - CPLE_AppDefined in The definition of projected CRS EPSG:3857 got from GeoTIFF keys is not the same as the one from the EPSG registry, which may cause issues during reprojection operations. Set GTIFF_SRS_SOURCE configuration option to EPSG to use official parameters (overriding the ones from GeoTIFF keys), or to GEOKEYS to use custom values from GeoTIFF keys and drop the EPSG code.\n",
      "2024-12-09 15:33:51,348 - INFO - GDAL signalled an error: err_no=1, msg='Deleting c:\\\\Users\\\\kunih\\\\OneDrive\\\\00_Codes\\\\python\\\\voxelcity_demo\\\\output\\\\test\\\\canopy_height.tif failed:\\nPermission denied'\n"
     ]
    },
    {
     "name": "stdout",
     "output_type": "stream",
     "text": [
      "681905.0017026037 6378840.415867058 682675.1425632078 6379612.74483452\n"
     ]
    },
    {
     "data": {
      "image/png": "[encoded data removed]",
      "text/plain": [
       "<Figure size 1000x1000 with 2 Axes>"
      ]
     },
     "metadata": {},
     "output_type": "display_data"
    },
    {
     "name": "stdout",
     "output_type": "stream",
     "text": [
      "Creating Digital Elevation Model (DEM) grid\n",
      " \n",
      "Data source: DeltaDTM\n",
      "Generating URL ...\n",
      "Downloading data from https://earthengine.googleapis.com/v1/projects/ee-kunihiko92150920research/thumbnails/1a585fc58a436c51c41f2e17f3da82a2-ecee91360477d23c8e493fe8a0f2a0a0:getPixels\n",
      "Please wait ...\n"
     ]
    },
    {
     "name": "stderr",
     "output_type": "stream",
     "text": [
      "2024-12-09 15:33:53,973 - WARNING - CPLE_AppDefined in PROJ: proj_create_from_database: C:\\Users\\kunih\\anaconda3\\envs\\voxelcity\\Library\\share\\proj\\proj.db contains DATABASE.LAYOUT.VERSION.MINOR = 2 whereas a number >= 3 is expected. It comes from another PROJ installation.\n",
      "2024-12-09 15:33:53,990 - INFO - GDAL signalled an error: err_no=1, msg='PROJ: proj_identify: C:\\\\Users\\\\kunih\\\\anaconda3\\\\envs\\\\voxelcity\\\\Library\\\\share\\\\proj\\\\proj.db contains DATABASE.LAYOUT.VERSION.MINOR = 2 whereas a number >= 3 is expected. It comes from another PROJ installation.'\n"
     ]
    },
    {
     "name": "stdout",
     "output_type": "stream",
     "text": [
      "Data downloaded to c:\\Users\\kunih\\OneDrive\\00_Codes\\python\\voxelcity_demo\\output\\test\\dem.tif\n"
     ]
    },
    {
     "data": {
      "image/png": "[encoded data removed]",
      "text/plain": [
       "<Figure size 1000x1000 with 2 Axes>"
      ]
     },
     "metadata": {},
     "output_type": "display_data"
    },
    {
     "name": "stdout",
     "output_type": "stream",
     "text": [
      "Generating 3D voxel data\n"
     ]
    }
   ],
   "source": [
    "#@title Obtain grid data integrate it to create voxel data\n",
    "from voxelcity import get_voxelcity\n",
    "\n",
    "voxelcity_grid, building_height_grid, building_min_height_grid, building_id_grid, canopy_height_grid, land_cover_grid, dem_grid, building_geojson = get_voxelcity(\n",
    "    rectangle_vertices, \n",
    "    building_source, \n",
    "    land_cover_source, \n",
    "    canopy_height_source, \n",
    "    dem_source, \n",
    "    meshsize, \n",
    "    **kwargs\n",
    ")"
   ]
  },
  {
   "cell_type": "markdown",
   "metadata": {
    "id": "w3EtplbdGDzC"
   },
   "source": [
    "# Step5 Export files"
   ]
  },
  {
   "cell_type": "code",
   "execution_count": null,
   "metadata": {
    "cellView": "form",
    "colab": {
     "base_uri": "https://localhost:8080/",
     "height": 36
    },
    "executionInfo": {
     "elapsed": 322,
     "status": "ok",
     "timestamp": 1727013936704,
     "user": {
      "displayName": "Kunihiko Fujiwara",
      "userId": "03970325715211983816"
     },
     "user_tz": -480
    },
    "id": "5S2JEkRAQYc7",
    "outputId": "69e3412f-a613-4364-c322-8d3d129a0c03"
   },
   "outputs": [
    {
     "data": {
      "text/html": [
       "\n",
       "            <style>\n",
       "                .geemap-dark {\n",
       "                    --jp-widgets-color: white;\n",
       "                    --jp-widgets-label-color: white;\n",
       "                    --jp-ui-font-color1: white;\n",
       "                    --jp-layout-color2: #454545;\n",
       "                    background-color: #383838;\n",
       "                }\n",
       "\n",
       "                .geemap-dark .jupyter-button {\n",
       "                    --jp-layout-color3: #383838;\n",
       "                }\n",
       "\n",
       "                .geemap-colab {\n",
       "                    background-color: var(--colab-primary-surface-color, white);\n",
       "                }\n",
       "\n",
       "                .geemap-colab .jupyter-button {\n",
       "                    --jp-layout-color3: var(--colab-primary-surface-color, white);\n",
       "                }\n",
       "            </style>\n",
       "            "
      ],
      "text/plain": [
       "<IPython.core.display.HTML object>"
      ]
     },
     "metadata": {},
     "output_type": "display_data"
    }
   ],
   "source": [
    "#@title Export INX file for ENVI-MET\n",
    "from voxelcity.file.envimet import export_inx, generate_edb_file\n",
    "\n",
    "envimet_kwargs = {\n",
    "    \"output_directory\": 'output/test', # To set directory path for output files \n",
    "    \"author_name\": \"enter your name\", # Optional. To set author name in INX.\n",
    "    \"model_description\": \"generated and exported using VoxCity\", # Optional. To desctibe model in INX.\n",
    "    \"domain_building_max_height_ratio\": 2, # Optional. To set ratio between domain height (Z) and maximum height (building + terrain). Default: 2.0.\n",
    "    \"useTelescoping_grid\": True, # Optional. To activate telescoping grid. Default: False.\n",
    "    \"verticalStretch\": 20, # Optional. To set vertical stretch (%). Default: 0%.\n",
    "    \"min_grids_Z\": 20, # Optional. To set minimum number of vertical grid cells (Z-axis). Default: None.\n",
    "    \"lad\": 1.0 # Optional. To set Leaf Area Density (LAD) of trees in m^-1. Default: 1.0 m^-1.\n",
    "}\n",
    "\n",
    "export_inx(building_height_grid, building_id_grid, canopy_height_grid, land_cover_grid, dem_grid, meshsize, land_cover_source, rectangle_vertices, **envimet_kwargs)\n",
    "generate_edb_file(**envimet_kwargs)"
   ]
  },
  {
   "cell_type": "code",
   "execution_count": 20,
   "metadata": {
    "cellView": "form",
    "colab": {
     "base_uri": "https://localhost:8080/",
     "height": 73
    },
    "executionInfo": {
     "elapsed": 325,
     "status": "ok",
     "timestamp": 1727013952145,
     "user": {
      "displayName": "Kunihiko Fujiwara",
      "userId": "03970325715211983816"
     },
     "user_tz": -480
    },
    "id": "K3VmI57vhNPu",
    "outputId": "93b87e51-61ed-47cd-88c1-4c9af1d37a3e"
   },
   "outputs": [
    {
     "data": {
      "text/html": [
       "\n",
       "            <style>\n",
       "                .geemap-dark {\n",
       "                    --jp-widgets-color: white;\n",
       "                    --jp-widgets-label-color: white;\n",
       "                    --jp-ui-font-color1: white;\n",
       "                    --jp-layout-color2: #454545;\n",
       "                    background-color: #383838;\n",
       "                }\n",
       "\n",
       "                .geemap-dark .jupyter-button {\n",
       "                    --jp-layout-color3: #383838;\n",
       "                }\n",
       "\n",
       "                .geemap-colab {\n",
       "                    background-color: var(--colab-primary-surface-color, white);\n",
       "                }\n",
       "\n",
       "                .geemap-colab .jupyter-button {\n",
       "                    --jp-layout-color3: var(--colab-primary-surface-color, white);\n",
       "                }\n",
       "            </style>\n",
       "            "
      ],
      "text/plain": [
       "<IPython.core.display.HTML object>"
      ]
     },
     "metadata": {},
     "output_type": "display_data"
    },
    {
     "name": "stdout",
     "output_type": "stream",
     "text": [
      "Chunk 0_0_0 saved as output/magicavoxel/test_seattle_0_0_0.vox\n",
      "Shape: (100, 13, 100)\n",
      "\tvox files was successfully exported in output/magicavoxel\n"
     ]
    }
   ],
   "source": [
    "#@title Export vox file for MagicaVoxel\n",
    "from voxelcity.file.magicavoxel import export_magicavoxel_vox\n",
    "\n",
    "output_path = f\"output/magicavoxel\"\n",
    "base_filename = f'test_seattle'\n",
    "export_magicavoxel_vox(voxelcity_grid, output_path, base_filename=base_filename)"
   ]
  },
  {
   "cell_type": "code",
   "execution_count": 21,
   "metadata": {},
   "outputs": [
    {
     "data": {
      "text/html": [
       "\n",
       "            <style>\n",
       "                .geemap-dark {\n",
       "                    --jp-widgets-color: white;\n",
       "                    --jp-widgets-label-color: white;\n",
       "                    --jp-ui-font-color1: white;\n",
       "                    --jp-layout-color2: #454545;\n",
       "                    background-color: #383838;\n",
       "                }\n",
       "\n",
       "                .geemap-dark .jupyter-button {\n",
       "                    --jp-layout-color3: #383838;\n",
       "                }\n",
       "\n",
       "                .geemap-colab {\n",
       "                    background-color: var(--colab-primary-surface-color, white);\n",
       "                }\n",
       "\n",
       "                .geemap-colab .jupyter-button {\n",
       "                    --jp-layout-color3: var(--colab-primary-surface-color, white);\n",
       "                }\n",
       "            </style>\n",
       "            "
      ],
      "text/plain": [
       "<IPython.core.display.HTML object>"
      ]
     },
     "metadata": {},
     "output_type": "display_data"
    },
    {
     "name": "stdout",
     "output_type": "stream",
     "text": [
      "OBJ and MTL files have been generated in ./output/test with the base name \"voxcity_test\".\n"
     ]
    }
   ],
   "source": [
    "#@title Export OBJ file\n",
    "\n",
    "from voxelcity.file.obj import export_obj\n",
    "\n",
    "output_directory = './output/test'\n",
    "output_file_name = 'voxcity_test'\n",
    "\n",
    "export_obj(voxelcity_grid, output_directory, output_file_name, meshsize)"
   ]
  },
  {
   "cell_type": "markdown",
   "metadata": {},
   "source": [
    "# Step6 Use cases"
   ]
  },
  {
   "cell_type": "code",
   "execution_count": 41,
   "metadata": {},
   "outputs": [
    {
     "data": {
      "text/html": [
       "\n",
       "            <style>\n",
       "                .geemap-dark {\n",
       "                    --jp-widgets-color: white;\n",
       "                    --jp-widgets-label-color: white;\n",
       "                    --jp-ui-font-color1: white;\n",
       "                    --jp-layout-color2: #454545;\n",
       "                    background-color: #383838;\n",
       "                }\n",
       "\n",
       "                .geemap-dark .jupyter-button {\n",
       "                    --jp-layout-color3: #383838;\n",
       "                }\n",
       "\n",
       "                .geemap-colab {\n",
       "                    background-color: var(--colab-primary-surface-color, white);\n",
       "                }\n",
       "\n",
       "                .geemap-colab .jupyter-button {\n",
       "                    --jp-layout-color3: var(--colab-primary-surface-color, white);\n",
       "                }\n",
       "            </style>\n",
       "            "
      ],
      "text/plain": [
       "<IPython.core.display.HTML object>"
      ]
     },
     "metadata": {},
     "output_type": "display_data"
    },
    {
     "data": {
      "image/png": "[encoded data removed]",
      "text/plain": [
       "<Figure size 1000x800 with 2 Axes>"
      ]
     },
     "metadata": {},
     "output_type": "display_data"
    },
    {
     "name": "stdout",
     "output_type": "stream",
     "text": [
      "OBJ and MTL files have been generated in output/test with the base name \"gvi_test\".\n"
     ]
    },
    {
     "data": {
      "image/png": "[encoded data removed]",
      "text/plain": [
       "<Figure size 1000x800 with 2 Axes>"
      ]
     },
     "metadata": {},
     "output_type": "display_data"
    },
    {
     "name": "stdout",
     "output_type": "stream",
     "text": [
      "OBJ and MTL files have been generated in output/test with the base name \"svi_test\".\n"
     ]
    }
   ],
   "source": [
    "#@title Simulation of view index\n",
    "\n",
    "from voxelcity.sim.view import get_green_view_index, get_sky_view_index\n",
    "\n",
    "view_kwargs = {\n",
    "    \"view_point_height\": 1.5, # To set height of view point in meters. Default: 1.5 m.\n",
    "    \"dem_grid\": dem_grid,\n",
    "    \"colormap\": 'viridis', # Choose a colormap. Default: 'viridis'.\n",
    "    \"obj_export\": True, # Set \"True\" if you export the result in an OBJ file.\n",
    "    \"output_directory\": 'output/test', # To set directory path for output files. Default: False.\n",
    "    \"output_file_name\": 'gvi_test', # To set file name excluding extension. Default: 'view_index.\n",
    "    \"num_colors\": 10, # Number of discrete colors\n",
    "    \"alpha\": 1.0, # Set transparency (0.0 to 1.0)\n",
    "    \"vmin\": 0.0, # Minimum value for colormap normalization\n",
    "    \"vmax\": 1.0 # Maximum value for colormap normalization\n",
    "}\n",
    "gvi_grid = get_green_view_index(voxelcity_grid, meshsize, **view_kwargs)\n",
    "\n",
    "view_kwargs = {\n",
    "    \"view_point_height\": 1.5, # To set height of view point in meters. Default: 1.5 m.\n",
    "    \"dem_grid\": dem_grid,\n",
    "    \"colormap\": 'BuPu_r', # Choose a colormap.  Default: 'viridis'.\n",
    "    \"obj_export\": True, # Set \"True\" if you export the result in an OBJ file.\n",
    "    \"output_directory\": 'output/test', # To set directory path for output files. Default: False.\n",
    "    \"output_file_name\": 'svi_test', # To set file name excluding extension. Default: 'view_index.\n",
    "    \"num_colors\": 10, # Number of discrete colors in OBJ file. Default: 10.\n",
    "    \"alpha\": 1.0, # Set transparency (0.0 to 1.0)\n",
    "    \"vmin\": 0.0, # Minimum value for colormap normalization\n",
    "    \"vmax\": 1.0 # Maximum value for colormap normalization\n",
    "}\n",
    "svi_grid = get_sky_view_index(voxelcity_grid, meshsize, **view_kwargs)"
   ]
  },
  {
   "cell_type": "code",
   "execution_count": 40,
   "metadata": {},
   "outputs": [
    {
     "data": {
      "text/html": [
       "\n",
       "            <style>\n",
       "                .geemap-dark {\n",
       "                    --jp-widgets-color: white;\n",
       "                    --jp-widgets-label-color: white;\n",
       "                    --jp-ui-font-color1: white;\n",
       "                    --jp-layout-color2: #454545;\n",
       "                    background-color: #383838;\n",
       "                }\n",
       "\n",
       "                .geemap-dark .jupyter-button {\n",
       "                    --jp-layout-color3: #383838;\n",
       "                }\n",
       "\n",
       "                .geemap-colab {\n",
       "                    background-color: var(--colab-primary-surface-color, white);\n",
       "                }\n",
       "\n",
       "                .geemap-colab .jupyter-button {\n",
       "                    --jp-layout-color3: var(--colab-primary-surface-color, white);\n",
       "                }\n",
       "            </style>\n",
       "            "
      ],
      "text/plain": [
       "<IPython.core.display.HTML object>"
      ]
     },
     "metadata": {},
     "output_type": "display_data"
    },
    {
     "data": {
      "image/png": "[encoded data removed]",
      "text/plain": [
       "<Figure size 1000x800 with 1 Axes>"
      ]
     },
     "metadata": {},
     "output_type": "display_data"
    },
    {
     "name": "stdout",
     "output_type": "stream",
     "text": [
      "OBJ and MTL files have been generated in output/test with the base name \"landmark_visibility_test\".\n",
      "OBJ and MTL files have been generated in output/test with the base name \"voxcity_landmark_visibility_test\".\n"
     ]
    }
   ],
   "source": [
    "from voxelcity.sim.view import get_landmark_visibility_map\n",
    "\n",
    "landmark_kwargs = {\n",
    "    # \"landmark_building_ids\": [518143060, 34619038, 303446390], # Set building ids of landmark if you want to specify. When you do not input this, building ids at the center of target area are automatically set.\n",
    "    \"view_point_height\": 1.5, # To set height of view point in meters. Default: 1.5 m.\n",
    "    \"rectangle_vertices\": rectangle_vertices,\n",
    "    \"dem_grid\": dem_grid,\n",
    "    \"colormap\": 'cool', # Choose a colormap.  Default: 'viridis'.\n",
    "    \"obj_export\": True, # Set \"True\" if you export the result in an OBJ file.\n",
    "    \"output_directory\": 'output/test', # To set directory path for output files. Default: False.\n",
    "    \"output_file_name\": 'landmark_visibility_test', # To set file name excluding extension. Default: 'view_index.\n",
    "    \"alpha\": 1.0, # Set transparency (0.0 to 1.0)\n",
    "    \"vmin\": 0.0, # Minimum value for colormap normalization\n",
    "    \"vmax\": 1.0 # Maximum value for colormap normalization\n",
    "}\n",
    "\n",
    "landmark_vis_map = get_landmark_visibility_map(voxelcity_grid, building_id_grid, building_geojson, meshsize, **landmark_kwargs)"
   ]
  },
  {
   "cell_type": "code",
   "execution_count": 17,
   "metadata": {},
   "outputs": [
    {
     "data": {
      "text/html": [
       "\n",
       "            <style>\n",
       "                .geemap-dark {\n",
       "                    --jp-widgets-color: white;\n",
       "                    --jp-widgets-label-color: white;\n",
       "                    --jp-ui-font-color1: white;\n",
       "                    --jp-layout-color2: #454545;\n",
       "                    background-color: #383838;\n",
       "                }\n",
       "\n",
       "                .geemap-dark .jupyter-button {\n",
       "                    --jp-layout-color3: #383838;\n",
       "                }\n",
       "\n",
       "                .geemap-colab {\n",
       "                    background-color: var(--colab-primary-surface-color, white);\n",
       "                }\n",
       "\n",
       "                .geemap-colab .jupyter-button {\n",
       "                    --jp-layout-color3: var(--colab-primary-surface-color, white);\n",
       "                }\n",
       "            </style>\n",
       "            "
      ],
      "text/plain": [
       "<IPython.core.display.HTML object>"
      ]
     },
     "metadata": {},
     "output_type": "display_data"
    },
    {
     "data": {
      "text/html": [
       "<div style=\"width:100%;\"><div style=\"position:relative;width:100%;height:0;padding-bottom:60%;\"><span style=\"color:#565656\">Make this Notebook Trusted to load map: File -> Trust Notebook</span><iframe srcdoc=\"&lt;!DOCTYPE html&gt;\n",
       "&lt;html&gt;\n",
       "&lt;head&gt;\n",
       "    \n",
       "    &lt;meta http-equiv=&quot;content-type&quot; content=&quot;text/html; charset=UTF-8&quot; /&gt;\n",
       "    \n",
       "        &lt;script&gt;\n",
       "            L_NO_TOUCH = false;\n",
       "            L_DISABLE_3D = false;\n",
       "        &lt;/script&gt;\n",
       "    \n",
       "    &lt;style&gt;html, body {width: 100%;height: 100%;margin: 0;padding: 0;}&lt;/style&gt;\n",
       "    &lt;style&gt;#map {position:absolute;top:0;bottom:0;right:0;left:0;}&lt;/style&gt;\n",
       "    &lt;script src=&quot;https://cdn.jsdelivr.net/npm/leaflet@1.9.3/dist/leaflet.js&quot;&gt;&lt;/script&gt;\n",
       "    &lt;script src=&quot;https://code.jquery.com/jquery-3.7.1.min.js&quot;&gt;&lt;/script&gt;\n",
       "    &lt;script src=&quot;https://cdn.jsdelivr.net/npm/bootstrap@5.2.2/dist/js/bootstrap.bundle.min.js&quot;&gt;&lt;/script&gt;\n",
       "    &lt;script src=&quot;https://cdnjs.cloudflare.com/ajax/libs/Leaflet.awesome-markers/2.0.2/leaflet.awesome-markers.js&quot;&gt;&lt;/script&gt;\n",
       "    &lt;link rel=&quot;stylesheet&quot; href=&quot;https://cdn.jsdelivr.net/npm/leaflet@1.9.3/dist/leaflet.css&quot;/&gt;\n",
       "    &lt;link rel=&quot;stylesheet&quot; href=&quot;https://cdn.jsdelivr.net/npm/bootstrap@5.2.2/dist/css/bootstrap.min.css&quot;/&gt;\n",
       "    &lt;link rel=&quot;stylesheet&quot; href=&quot;https://netdna.bootstrapcdn.com/bootstrap/3.0.0/css/bootstrap-glyphicons.css&quot;/&gt;\n",
       "    &lt;link rel=&quot;stylesheet&quot; href=&quot;https://cdn.jsdelivr.net/npm/@fortawesome/fontawesome-free@6.2.0/css/all.min.css&quot;/&gt;\n",
       "    &lt;link rel=&quot;stylesheet&quot; href=&quot;https://cdnjs.cloudflare.com/ajax/libs/Leaflet.awesome-markers/2.0.2/leaflet.awesome-markers.css&quot;/&gt;\n",
       "    &lt;link rel=&quot;stylesheet&quot; href=&quot;https://cdn.jsdelivr.net/gh/python-visualization/folium/folium/templates/leaflet.awesome.rotate.min.css&quot;/&gt;\n",
       "    \n",
       "            &lt;meta name=&quot;viewport&quot; content=&quot;width=device-width,\n",
       "                initial-scale=1.0, maximum-scale=1.0, user-scalable=no&quot; /&gt;\n",
       "            &lt;style&gt;\n",
       "                #map_4f70508b57c4e54c27351fc02fde6cc4 {\n",
       "                    position: relative;\n",
       "                    width: 100.0%;\n",
       "                    height: 100.0%;\n",
       "                    left: 0.0%;\n",
       "                    top: 0.0%;\n",
       "                }\n",
       "                .leaflet-container { font-size: 1rem; }\n",
       "            &lt;/style&gt;\n",
       "        \n",
       "&lt;/head&gt;\n",
       "&lt;body&gt;\n",
       "    \n",
       "    \n",
       "            &lt;div class=&quot;folium-map&quot; id=&quot;map_4f70508b57c4e54c27351fc02fde6cc4&quot; &gt;&lt;/div&gt;\n",
       "        \n",
       "&lt;/body&gt;\n",
       "&lt;script&gt;\n",
       "    \n",
       "    \n",
       "            var map_4f70508b57c4e54c27351fc02fde6cc4 = L.map(\n",
       "                &quot;map_4f70508b57c4e54c27351fc02fde6cc4&quot;,\n",
       "                {\n",
       "                    center: [34.68743099332137, 135.525857],\n",
       "                    crs: L.CRS.EPSG3857,\n",
       "                    zoom: 17,\n",
       "                    zoomControl: true,\n",
       "                    preferCanvas: false,\n",
       "                }\n",
       "            );\n",
       "\n",
       "            \n",
       "\n",
       "        \n",
       "    \n",
       "            var tile_layer_38857fdab9de3796efbf82a13403c0e9 = L.tileLayer(\n",
       "                &quot;https://tile.openstreetmap.org/{z}/{x}/{y}.png&quot;,\n",
       "                {&quot;attribution&quot;: &quot;\\u0026copy; \\u003ca href=\\&quot;https://www.openstreetmap.org/copyright\\&quot;\\u003eOpenStreetMap\\u003c/a\\u003e contributors&quot;, &quot;detectRetina&quot;: false, &quot;maxNativeZoom&quot;: 19, &quot;maxZoom&quot;: 19, &quot;minZoom&quot;: 0, &quot;noWrap&quot;: false, &quot;opacity&quot;: 1, &quot;subdomains&quot;: &quot;abc&quot;, &quot;tms&quot;: false}\n",
       "            );\n",
       "        \n",
       "    \n",
       "            tile_layer_38857fdab9de3796efbf82a13403c0e9.addTo(map_4f70508b57c4e54c27351fc02fde6cc4);\n",
       "        \n",
       "    \n",
       "            var polygon_8de9d6de95abdd7d004b679e53ef07f8 = L.polygon(\n",
       "                [[34.6862992, 135.5264558], [34.6862982, 135.5267163], [34.6861936, 135.5267177], [34.6861932, 135.5266358], [34.6859233, 135.5266341], [34.68576, 135.526632], [34.6855603, 135.5266294], [34.6855596, 135.5267155], [34.685451, 135.5267145], [34.6854519, 135.5264474], [34.6857985, 135.5264527], [34.6857988, 135.5264289], [34.6858212, 135.5264284], [34.6858212, 135.5264231], [34.6858226, 135.5264182], [34.6858255, 135.5264139], [34.6858291, 135.5264114], [34.6858291, 135.5263725], [34.6858291, 135.5263362], [34.6858794, 135.5263365], [34.6859264, 135.5263367], [34.685926, 135.5263834], [34.6859257, 135.5264103], [34.6859286, 135.5264117], [34.6859318, 135.5264152], [34.6859344, 135.5264191], [34.685935, 135.5264248], [34.6859542, 135.5264248], [34.6859539, 135.5264516], [34.6862992, 135.5264558]],\n",
       "                {&quot;bubblingMouseEvents&quot;: true, &quot;color&quot;: &quot;blue&quot;, &quot;dashArray&quot;: null, &quot;dashOffset&quot;: null, &quot;fill&quot;: true, &quot;fillColor&quot;: &quot;blue&quot;, &quot;fillOpacity&quot;: 0.2, &quot;fillRule&quot;: &quot;evenodd&quot;, &quot;lineCap&quot;: &quot;round&quot;, &quot;lineJoin&quot;: &quot;round&quot;, &quot;noClip&quot;: false, &quot;opacity&quot;: 1.0, &quot;smoothFactor&quot;: 1.0, &quot;stroke&quot;: true, &quot;weight&quot;: 2}\n",
       "            ).addTo(map_4f70508b57c4e54c27351fc02fde6cc4);\n",
       "        \n",
       "    \n",
       "        var popup_ea71e2f7eae6fc8fb8b2a71b19bc43d2 = L.popup({&quot;maxWidth&quot;: &quot;100%&quot;});\n",
       "\n",
       "        \n",
       "            \n",
       "                var html_3ac100a42626eda0e7f7db257936484b = $(`&lt;div id=&quot;html_3ac100a42626eda0e7f7db257936484b&quot; style=&quot;width: 100.0%; height: 100.0%;&quot;&gt;             &lt;div&gt;                 Building ID: &lt;span style=&quot;user-select: all&quot;&gt;34596708&lt;/span&gt;&lt;br&gt;                 Name: MIRAIZA OSAKA-JO             &lt;/div&gt;             &lt;/div&gt;`)[0];\n",
       "                popup_ea71e2f7eae6fc8fb8b2a71b19bc43d2.setContent(html_3ac100a42626eda0e7f7db257936484b);\n",
       "            \n",
       "        \n",
       "\n",
       "        polygon_8de9d6de95abdd7d004b679e53ef07f8.bindPopup(popup_ea71e2f7eae6fc8fb8b2a71b19bc43d2)\n",
       "        ;\n",
       "\n",
       "        \n",
       "    \n",
       "    \n",
       "            var marker_512b44c0662a0f42fa491b7513338466 = L.marker(\n",
       "                [34.68588866666666, 135.52648179],\n",
       "                {}\n",
       "            ).addTo(map_4f70508b57c4e54c27351fc02fde6cc4);\n",
       "        \n",
       "    \n",
       "            var div_icon_a06a3fc50e8d342d0e547246325d58ab = L.divIcon({&quot;className&quot;: &quot;building-label&quot;, &quot;html&quot;: &quot;\\n                    \\u003cdiv style=\\&quot;\\n                        position: relative;\\n                        font-family: monospace;\\n                        font-size: 12px;\\n                        color: black;\\n                        background-color: rgba(255, 255, 255, 0.9);\\n                        padding: 5px 8px;\\n                        margin: -10px -15px;\\n                        border: 1px solid black;\\n                        border-radius: 4px;\\n                        user-select: all;\\n                        cursor: text;\\n                        white-space: nowrap;\\n                        display: inline-block;\\n                        box-shadow: 0 0 3px rgba(0,0,0,0.2);\\n                    \\&quot;\\u003e34596708\\u003c/div\\u003e\\n                    &quot;});\n",
       "            marker_512b44c0662a0f42fa491b7513338466.setIcon(div_icon_a06a3fc50e8d342d0e547246325d58ab);\n",
       "        \n",
       "    \n",
       "            var polygon_b9ec2522f0cbdf8e4e61ffb67c38ddcc = L.polygon(\n",
       "                [[34.6875751, 135.5256739], [34.6875446, 135.5260774], [34.6871702, 135.5260389], [34.6871717, 135.5260209], [34.6871859, 135.5258401], [34.6871909, 135.5257826], [34.6871994, 135.5256789], [34.6872024, 135.525632], [34.6875751, 135.5256739]],\n",
       "                {&quot;bubblingMouseEvents&quot;: true, &quot;color&quot;: &quot;blue&quot;, &quot;dashArray&quot;: null, &quot;dashOffset&quot;: null, &quot;fill&quot;: true, &quot;fillColor&quot;: &quot;blue&quot;, &quot;fillOpacity&quot;: 0.2, &quot;fillRule&quot;: &quot;evenodd&quot;, &quot;lineCap&quot;: &quot;round&quot;, &quot;lineJoin&quot;: &quot;round&quot;, &quot;noClip&quot;: false, &quot;opacity&quot;: 1.0, &quot;smoothFactor&quot;: 1.0, &quot;stroke&quot;: true, &quot;weight&quot;: 2}\n",
       "            ).addTo(map_4f70508b57c4e54c27351fc02fde6cc4);\n",
       "        \n",
       "    \n",
       "        var popup_c7ec752248d8272a881abd0a86e7a881 = L.popup({&quot;maxWidth&quot;: &quot;100%&quot;});\n",
       "\n",
       "        \n",
       "            \n",
       "                var html_4e010046d8d56faa25d2595ff3125523 = $(`&lt;div id=&quot;html_4e010046d8d56faa25d2595ff3125523&quot; style=&quot;width: 100.0%; height: 100.0%;&quot;&gt;             &lt;div&gt;                 Building ID: &lt;span style=&quot;user-select: all&quot;&gt;34619038&lt;/span&gt;&lt;br&gt;                 Name: Osaka Castle             &lt;/div&gt;             &lt;/div&gt;`)[0];\n",
       "                popup_c7ec752248d8272a881abd0a86e7a881.setContent(html_4e010046d8d56faa25d2595ff3125523);\n",
       "            \n",
       "        \n",
       "\n",
       "        polygon_b9ec2522f0cbdf8e4e61ffb67c38ddcc.bindPopup(popup_c7ec752248d8272a881abd0a86e7a881)\n",
       "        ;\n",
       "\n",
       "        \n",
       "    \n",
       "    \n",
       "            var marker_9e97c5be51aded1903af9b525cdcaee0 = L.marker(\n",
       "                [34.68731281111111, 135.52582428888888],\n",
       "                {}\n",
       "            ).addTo(map_4f70508b57c4e54c27351fc02fde6cc4);\n",
       "        \n",
       "    \n",
       "            var div_icon_77fa5648ecea4aaf45882709834efd34 = L.divIcon({&quot;className&quot;: &quot;building-label&quot;, &quot;html&quot;: &quot;\\n                    \\u003cdiv style=\\&quot;\\n                        position: relative;\\n                        font-family: monospace;\\n                        font-size: 12px;\\n                        color: black;\\n                        background-color: rgba(255, 255, 255, 0.9);\\n                        padding: 5px 8px;\\n                        margin: -10px -15px;\\n                        border: 1px solid black;\\n                        border-radius: 4px;\\n                        user-select: all;\\n                        cursor: text;\\n                        white-space: nowrap;\\n                        display: inline-block;\\n                        box-shadow: 0 0 3px rgba(0,0,0,0.2);\\n                    \\&quot;\\u003e34619038\\u003c/div\\u003e\\n                    &quot;});\n",
       "            marker_9e97c5be51aded1903af9b525cdcaee0.setIcon(div_icon_77fa5648ecea4aaf45882709834efd34);\n",
       "        \n",
       "    \n",
       "            var polygon_93d6b902986f1c27358b20ee62f3562c = L.polygon(\n",
       "                [[34.6882167, 135.5238376], [34.6881878, 135.5239288], [34.6882201, 135.5239428], [34.6882048, 135.5239946], [34.6881815, 135.5239844], [34.6881885, 135.5239608], [34.6881476, 135.5239387], [34.6881301, 135.5239955], [34.688144, 135.5240054], [34.6881247, 135.5240571], [34.6881995, 135.5240935], [34.688208, 135.5240682], [34.6882604, 135.5240953], [34.6882725, 135.5240609], [34.6882782, 135.5240624], [34.6882911, 135.5240265], [34.6882964, 135.5240289], [34.688321, 135.5239616], [34.688294, 135.5239465], [34.6883066, 135.5239148], [34.6882845, 135.5239049], [34.6882948, 135.5238731], [34.6882167, 135.5238376]],\n",
       "                {&quot;bubblingMouseEvents&quot;: true, &quot;color&quot;: &quot;blue&quot;, &quot;dashArray&quot;: null, &quot;dashOffset&quot;: null, &quot;fill&quot;: true, &quot;fillColor&quot;: &quot;blue&quot;, &quot;fillOpacity&quot;: 0.2, &quot;fillRule&quot;: &quot;evenodd&quot;, &quot;lineCap&quot;: &quot;round&quot;, &quot;lineJoin&quot;: &quot;round&quot;, &quot;noClip&quot;: false, &quot;opacity&quot;: 1.0, &quot;smoothFactor&quot;: 1.0, &quot;stroke&quot;: true, &quot;weight&quot;: 2}\n",
       "            ).addTo(map_4f70508b57c4e54c27351fc02fde6cc4);\n",
       "        \n",
       "    \n",
       "        var popup_40d4ea39c8a5d153fd9ae26e4136c751 = L.popup({&quot;maxWidth&quot;: &quot;100%&quot;});\n",
       "\n",
       "        \n",
       "            \n",
       "                var html_b45f8353035d186f406b7f503edc79ce = $(`&lt;div id=&quot;html_b45f8353035d186f406b7f503edc79ce&quot; style=&quot;width: 100.0%; height: 100.0%;&quot;&gt;             &lt;div&gt;                 Building ID: &lt;span style=&quot;user-select: all&quot;&gt;176301498&lt;/span&gt;&lt;br&gt;                 Name: Hoshoan Teahouse             &lt;/div&gt;             &lt;/div&gt;`)[0];\n",
       "                popup_40d4ea39c8a5d153fd9ae26e4136c751.setContent(html_b45f8353035d186f406b7f503edc79ce);\n",
       "            \n",
       "        \n",
       "\n",
       "        polygon_93d6b902986f1c27358b20ee62f3562c.bindPopup(popup_40d4ea39c8a5d153fd9ae26e4136c751)\n",
       "        ;\n",
       "\n",
       "        \n",
       "    \n",
       "    \n",
       "            var marker_36b74f6a08c3110c731a19af43c13960 = L.marker(\n",
       "                [34.68822910869565, 135.52397912608697],\n",
       "                {}\n",
       "            ).addTo(map_4f70508b57c4e54c27351fc02fde6cc4);\n",
       "        \n",
       "    \n",
       "            var div_icon_8359e5e61ad7594c01cd6d84b4a1694d = L.divIcon({&quot;className&quot;: &quot;building-label&quot;, &quot;html&quot;: &quot;\\n                    \\u003cdiv style=\\&quot;\\n                        position: relative;\\n                        font-family: monospace;\\n                        font-size: 12px;\\n                        color: black;\\n                        background-color: rgba(255, 255, 255, 0.9);\\n                        padding: 5px 8px;\\n                        margin: -10px -15px;\\n                        border: 1px solid black;\\n                        border-radius: 4px;\\n                        user-select: all;\\n                        cursor: text;\\n                        white-space: nowrap;\\n                        display: inline-block;\\n                        box-shadow: 0 0 3px rgba(0,0,0,0.2);\\n                    \\&quot;\\u003e176301498\\u003c/div\\u003e\\n                    &quot;});\n",
       "            marker_36b74f6a08c3110c731a19af43c13960.setIcon(div_icon_8359e5e61ad7594c01cd6d84b4a1694d);\n",
       "        \n",
       "    \n",
       "            var polygon_1995b0fa110841f61431ed33608a7992 = L.polygon(\n",
       "                [[34.6866137, 135.5264352], [34.6866138, 135.5264472], [34.6866284, 135.5264471], [34.6866288, 135.5265071], [34.6866143, 135.5265072], [34.6866144, 135.5265183], [34.6864589, 135.5265146], [34.6864588, 135.5264339], [34.6866137, 135.5264352]],\n",
       "                {&quot;bubblingMouseEvents&quot;: true, &quot;color&quot;: &quot;blue&quot;, &quot;dashArray&quot;: null, &quot;dashOffset&quot;: null, &quot;fill&quot;: true, &quot;fillColor&quot;: &quot;blue&quot;, &quot;fillOpacity&quot;: 0.2, &quot;fillRule&quot;: &quot;evenodd&quot;, &quot;lineCap&quot;: &quot;round&quot;, &quot;lineJoin&quot;: &quot;round&quot;, &quot;noClip&quot;: false, &quot;opacity&quot;: 1.0, &quot;smoothFactor&quot;: 1.0, &quot;stroke&quot;: true, &quot;weight&quot;: 2}\n",
       "            ).addTo(map_4f70508b57c4e54c27351fc02fde6cc4);\n",
       "        \n",
       "    \n",
       "        var popup_01bf7dfa3bf4119238c27a3db9c4e7b6 = L.popup({&quot;maxWidth&quot;: &quot;100%&quot;});\n",
       "\n",
       "        \n",
       "            \n",
       "                var html_f83575e2910b282a0744e601ef4d7d92 = $(`&lt;div id=&quot;html_f83575e2910b282a0744e601ef4d7d92&quot; style=&quot;width: 100.0%; height: 100.0%;&quot;&gt;             &lt;div&gt;                 Building ID: &lt;span style=&quot;user-select: all&quot;&gt;303446373&lt;/span&gt;&lt;br&gt;                 Name: Kinzo(Treasure House)             &lt;/div&gt;             &lt;/div&gt;`)[0];\n",
       "                popup_01bf7dfa3bf4119238c27a3db9c4e7b6.setContent(html_f83575e2910b282a0744e601ef4d7d92);\n",
       "            \n",
       "        \n",
       "\n",
       "        polygon_1995b0fa110841f61431ed33608a7992.bindPopup(popup_01bf7dfa3bf4119238c27a3db9c4e7b6)\n",
       "        ;\n",
       "\n",
       "        \n",
       "    \n",
       "    \n",
       "            var marker_ae5bcfe42e596bd3c37f07a5fff3f97f = L.marker(\n",
       "                [34.686582755555555, 135.52647175555555],\n",
       "                {}\n",
       "            ).addTo(map_4f70508b57c4e54c27351fc02fde6cc4);\n",
       "        \n",
       "    \n",
       "            var div_icon_8a9463b9c66ed035946eb6f00ddfbeb3 = L.divIcon({&quot;className&quot;: &quot;building-label&quot;, &quot;html&quot;: &quot;\\n                    \\u003cdiv style=\\&quot;\\n                        position: relative;\\n                        font-family: monospace;\\n                        font-size: 12px;\\n                        color: black;\\n                        background-color: rgba(255, 255, 255, 0.9);\\n                        padding: 5px 8px;\\n                        margin: -10px -15px;\\n                        border: 1px solid black;\\n                        border-radius: 4px;\\n                        user-select: all;\\n                        cursor: text;\\n                        white-space: nowrap;\\n                        display: inline-block;\\n                        box-shadow: 0 0 3px rgba(0,0,0,0.2);\\n                    \\&quot;\\u003e303446373\\u003c/div\\u003e\\n                    &quot;});\n",
       "            marker_ae5bcfe42e596bd3c37f07a5fff3f97f.setIcon(div_icon_8a9463b9c66ed035946eb6f00ddfbeb3);\n",
       "        \n",
       "    \n",
       "            var polygon_daddfe7d51801ecf654a471abe68a17b = L.polygon(\n",
       "                [[34.6869966, 135.5260183], [34.6869934, 135.526074], [34.6868772, 135.5260643], [34.6868804, 135.5260086], [34.6869427, 135.5260138], [34.6869437, 135.5259971], [34.6869602, 135.5259985], [34.6869593, 135.5260152], [34.6869966, 135.5260183]],\n",
       "                {&quot;bubblingMouseEvents&quot;: true, &quot;color&quot;: &quot;blue&quot;, &quot;dashArray&quot;: null, &quot;dashOffset&quot;: null, &quot;fill&quot;: true, &quot;fillColor&quot;: &quot;blue&quot;, &quot;fillOpacity&quot;: 0.2, &quot;fillRule&quot;: &quot;evenodd&quot;, &quot;lineCap&quot;: &quot;round&quot;, &quot;lineJoin&quot;: &quot;round&quot;, &quot;noClip&quot;: false, &quot;opacity&quot;: 1.0, &quot;smoothFactor&quot;: 1.0, &quot;stroke&quot;: true, &quot;weight&quot;: 2}\n",
       "            ).addTo(map_4f70508b57c4e54c27351fc02fde6cc4);\n",
       "        \n",
       "    \n",
       "        var popup_2b41987912e0dcb70f8b8a6115495098 = L.popup({&quot;maxWidth&quot;: &quot;100%&quot;});\n",
       "\n",
       "        \n",
       "            \n",
       "                var html_0d2cad1b9b2feaa780ef92cd1d1f3573 = $(`&lt;div id=&quot;html_0d2cad1b9b2feaa780ef92cd1d1f3573&quot; style=&quot;width: 100.0%; height: 100.0%;&quot;&gt;             &lt;div&gt;                 Building ID: &lt;span style=&quot;user-select: all&quot;&gt;303446384&lt;/span&gt;&lt;br&gt;                 Name: Osaka Castle Ticket Shop             &lt;/div&gt;             &lt;/div&gt;`)[0];\n",
       "                popup_2b41987912e0dcb70f8b8a6115495098.setContent(html_0d2cad1b9b2feaa780ef92cd1d1f3573);\n",
       "            \n",
       "        \n",
       "\n",
       "        polygon_daddfe7d51801ecf654a471abe68a17b.bindPopup(popup_2b41987912e0dcb70f8b8a6115495098)\n",
       "        ;\n",
       "\n",
       "        \n",
       "    \n",
       "    \n",
       "            var marker_ca5a45a33c65038f0fb7d1c91372cced = L.marker(\n",
       "                [34.686950011111115, 135.52602312222223],\n",
       "                {}\n",
       "            ).addTo(map_4f70508b57c4e54c27351fc02fde6cc4);\n",
       "        \n",
       "    \n",
       "            var div_icon_85750eb1c238c21abe0095b5567f62e6 = L.divIcon({&quot;className&quot;: &quot;building-label&quot;, &quot;html&quot;: &quot;\\n                    \\u003cdiv style=\\&quot;\\n                        position: relative;\\n                        font-family: monospace;\\n                        font-size: 12px;\\n                        color: black;\\n                        background-color: rgba(255, 255, 255, 0.9);\\n                        padding: 5px 8px;\\n                        margin: -10px -15px;\\n                        border: 1px solid black;\\n                        border-radius: 4px;\\n                        user-select: all;\\n                        cursor: text;\\n                        white-space: nowrap;\\n                        display: inline-block;\\n                        box-shadow: 0 0 3px rgba(0,0,0,0.2);\\n                    \\&quot;\\u003e303446384\\u003c/div\\u003e\\n                    &quot;});\n",
       "            marker_ca5a45a33c65038f0fb7d1c91372cced.setIcon(div_icon_85750eb1c238c21abe0095b5567f62e6);\n",
       "        \n",
       "    \n",
       "            var polygon_05325bcf5c6b47885d27d683f93b2b6e = L.polygon(\n",
       "                [[34.6871455, 135.5255774], [34.6871419, 135.5256254], [34.6870244, 135.5256177], [34.6870285, 135.5255637], [34.6871455, 135.5255774]],\n",
       "                {&quot;bubblingMouseEvents&quot;: true, &quot;color&quot;: &quot;blue&quot;, &quot;dashArray&quot;: null, &quot;dashOffset&quot;: null, &quot;fill&quot;: true, &quot;fillColor&quot;: &quot;blue&quot;, &quot;fillOpacity&quot;: 0.2, &quot;fillRule&quot;: &quot;evenodd&quot;, &quot;lineCap&quot;: &quot;round&quot;, &quot;lineJoin&quot;: &quot;round&quot;, &quot;noClip&quot;: false, &quot;opacity&quot;: 1.0, &quot;smoothFactor&quot;: 1.0, &quot;stroke&quot;: true, &quot;weight&quot;: 2}\n",
       "            ).addTo(map_4f70508b57c4e54c27351fc02fde6cc4);\n",
       "        \n",
       "    \n",
       "        var popup_885f46eeee99e242dd180f26606425b9 = L.popup({&quot;maxWidth&quot;: &quot;100%&quot;});\n",
       "\n",
       "        \n",
       "            \n",
       "                var html_deb1115473015acfc09d4977875efff5 = $(`&lt;div id=&quot;html_deb1115473015acfc09d4977875efff5&quot; style=&quot;width: 100.0%; height: 100.0%;&quot;&gt;             &lt;div&gt;                 Building ID: &lt;span style=&quot;user-select: all&quot;&gt;303446390&lt;/span&gt;&lt;br&gt;                 Name: Building 303446390             &lt;/div&gt;             &lt;/div&gt;`)[0];\n",
       "                popup_885f46eeee99e242dd180f26606425b9.setContent(html_deb1115473015acfc09d4977875efff5);\n",
       "            \n",
       "        \n",
       "\n",
       "        polygon_05325bcf5c6b47885d27d683f93b2b6e.bindPopup(popup_885f46eeee99e242dd180f26606425b9)\n",
       "        ;\n",
       "\n",
       "        \n",
       "    \n",
       "    \n",
       "            var marker_94f83d2d0ab8a95e4241b1b9780a220c = L.marker(\n",
       "                [34.68709715999999, 135.52559232],\n",
       "                {}\n",
       "            ).addTo(map_4f70508b57c4e54c27351fc02fde6cc4);\n",
       "        \n",
       "    \n",
       "            var div_icon_26331cb800b7ab99baf6cf303574d116 = L.divIcon({&quot;className&quot;: &quot;building-label&quot;, &quot;html&quot;: &quot;\\n                    \\u003cdiv style=\\&quot;\\n                        position: relative;\\n                        font-family: monospace;\\n                        font-size: 12px;\\n                        color: black;\\n                        background-color: rgba(255, 255, 255, 0.9);\\n                        padding: 5px 8px;\\n                        margin: -10px -15px;\\n                        border: 1px solid black;\\n                        border-radius: 4px;\\n                        user-select: all;\\n                        cursor: text;\\n                        white-space: nowrap;\\n                        display: inline-block;\\n                        box-shadow: 0 0 3px rgba(0,0,0,0.2);\\n                    \\&quot;\\u003e303446390\\u003c/div\\u003e\\n                    &quot;});\n",
       "            marker_94f83d2d0ab8a95e4241b1b9780a220c.setIcon(div_icon_26331cb800b7ab99baf6cf303574d116);\n",
       "        \n",
       "    \n",
       "            var polygon_a63cd91187648c1400adc48592b05f84 = L.polygon(\n",
       "                [[34.6870593, 135.5258243], [34.6870549, 135.525891], [34.686999, 135.5258855], [34.6870033, 135.5258189], [34.6870593, 135.5258243]],\n",
       "                {&quot;bubblingMouseEvents&quot;: true, &quot;color&quot;: &quot;blue&quot;, &quot;dashArray&quot;: null, &quot;dashOffset&quot;: null, &quot;fill&quot;: true, &quot;fillColor&quot;: &quot;blue&quot;, &quot;fillOpacity&quot;: 0.2, &quot;fillRule&quot;: &quot;evenodd&quot;, &quot;lineCap&quot;: &quot;round&quot;, &quot;lineJoin&quot;: &quot;round&quot;, &quot;noClip&quot;: false, &quot;opacity&quot;: 1.0, &quot;smoothFactor&quot;: 1.0, &quot;stroke&quot;: true, &quot;weight&quot;: 2}\n",
       "            ).addTo(map_4f70508b57c4e54c27351fc02fde6cc4);\n",
       "        \n",
       "    \n",
       "        var popup_b98bdcb32b6eddef6252404e545153f5 = L.popup({&quot;maxWidth&quot;: &quot;100%&quot;});\n",
       "\n",
       "        \n",
       "            \n",
       "                var html_5c171b17f51c6e37b9f439372c43ac0a = $(`&lt;div id=&quot;html_5c171b17f51c6e37b9f439372c43ac0a&quot; style=&quot;width: 100.0%; height: 100.0%;&quot;&gt;             &lt;div&gt;                 Building ID: &lt;span style=&quot;user-select: all&quot;&gt;303446394&lt;/span&gt;&lt;br&gt;                 Name: Kimmeisui Wellcome Roof             &lt;/div&gt;             &lt;/div&gt;`)[0];\n",
       "                popup_b98bdcb32b6eddef6252404e545153f5.setContent(html_5c171b17f51c6e37b9f439372c43ac0a);\n",
       "            \n",
       "        \n",
       "\n",
       "        polygon_a63cd91187648c1400adc48592b05f84.bindPopup(popup_b98bdcb32b6eddef6252404e545153f5)\n",
       "        ;\n",
       "\n",
       "        \n",
       "    \n",
       "    \n",
       "            var marker_acf55bf9a172e6aae474aeb3f7903b52 = L.marker(\n",
       "                [34.68703516, 135.5258488],\n",
       "                {}\n",
       "            ).addTo(map_4f70508b57c4e54c27351fc02fde6cc4);\n",
       "        \n",
       "    \n",
       "            var div_icon_4e380b7a6126673a1f55e028a8f8f240 = L.divIcon({&quot;className&quot;: &quot;building-label&quot;, &quot;html&quot;: &quot;\\n                    \\u003cdiv style=\\&quot;\\n                        position: relative;\\n                        font-family: monospace;\\n                        font-size: 12px;\\n                        color: black;\\n                        background-color: rgba(255, 255, 255, 0.9);\\n                        padding: 5px 8px;\\n                        margin: -10px -15px;\\n                        border: 1px solid black;\\n                        border-radius: 4px;\\n                        user-select: all;\\n                        cursor: text;\\n                        white-space: nowrap;\\n                        display: inline-block;\\n                        box-shadow: 0 0 3px rgba(0,0,0,0.2);\\n                    \\&quot;\\u003e303446394\\u003c/div\\u003e\\n                    &quot;});\n",
       "            marker_acf55bf9a172e6aae474aeb3f7903b52.setIcon(div_icon_4e380b7a6126673a1f55e028a8f8f240);\n",
       "        \n",
       "    \n",
       "            var polygon_76246ef50c27804a41572c43d9c7f731 = L.polygon(\n",
       "                [[34.6866152, 135.5262562], [34.6866156, 135.5263281], [34.686526, 135.5263289], [34.6865255, 135.526257], [34.6866152, 135.5262562]],\n",
       "                {&quot;bubblingMouseEvents&quot;: true, &quot;color&quot;: &quot;blue&quot;, &quot;dashArray&quot;: null, &quot;dashOffset&quot;: null, &quot;fill&quot;: true, &quot;fillColor&quot;: &quot;blue&quot;, &quot;fillOpacity&quot;: 0.2, &quot;fillRule&quot;: &quot;evenodd&quot;, &quot;lineCap&quot;: &quot;round&quot;, &quot;lineJoin&quot;: &quot;round&quot;, &quot;noClip&quot;: false, &quot;opacity&quot;: 1.0, &quot;smoothFactor&quot;: 1.0, &quot;stroke&quot;: true, &quot;weight&quot;: 2}\n",
       "            ).addTo(map_4f70508b57c4e54c27351fc02fde6cc4);\n",
       "        \n",
       "    \n",
       "        var popup_82911e9c815114ba5223f0e75b34fc5e = L.popup({&quot;maxWidth&quot;: &quot;100%&quot;});\n",
       "\n",
       "        \n",
       "            \n",
       "                var html_aa5eceaa4a136ec2edf47b752b5c7f26 = $(`&lt;div id=&quot;html_aa5eceaa4a136ec2edf47b752b5c7f26&quot; style=&quot;width: 100.0%; height: 100.0%;&quot;&gt;             &lt;div&gt;                 Building ID: &lt;span style=&quot;user-select: all&quot;&gt;303446407&lt;/span&gt;&lt;br&gt;                 Name: 公衆トイレ             &lt;/div&gt;             &lt;/div&gt;`)[0];\n",
       "                popup_82911e9c815114ba5223f0e75b34fc5e.setContent(html_aa5eceaa4a136ec2edf47b752b5c7f26);\n",
       "            \n",
       "        \n",
       "\n",
       "        polygon_76246ef50c27804a41572c43d9c7f731.bindPopup(popup_82911e9c815114ba5223f0e75b34fc5e)\n",
       "        ;\n",
       "\n",
       "        \n",
       "    \n",
       "    \n",
       "            var marker_c943ef7e7a0431acb6334865e7aa807a = L.marker(\n",
       "                [34.6865795, 135.52628528],\n",
       "                {}\n",
       "            ).addTo(map_4f70508b57c4e54c27351fc02fde6cc4);\n",
       "        \n",
       "    \n",
       "            var div_icon_8f5d82c0abb26afffd4d5e57305f85e2 = L.divIcon({&quot;className&quot;: &quot;building-label&quot;, &quot;html&quot;: &quot;\\n                    \\u003cdiv style=\\&quot;\\n                        position: relative;\\n                        font-family: monospace;\\n                        font-size: 12px;\\n                        color: black;\\n                        background-color: rgba(255, 255, 255, 0.9);\\n                        padding: 5px 8px;\\n                        margin: -10px -15px;\\n                        border: 1px solid black;\\n                        border-radius: 4px;\\n                        user-select: all;\\n                        cursor: text;\\n                        white-space: nowrap;\\n                        display: inline-block;\\n                        box-shadow: 0 0 3px rgba(0,0,0,0.2);\\n                    \\&quot;\\u003e303446407\\u003c/div\\u003e\\n                    &quot;});\n",
       "            marker_c943ef7e7a0431acb6334865e7aa807a.setIcon(div_icon_8f5d82c0abb26afffd4d5e57305f85e2);\n",
       "        \n",
       "    \n",
       "            var polygon_c439057cb88437623d00b0df53bd5b65 = L.polygon(\n",
       "                [[34.6865185, 135.526175], [34.6865204, 135.5262347], [34.6864295, 135.5262391], [34.6864276, 135.5261794], [34.6865185, 135.526175]],\n",
       "                {&quot;bubblingMouseEvents&quot;: true, &quot;color&quot;: &quot;blue&quot;, &quot;dashArray&quot;: null, &quot;dashOffset&quot;: null, &quot;fill&quot;: true, &quot;fillColor&quot;: &quot;blue&quot;, &quot;fillOpacity&quot;: 0.2, &quot;fillRule&quot;: &quot;evenodd&quot;, &quot;lineCap&quot;: &quot;round&quot;, &quot;lineJoin&quot;: &quot;round&quot;, &quot;noClip&quot;: false, &quot;opacity&quot;: 1.0, &quot;smoothFactor&quot;: 1.0, &quot;stroke&quot;: true, &quot;weight&quot;: 2}\n",
       "            ).addTo(map_4f70508b57c4e54c27351fc02fde6cc4);\n",
       "        \n",
       "    \n",
       "        var popup_0b583cff3665b5fdb9824d9f21ec4d22 = L.popup({&quot;maxWidth&quot;: &quot;100%&quot;});\n",
       "\n",
       "        \n",
       "            \n",
       "                var html_9d1652bc1ab74b17ad4e09a9560bbd36 = $(`&lt;div id=&quot;html_9d1652bc1ab74b17ad4e09a9560bbd36&quot; style=&quot;width: 100.0%; height: 100.0%;&quot;&gt;             &lt;div&gt;                 Building ID: &lt;span style=&quot;user-select: all&quot;&gt;303446410&lt;/span&gt;&lt;br&gt;                 Name: Building 303446410             &lt;/div&gt;             &lt;/div&gt;`)[0];\n",
       "                popup_0b583cff3665b5fdb9824d9f21ec4d22.setContent(html_9d1652bc1ab74b17ad4e09a9560bbd36);\n",
       "            \n",
       "        \n",
       "\n",
       "        polygon_c439057cb88437623d00b0df53bd5b65.bindPopup(popup_0b583cff3665b5fdb9824d9f21ec4d22)\n",
       "        ;\n",
       "\n",
       "        \n",
       "    \n",
       "    \n",
       "            var marker_dd43411af1501015175662ff26c5a70f = L.marker(\n",
       "                [34.6864829, 135.52620064],\n",
       "                {}\n",
       "            ).addTo(map_4f70508b57c4e54c27351fc02fde6cc4);\n",
       "        \n",
       "    \n",
       "            var div_icon_e2f76d71823cc934b698a9d5da480491 = L.divIcon({&quot;className&quot;: &quot;building-label&quot;, &quot;html&quot;: &quot;\\n                    \\u003cdiv style=\\&quot;\\n                        position: relative;\\n                        font-family: monospace;\\n                        font-size: 12px;\\n                        color: black;\\n                        background-color: rgba(255, 255, 255, 0.9);\\n                        padding: 5px 8px;\\n                        margin: -10px -15px;\\n                        border: 1px solid black;\\n                        border-radius: 4px;\\n                        user-select: all;\\n                        cursor: text;\\n                        white-space: nowrap;\\n                        display: inline-block;\\n                        box-shadow: 0 0 3px rgba(0,0,0,0.2);\\n                    \\&quot;\\u003e303446410\\u003c/div\\u003e\\n                    &quot;});\n",
       "            marker_dd43411af1501015175662ff26c5a70f.setIcon(div_icon_e2f76d71823cc934b698a9d5da480491);\n",
       "        \n",
       "    \n",
       "            var polygon_d774591e38ccaaf1f6272c34d6fbbfd5 = L.polygon(\n",
       "                [[34.6881699, 135.5244361], [34.6880907, 135.5243977], [34.6880999, 135.5243699], [34.688179, 135.5244082], [34.6881699, 135.5244361]],\n",
       "                {&quot;bubblingMouseEvents&quot;: true, &quot;color&quot;: &quot;blue&quot;, &quot;dashArray&quot;: null, &quot;dashOffset&quot;: null, &quot;fill&quot;: true, &quot;fillColor&quot;: &quot;blue&quot;, &quot;fillOpacity&quot;: 0.2, &quot;fillRule&quot;: &quot;evenodd&quot;, &quot;lineCap&quot;: &quot;round&quot;, &quot;lineJoin&quot;: &quot;round&quot;, &quot;noClip&quot;: false, &quot;opacity&quot;: 1.0, &quot;smoothFactor&quot;: 1.0, &quot;stroke&quot;: true, &quot;weight&quot;: 2}\n",
       "            ).addTo(map_4f70508b57c4e54c27351fc02fde6cc4);\n",
       "        \n",
       "    \n",
       "        var popup_9ee84beb23be27c71b65e2bd39c206de = L.popup({&quot;maxWidth&quot;: &quot;100%&quot;});\n",
       "\n",
       "        \n",
       "            \n",
       "                var html_cc6370c7b9b8dab3913f73943ad34427 = $(`&lt;div id=&quot;html_cc6370c7b9b8dab3913f73943ad34427&quot; style=&quot;width: 100.0%; height: 100.0%;&quot;&gt;             &lt;div&gt;                 Building ID: &lt;span style=&quot;user-select: all&quot;&gt;405236741&lt;/span&gt;&lt;br&gt;                 Name: North gate             &lt;/div&gt;             &lt;/div&gt;`)[0];\n",
       "                popup_9ee84beb23be27c71b65e2bd39c206de.setContent(html_cc6370c7b9b8dab3913f73943ad34427);\n",
       "            \n",
       "        \n",
       "\n",
       "        polygon_d774591e38ccaaf1f6272c34d6fbbfd5.bindPopup(popup_9ee84beb23be27c71b65e2bd39c206de)\n",
       "        ;\n",
       "\n",
       "        \n",
       "    \n",
       "    \n",
       "            var marker_1f4be9b9b5c2dc012773d24d38f2ea0d = L.marker(\n",
       "                [34.68814188, 135.5244096],\n",
       "                {}\n",
       "            ).addTo(map_4f70508b57c4e54c27351fc02fde6cc4);\n",
       "        \n",
       "    \n",
       "            var div_icon_b161edd086b778662f67bd48a259c28f = L.divIcon({&quot;className&quot;: &quot;building-label&quot;, &quot;html&quot;: &quot;\\n                    \\u003cdiv style=\\&quot;\\n                        position: relative;\\n                        font-family: monospace;\\n                        font-size: 12px;\\n                        color: black;\\n                        background-color: rgba(255, 255, 255, 0.9);\\n                        padding: 5px 8px;\\n                        margin: -10px -15px;\\n                        border: 1px solid black;\\n                        border-radius: 4px;\\n                        user-select: all;\\n                        cursor: text;\\n                        white-space: nowrap;\\n                        display: inline-block;\\n                        box-shadow: 0 0 3px rgba(0,0,0,0.2);\\n                    \\&quot;\\u003e405236741\\u003c/div\\u003e\\n                    &quot;});\n",
       "            marker_1f4be9b9b5c2dc012773d24d38f2ea0d.setIcon(div_icon_b161edd086b778662f67bd48a259c28f);\n",
       "        \n",
       "    \n",
       "            var polygon_8db1d591f34dda339d9da6ce3e8ad320 = L.polygon(\n",
       "                [[34.6871994, 135.5256789], [34.6871161, 135.5256702], [34.6870456, 135.5256639], [34.6870262, 135.5256614], [34.6869597, 135.5256556], [34.6869439, 135.5259351], [34.6870293, 135.5259447], [34.6870276, 135.5259794], [34.687026, 135.5260152], [34.6871717, 135.5260209], [34.6871859, 135.5258401], [34.6871909, 135.5257826], [34.6871994, 135.5256789]],\n",
       "                {&quot;bubblingMouseEvents&quot;: true, &quot;color&quot;: &quot;blue&quot;, &quot;dashArray&quot;: null, &quot;dashOffset&quot;: null, &quot;fill&quot;: true, &quot;fillColor&quot;: &quot;blue&quot;, &quot;fillOpacity&quot;: 0.2, &quot;fillRule&quot;: &quot;evenodd&quot;, &quot;lineCap&quot;: &quot;round&quot;, &quot;lineJoin&quot;: &quot;round&quot;, &quot;noClip&quot;: false, &quot;opacity&quot;: 1.0, &quot;smoothFactor&quot;: 1.0, &quot;stroke&quot;: true, &quot;weight&quot;: 2}\n",
       "            ).addTo(map_4f70508b57c4e54c27351fc02fde6cc4);\n",
       "        \n",
       "    \n",
       "        var popup_f938ef6b56bda7810db5a6cd112c3188 = L.popup({&quot;maxWidth&quot;: &quot;100%&quot;});\n",
       "\n",
       "        \n",
       "            \n",
       "                var html_fde4eff6974f41b34ad045cfbbb6c4bc = $(`&lt;div id=&quot;html_fde4eff6974f41b34ad045cfbbb6c4bc&quot; style=&quot;width: 100.0%; height: 100.0%;&quot;&gt;             &lt;div&gt;                 Building ID: &lt;span style=&quot;user-select: all&quot;&gt;487961602&lt;/span&gt;&lt;br&gt;                 Name: Building 487961602             &lt;/div&gt;             &lt;/div&gt;`)[0];\n",
       "                popup_f938ef6b56bda7810db5a6cd112c3188.setContent(html_fde4eff6974f41b34ad045cfbbb6c4bc);\n",
       "            \n",
       "        \n",
       "\n",
       "        polygon_8db1d591f34dda339d9da6ce3e8ad320.bindPopup(popup_f938ef6b56bda7810db5a6cd112c3188)\n",
       "        ;\n",
       "\n",
       "        \n",
       "    \n",
       "    \n",
       "            var marker_0125cd5a1f3bde91fd5b604c9839a9a6 = L.marker(\n",
       "                [34.68708628461538, 135.52580976153848],\n",
       "                {}\n",
       "            ).addTo(map_4f70508b57c4e54c27351fc02fde6cc4);\n",
       "        \n",
       "    \n",
       "            var div_icon_cce345bd734b680d1a61b1acfd1b60cd = L.divIcon({&quot;className&quot;: &quot;building-label&quot;, &quot;html&quot;: &quot;\\n                    \\u003cdiv style=\\&quot;\\n                        position: relative;\\n                        font-family: monospace;\\n                        font-size: 12px;\\n                        color: black;\\n                        background-color: rgba(255, 255, 255, 0.9);\\n                        padding: 5px 8px;\\n                        margin: -10px -15px;\\n                        border: 1px solid black;\\n                        border-radius: 4px;\\n                        user-select: all;\\n                        cursor: text;\\n                        white-space: nowrap;\\n                        display: inline-block;\\n                        box-shadow: 0 0 3px rgba(0,0,0,0.2);\\n                    \\&quot;\\u003e487961602\\u003c/div\\u003e\\n                    &quot;});\n",
       "            marker_0125cd5a1f3bde91fd5b604c9839a9a6.setIcon(div_icon_cce345bd734b680d1a61b1acfd1b60cd);\n",
       "        \n",
       "    \n",
       "            var polygon_0e6ecb18e0dd29e09f5c9ae92b4136f9 = L.polygon(\n",
       "                [[34.6861927, 135.5257078], [34.6861672, 135.5257062], [34.686166, 135.525738], [34.6861914, 135.5257396], [34.6861927, 135.5257078]],\n",
       "                {&quot;bubblingMouseEvents&quot;: true, &quot;color&quot;: &quot;blue&quot;, &quot;dashArray&quot;: null, &quot;dashOffset&quot;: null, &quot;fill&quot;: true, &quot;fillColor&quot;: &quot;blue&quot;, &quot;fillOpacity&quot;: 0.2, &quot;fillRule&quot;: &quot;evenodd&quot;, &quot;lineCap&quot;: &quot;round&quot;, &quot;lineJoin&quot;: &quot;round&quot;, &quot;noClip&quot;: false, &quot;opacity&quot;: 1.0, &quot;smoothFactor&quot;: 1.0, &quot;stroke&quot;: true, &quot;weight&quot;: 2}\n",
       "            ).addTo(map_4f70508b57c4e54c27351fc02fde6cc4);\n",
       "        \n",
       "    \n",
       "        var popup_9fe1a9a7913e22a0447695f298f24608 = L.popup({&quot;maxWidth&quot;: &quot;100%&quot;});\n",
       "\n",
       "        \n",
       "            \n",
       "                var html_dc176b24c8270361375b56c263acf118 = $(`&lt;div id=&quot;html_dc176b24c8270361375b56c263acf118&quot; style=&quot;width: 100.0%; height: 100.0%;&quot;&gt;             &lt;div&gt;                 Building ID: &lt;span style=&quot;user-select: all&quot;&gt;512474173&lt;/span&gt;&lt;br&gt;                 Name: タイムカプセル EXPO70             &lt;/div&gt;             &lt;/div&gt;`)[0];\n",
       "                popup_9fe1a9a7913e22a0447695f298f24608.setContent(html_dc176b24c8270361375b56c263acf118);\n",
       "            \n",
       "        \n",
       "\n",
       "        polygon_0e6ecb18e0dd29e09f5c9ae92b4136f9.bindPopup(popup_9fe1a9a7913e22a0447695f298f24608)\n",
       "        ;\n",
       "\n",
       "        \n",
       "    \n",
       "    \n",
       "            var marker_d9b79477f07abd023399e02b53ad9c94 = L.marker(\n",
       "                [34.686181999999995, 135.52571988],\n",
       "                {}\n",
       "            ).addTo(map_4f70508b57c4e54c27351fc02fde6cc4);\n",
       "        \n",
       "    \n",
       "            var div_icon_a7bc6ffe3749fe698a40609cc318cf77 = L.divIcon({&quot;className&quot;: &quot;building-label&quot;, &quot;html&quot;: &quot;\\n                    \\u003cdiv style=\\&quot;\\n                        position: relative;\\n                        font-family: monospace;\\n                        font-size: 12px;\\n                        color: black;\\n                        background-color: rgba(255, 255, 255, 0.9);\\n                        padding: 5px 8px;\\n                        margin: -10px -15px;\\n                        border: 1px solid black;\\n                        border-radius: 4px;\\n                        user-select: all;\\n                        cursor: text;\\n                        white-space: nowrap;\\n                        display: inline-block;\\n                        box-shadow: 0 0 3px rgba(0,0,0,0.2);\\n                    \\&quot;\\u003e512474173\\u003c/div\\u003e\\n                    &quot;});\n",
       "            marker_d9b79477f07abd023399e02b53ad9c94.setIcon(div_icon_a7bc6ffe3749fe698a40609cc318cf77);\n",
       "        \n",
       "    \n",
       "            var polygon_a5593af47a2aedc146f0c6f9f757c65c = L.polygon(\n",
       "                [[34.6865847, 135.5250457], [34.686522, 135.5250446], [34.6865209, 135.5251416], [34.6865836, 135.5251426], [34.6865847, 135.5250457]],\n",
       "                {&quot;bubblingMouseEvents&quot;: true, &quot;color&quot;: &quot;blue&quot;, &quot;dashArray&quot;: null, &quot;dashOffset&quot;: null, &quot;fill&quot;: true, &quot;fillColor&quot;: &quot;blue&quot;, &quot;fillOpacity&quot;: 0.2, &quot;fillRule&quot;: &quot;evenodd&quot;, &quot;lineCap&quot;: &quot;round&quot;, &quot;lineJoin&quot;: &quot;round&quot;, &quot;noClip&quot;: false, &quot;opacity&quot;: 1.0, &quot;smoothFactor&quot;: 1.0, &quot;stroke&quot;: true, &quot;weight&quot;: 2}\n",
       "            ).addTo(map_4f70508b57c4e54c27351fc02fde6cc4);\n",
       "        \n",
       "    \n",
       "        var popup_1aa0d5596db6d664e91a28daecc2a5c8 = L.popup({&quot;maxWidth&quot;: &quot;100%&quot;});\n",
       "\n",
       "        \n",
       "            \n",
       "                var html_b237401065a28060bfdaa4bf8e6cba53 = $(`&lt;div id=&quot;html_b237401065a28060bfdaa4bf8e6cba53&quot; style=&quot;width: 100.0%; height: 100.0%;&quot;&gt;             &lt;div&gt;                 Building ID: &lt;span style=&quot;user-select: all&quot;&gt;512474175&lt;/span&gt;&lt;br&gt;                 Name: 公衆トイレ             &lt;/div&gt;             &lt;/div&gt;`)[0];\n",
       "                popup_1aa0d5596db6d664e91a28daecc2a5c8.setContent(html_b237401065a28060bfdaa4bf8e6cba53);\n",
       "            \n",
       "        \n",
       "\n",
       "        polygon_a5593af47a2aedc146f0c6f9f757c65c.bindPopup(popup_1aa0d5596db6d664e91a28daecc2a5c8)\n",
       "        ;\n",
       "\n",
       "        \n",
       "    \n",
       "    \n",
       "            var marker_e04c5911d65ed1f349d6a978f55d58ad = L.marker(\n",
       "                [34.686559179999996, 135.52508404],\n",
       "                {}\n",
       "            ).addTo(map_4f70508b57c4e54c27351fc02fde6cc4);\n",
       "        \n",
       "    \n",
       "            var div_icon_dbd00e65f0493edd974012b21b570000 = L.divIcon({&quot;className&quot;: &quot;building-label&quot;, &quot;html&quot;: &quot;\\n                    \\u003cdiv style=\\&quot;\\n                        position: relative;\\n                        font-family: monospace;\\n                        font-size: 12px;\\n                        color: black;\\n                        background-color: rgba(255, 255, 255, 0.9);\\n                        padding: 5px 8px;\\n                        margin: -10px -15px;\\n                        border: 1px solid black;\\n                        border-radius: 4px;\\n                        user-select: all;\\n                        cursor: text;\\n                        white-space: nowrap;\\n                        display: inline-block;\\n                        box-shadow: 0 0 3px rgba(0,0,0,0.2);\\n                    \\&quot;\\u003e512474175\\u003c/div\\u003e\\n                    &quot;});\n",
       "            marker_e04c5911d65ed1f349d6a978f55d58ad.setIcon(div_icon_dbd00e65f0493edd974012b21b570000);\n",
       "        \n",
       "    \n",
       "            var polygon_37efe1c3b618edc6a52ea8deb3dd3f6e = L.polygon(\n",
       "                [[34.6867105, 135.5257305], [34.6866897, 135.5257299], [34.6866892, 135.5257552], [34.6867101, 135.5257558], [34.6867105, 135.5257305]],\n",
       "                {&quot;bubblingMouseEvents&quot;: true, &quot;color&quot;: &quot;blue&quot;, &quot;dashArray&quot;: null, &quot;dashOffset&quot;: null, &quot;fill&quot;: true, &quot;fillColor&quot;: &quot;blue&quot;, &quot;fillOpacity&quot;: 0.2, &quot;fillRule&quot;: &quot;evenodd&quot;, &quot;lineCap&quot;: &quot;round&quot;, &quot;lineJoin&quot;: &quot;round&quot;, &quot;noClip&quot;: false, &quot;opacity&quot;: 1.0, &quot;smoothFactor&quot;: 1.0, &quot;stroke&quot;: true, &quot;weight&quot;: 2}\n",
       "            ).addTo(map_4f70508b57c4e54c27351fc02fde6cc4);\n",
       "        \n",
       "    \n",
       "        var popup_b891277c10fbc52f713637f25ee9daa2 = L.popup({&quot;maxWidth&quot;: &quot;100%&quot;});\n",
       "\n",
       "        \n",
       "            \n",
       "                var html_f7e615f38fc8f0e98b7ecc119f7370a7 = $(`&lt;div id=&quot;html_f7e615f38fc8f0e98b7ecc119f7370a7&quot; style=&quot;width: 100.0%; height: 100.0%;&quot;&gt;             &lt;div&gt;                 Building ID: &lt;span style=&quot;user-select: all&quot;&gt;512691529&lt;/span&gt;&lt;br&gt;                 Name: 大阪城・上田城友好城郭提携記念碑             &lt;/div&gt;             &lt;/div&gt;`)[0];\n",
       "                popup_b891277c10fbc52f713637f25ee9daa2.setContent(html_f7e615f38fc8f0e98b7ecc119f7370a7);\n",
       "            \n",
       "        \n",
       "\n",
       "        polygon_37efe1c3b618edc6a52ea8deb3dd3f6e.bindPopup(popup_b891277c10fbc52f713637f25ee9daa2)\n",
       "        ;\n",
       "\n",
       "        \n",
       "    \n",
       "    \n",
       "            var marker_0957decaf5b6814d3d53f7b545bdd761 = L.marker(\n",
       "                [34.686702000000004, 135.52574038],\n",
       "                {}\n",
       "            ).addTo(map_4f70508b57c4e54c27351fc02fde6cc4);\n",
       "        \n",
       "    \n",
       "            var div_icon_2ad9988e018df1a404718791a63a7ae2 = L.divIcon({&quot;className&quot;: &quot;building-label&quot;, &quot;html&quot;: &quot;\\n                    \\u003cdiv style=\\&quot;\\n                        position: relative;\\n                        font-family: monospace;\\n                        font-size: 12px;\\n                        color: black;\\n                        background-color: rgba(255, 255, 255, 0.9);\\n                        padding: 5px 8px;\\n                        margin: -10px -15px;\\n                        border: 1px solid black;\\n                        border-radius: 4px;\\n                        user-select: all;\\n                        cursor: text;\\n                        white-space: nowrap;\\n                        display: inline-block;\\n                        box-shadow: 0 0 3px rgba(0,0,0,0.2);\\n                    \\&quot;\\u003e512691529\\u003c/div\\u003e\\n                    &quot;});\n",
       "            marker_0957decaf5b6814d3d53f7b545bdd761.setIcon(div_icon_2ad9988e018df1a404718791a63a7ae2);\n",
       "        \n",
       "    \n",
       "            var polygon_8ad723cbec86090f3dc635c50bccc0e6 = L.polygon(\n",
       "                [[34.688032, 135.5268229], [34.6879992, 135.5268096], [34.6879863, 135.5268564], [34.6880191, 135.5268696], [34.688032, 135.5268229]],\n",
       "                {&quot;bubblingMouseEvents&quot;: true, &quot;color&quot;: &quot;blue&quot;, &quot;dashArray&quot;: null, &quot;dashOffset&quot;: null, &quot;fill&quot;: true, &quot;fillColor&quot;: &quot;blue&quot;, &quot;fillOpacity&quot;: 0.2, &quot;fillRule&quot;: &quot;evenodd&quot;, &quot;lineCap&quot;: &quot;round&quot;, &quot;lineJoin&quot;: &quot;round&quot;, &quot;noClip&quot;: false, &quot;opacity&quot;: 1.0, &quot;smoothFactor&quot;: 1.0, &quot;stroke&quot;: true, &quot;weight&quot;: 2}\n",
       "            ).addTo(map_4f70508b57c4e54c27351fc02fde6cc4);\n",
       "        \n",
       "    \n",
       "        var popup_c52c8bddf11569651104310695d5f139 = L.popup({&quot;maxWidth&quot;: &quot;100%&quot;});\n",
       "\n",
       "        \n",
       "            \n",
       "                var html_21291fbeb2ee0ba4510f0f57615e0217 = $(`&lt;div id=&quot;html_21291fbeb2ee0ba4510f0f57615e0217&quot; style=&quot;width: 100.0%; height: 100.0%;&quot;&gt;             &lt;div&gt;                 Building ID: &lt;span style=&quot;user-select: all&quot;&gt;517584405&lt;/span&gt;&lt;br&gt;                 Name: Building 517584405             &lt;/div&gt;             &lt;/div&gt;`)[0];\n",
       "                popup_c52c8bddf11569651104310695d5f139.setContent(html_21291fbeb2ee0ba4510f0f57615e0217);\n",
       "            \n",
       "        \n",
       "\n",
       "        polygon_8ad723cbec86090f3dc635c50bccc0e6.bindPopup(popup_c52c8bddf11569651104310695d5f139)\n",
       "        ;\n",
       "\n",
       "        \n",
       "    \n",
       "    \n",
       "            var marker_1ce6ed14648e8c9a9528c923c19b3315 = L.marker(\n",
       "                [34.68801372, 135.52683628],\n",
       "                {}\n",
       "            ).addTo(map_4f70508b57c4e54c27351fc02fde6cc4);\n",
       "        \n",
       "    \n",
       "            var div_icon_214b5a98339a08ec6b6c868ca0049205 = L.divIcon({&quot;className&quot;: &quot;building-label&quot;, &quot;html&quot;: &quot;\\n                    \\u003cdiv style=\\&quot;\\n                        position: relative;\\n                        font-family: monospace;\\n                        font-size: 12px;\\n                        color: black;\\n                        background-color: rgba(255, 255, 255, 0.9);\\n                        padding: 5px 8px;\\n                        margin: -10px -15px;\\n                        border: 1px solid black;\\n                        border-radius: 4px;\\n                        user-select: all;\\n                        cursor: text;\\n                        white-space: nowrap;\\n                        display: inline-block;\\n                        box-shadow: 0 0 3px rgba(0,0,0,0.2);\\n                    \\&quot;\\u003e517584405\\u003c/div\\u003e\\n                    &quot;});\n",
       "            marker_1ce6ed14648e8c9a9528c923c19b3315.setIcon(div_icon_214b5a98339a08ec6b6c868ca0049205);\n",
       "        \n",
       "    \n",
       "            var polygon_c3854aee21be107e7b8e6819535774b6 = L.polygon(\n",
       "                [[34.6871261, 135.5258994], [34.6871221, 135.525949], [34.6869439, 135.5259351], [34.6869597, 135.5256556], [34.6870262, 135.5256614], [34.6870244, 135.5256911], [34.6869852, 135.5256876], [34.6869745, 135.5258682], [34.686998, 135.5258719], [34.6869963, 135.5259073], [34.6870974, 135.5259208], [34.6871009, 135.5258965], [34.6871261, 135.5258994]],\n",
       "                {&quot;bubblingMouseEvents&quot;: true, &quot;color&quot;: &quot;blue&quot;, &quot;dashArray&quot;: null, &quot;dashOffset&quot;: null, &quot;fill&quot;: true, &quot;fillColor&quot;: &quot;blue&quot;, &quot;fillOpacity&quot;: 0.2, &quot;fillRule&quot;: &quot;evenodd&quot;, &quot;lineCap&quot;: &quot;round&quot;, &quot;lineJoin&quot;: &quot;round&quot;, &quot;noClip&quot;: false, &quot;opacity&quot;: 1.0, &quot;smoothFactor&quot;: 1.0, &quot;stroke&quot;: true, &quot;weight&quot;: 2}\n",
       "            ).addTo(map_4f70508b57c4e54c27351fc02fde6cc4);\n",
       "        \n",
       "    \n",
       "        var popup_2761fefd797d25ddcbf2966705007f52 = L.popup({&quot;maxWidth&quot;: &quot;100%&quot;});\n",
       "\n",
       "        \n",
       "            \n",
       "                var html_a999db2265ddf6de9b96f7531f2dfe28 = $(`&lt;div id=&quot;html_a999db2265ddf6de9b96f7531f2dfe28&quot; style=&quot;width: 100.0%; height: 100.0%;&quot;&gt;             &lt;div&gt;                 Building ID: &lt;span style=&quot;user-select: all&quot;&gt;518143058&lt;/span&gt;&lt;br&gt;                 Name: Building 518143058             &lt;/div&gt;             &lt;/div&gt;`)[0];\n",
       "                popup_2761fefd797d25ddcbf2966705007f52.setContent(html_a999db2265ddf6de9b96f7531f2dfe28);\n",
       "            \n",
       "        \n",
       "\n",
       "        polygon_c3854aee21be107e7b8e6819535774b6.bindPopup(popup_2761fefd797d25ddcbf2966705007f52)\n",
       "        ;\n",
       "\n",
       "        \n",
       "    \n",
       "    \n",
       "            var marker_50e666e378fd345030f3bddd957a5f01 = L.marker(\n",
       "                [34.68703698461539, 135.5258341],\n",
       "                {}\n",
       "            ).addTo(map_4f70508b57c4e54c27351fc02fde6cc4);\n",
       "        \n",
       "    \n",
       "            var div_icon_0daf6269c51761a5167dbabf177670d1 = L.divIcon({&quot;className&quot;: &quot;building-label&quot;, &quot;html&quot;: &quot;\\n                    \\u003cdiv style=\\&quot;\\n                        position: relative;\\n                        font-family: monospace;\\n                        font-size: 12px;\\n                        color: black;\\n                        background-color: rgba(255, 255, 255, 0.9);\\n                        padding: 5px 8px;\\n                        margin: -10px -15px;\\n                        border: 1px solid black;\\n                        border-radius: 4px;\\n                        user-select: all;\\n                        cursor: text;\\n                        white-space: nowrap;\\n                        display: inline-block;\\n                        box-shadow: 0 0 3px rgba(0,0,0,0.2);\\n                    \\&quot;\\u003e518143058\\u003c/div\\u003e\\n                    &quot;});\n",
       "            marker_50e666e378fd345030f3bddd957a5f01.setIcon(div_icon_0daf6269c51761a5167dbabf177670d1);\n",
       "        \n",
       "    \n",
       "            var polygon_643c309557e1ea16b5bfe468f81e5a6b = L.polygon(\n",
       "                [[34.6871488, 135.5258033], [34.6871498, 135.5257771], [34.6871527, 135.5257339], [34.6871373, 135.525731], [34.687137, 135.5257568], [34.6871134, 135.525754], [34.6871161, 135.5256702], [34.6871994, 135.5256789], [34.6871909, 135.5257826], [34.6871859, 135.5258401], [34.6871055, 135.5258304], [34.6871079, 135.5257993], [34.6871488, 135.5258033]],\n",
       "                {&quot;bubblingMouseEvents&quot;: true, &quot;color&quot;: &quot;blue&quot;, &quot;dashArray&quot;: null, &quot;dashOffset&quot;: null, &quot;fill&quot;: true, &quot;fillColor&quot;: &quot;blue&quot;, &quot;fillOpacity&quot;: 0.2, &quot;fillRule&quot;: &quot;evenodd&quot;, &quot;lineCap&quot;: &quot;round&quot;, &quot;lineJoin&quot;: &quot;round&quot;, &quot;noClip&quot;: false, &quot;opacity&quot;: 1.0, &quot;smoothFactor&quot;: 1.0, &quot;stroke&quot;: true, &quot;weight&quot;: 2}\n",
       "            ).addTo(map_4f70508b57c4e54c27351fc02fde6cc4);\n",
       "        \n",
       "    \n",
       "        var popup_a8b131c4c5bfc4cb0d3cc849be819f88 = L.popup({&quot;maxWidth&quot;: &quot;100%&quot;});\n",
       "\n",
       "        \n",
       "            \n",
       "                var html_27774e22a31c51ce2a2a0fea619293f8 = $(`&lt;div id=&quot;html_27774e22a31c51ce2a2a0fea619293f8&quot; style=&quot;width: 100.0%; height: 100.0%;&quot;&gt;             &lt;div&gt;                 Building ID: &lt;span style=&quot;user-select: all&quot;&gt;518143060&lt;/span&gt;&lt;br&gt;                 Name: Building 518143060             &lt;/div&gt;             &lt;/div&gt;`)[0];\n",
       "                popup_a8b131c4c5bfc4cb0d3cc849be819f88.setContent(html_27774e22a31c51ce2a2a0fea619293f8);\n",
       "            \n",
       "        \n",
       "\n",
       "        polygon_643c309557e1ea16b5bfe468f81e5a6b.bindPopup(popup_a8b131c4c5bfc4cb0d3cc849be819f88)\n",
       "        ;\n",
       "\n",
       "        \n",
       "    \n",
       "    \n",
       "            var marker_988146d4e1045c6efcc2b38ee951fedd = L.marker(\n",
       "                [34.68714565384615, 135.52576622307694],\n",
       "                {}\n",
       "            ).addTo(map_4f70508b57c4e54c27351fc02fde6cc4);\n",
       "        \n",
       "    \n",
       "            var div_icon_b1dba26a0d0cb1dcda6433fbf68e0da1 = L.divIcon({&quot;className&quot;: &quot;building-label&quot;, &quot;html&quot;: &quot;\\n                    \\u003cdiv style=\\&quot;\\n                        position: relative;\\n                        font-family: monospace;\\n                        font-size: 12px;\\n                        color: black;\\n                        background-color: rgba(255, 255, 255, 0.9);\\n                        padding: 5px 8px;\\n                        margin: -10px -15px;\\n                        border: 1px solid black;\\n                        border-radius: 4px;\\n                        user-select: all;\\n                        cursor: text;\\n                        white-space: nowrap;\\n                        display: inline-block;\\n                        box-shadow: 0 0 3px rgba(0,0,0,0.2);\\n                    \\&quot;\\u003e518143060\\u003c/div\\u003e\\n                    &quot;});\n",
       "            marker_988146d4e1045c6efcc2b38ee951fedd.setIcon(div_icon_b1dba26a0d0cb1dcda6433fbf68e0da1);\n",
       "        \n",
       "    \n",
       "            var polygon_884ba7f4517cdbd8dac05b5096e34cb1 = L.polygon(\n",
       "                [[34.6859233, 135.5266341], [34.6859226, 135.5267327], [34.6857592, 135.5267307], [34.68576, 135.526632], [34.6859233, 135.5266341]],\n",
       "                {&quot;bubblingMouseEvents&quot;: true, &quot;color&quot;: &quot;blue&quot;, &quot;dashArray&quot;: null, &quot;dashOffset&quot;: null, &quot;fill&quot;: true, &quot;fillColor&quot;: &quot;blue&quot;, &quot;fillOpacity&quot;: 0.2, &quot;fillRule&quot;: &quot;evenodd&quot;, &quot;lineCap&quot;: &quot;round&quot;, &quot;lineJoin&quot;: &quot;round&quot;, &quot;noClip&quot;: false, &quot;opacity&quot;: 1.0, &quot;smoothFactor&quot;: 1.0, &quot;stroke&quot;: true, &quot;weight&quot;: 2}\n",
       "            ).addTo(map_4f70508b57c4e54c27351fc02fde6cc4);\n",
       "        \n",
       "    \n",
       "        var popup_a84e88bbad8005005914599ba3617ced = L.popup({&quot;maxWidth&quot;: &quot;100%&quot;});\n",
       "\n",
       "        \n",
       "            \n",
       "                var html_ff060f0a58520beb318936534cd65b29 = $(`&lt;div id=&quot;html_ff060f0a58520beb318936534cd65b29&quot; style=&quot;width: 100.0%; height: 100.0%;&quot;&gt;             &lt;div&gt;                 Building ID: &lt;span style=&quot;user-select: all&quot;&gt;902612758&lt;/span&gt;&lt;br&gt;                 Name: Building 902612758             &lt;/div&gt;             &lt;/div&gt;`)[0];\n",
       "                popup_a84e88bbad8005005914599ba3617ced.setContent(html_ff060f0a58520beb318936534cd65b29);\n",
       "            \n",
       "        \n",
       "\n",
       "        polygon_884ba7f4517cdbd8dac05b5096e34cb1.bindPopup(popup_a84e88bbad8005005914599ba3617ced)\n",
       "        ;\n",
       "\n",
       "        \n",
       "    \n",
       "    \n",
       "            var marker_a6757256245c8794c412a642e21ea7bb = L.marker(\n",
       "                [34.68585768, 135.52667272],\n",
       "                {}\n",
       "            ).addTo(map_4f70508b57c4e54c27351fc02fde6cc4);\n",
       "        \n",
       "    \n",
       "            var div_icon_e2698cadb6f6fc8e68a9e231b067871d = L.divIcon({&quot;className&quot;: &quot;building-label&quot;, &quot;html&quot;: &quot;\\n                    \\u003cdiv style=\\&quot;\\n                        position: relative;\\n                        font-family: monospace;\\n                        font-size: 12px;\\n                        color: black;\\n                        background-color: rgba(255, 255, 255, 0.9);\\n                        padding: 5px 8px;\\n                        margin: -10px -15px;\\n                        border: 1px solid black;\\n                        border-radius: 4px;\\n                        user-select: all;\\n                        cursor: text;\\n                        white-space: nowrap;\\n                        display: inline-block;\\n                        box-shadow: 0 0 3px rgba(0,0,0,0.2);\\n                    \\&quot;\\u003e902612758\\u003c/div\\u003e\\n                    &quot;});\n",
       "            marker_a6757256245c8794c412a642e21ea7bb.setIcon(div_icon_e2698cadb6f6fc8e68a9e231b067871d);\n",
       "        \n",
       "    \n",
       "            var polygon_bdfc494552cdd8c7422431cc9a5d127d = L.polygon(\n",
       "                [[34.6875534, 135.5256948], [34.6872173, 135.5256579], [34.6871922, 135.5260146], [34.6875274, 135.5260515], [34.6875534, 135.5256948]],\n",
       "                {&quot;bubblingMouseEvents&quot;: true, &quot;color&quot;: &quot;blue&quot;, &quot;dashArray&quot;: null, &quot;dashOffset&quot;: null, &quot;fill&quot;: true, &quot;fillColor&quot;: &quot;blue&quot;, &quot;fillOpacity&quot;: 0.2, &quot;fillRule&quot;: &quot;evenodd&quot;, &quot;lineCap&quot;: &quot;round&quot;, &quot;lineJoin&quot;: &quot;round&quot;, &quot;noClip&quot;: false, &quot;opacity&quot;: 1.0, &quot;smoothFactor&quot;: 1.0, &quot;stroke&quot;: true, &quot;weight&quot;: 2}\n",
       "            ).addTo(map_4f70508b57c4e54c27351fc02fde6cc4);\n",
       "        \n",
       "    \n",
       "        var popup_646833e2ebadecde81416c5b3c92f865 = L.popup({&quot;maxWidth&quot;: &quot;100%&quot;});\n",
       "\n",
       "        \n",
       "            \n",
       "                var html_1783553bfb8e7fe457d32a9372c2fd3e = $(`&lt;div id=&quot;html_1783553bfb8e7fe457d32a9372c2fd3e&quot; style=&quot;width: 100.0%; height: 100.0%;&quot;&gt;             &lt;div&gt;                 Building ID: &lt;span style=&quot;user-select: all&quot;&gt;1223142998&lt;/span&gt;&lt;br&gt;                 Name: Building 1223142998             &lt;/div&gt;             &lt;/div&gt;`)[0];\n",
       "                popup_646833e2ebadecde81416c5b3c92f865.setContent(html_1783553bfb8e7fe457d32a9372c2fd3e);\n",
       "            \n",
       "        \n",
       "\n",
       "        polygon_bdfc494552cdd8c7422431cc9a5d127d.bindPopup(popup_646833e2ebadecde81416c5b3c92f865)\n",
       "        ;\n",
       "\n",
       "        \n",
       "    \n",
       "    \n",
       "            var marker_248481cf112f4b0fd18bf1b65ab1180f = L.marker(\n",
       "                [34.68740874, 135.52582272],\n",
       "                {}\n",
       "            ).addTo(map_4f70508b57c4e54c27351fc02fde6cc4);\n",
       "        \n",
       "    \n",
       "            var div_icon_b5bd45ca453f1d6cfaf3465a75c1d3db = L.divIcon({&quot;className&quot;: &quot;building-label&quot;, &quot;html&quot;: &quot;\\n                    \\u003cdiv style=\\&quot;\\n                        position: relative;\\n                        font-family: monospace;\\n                        font-size: 12px;\\n                        color: black;\\n                        background-color: rgba(255, 255, 255, 0.9);\\n                        padding: 5px 8px;\\n                        margin: -10px -15px;\\n                        border: 1px solid black;\\n                        border-radius: 4px;\\n                        user-select: all;\\n                        cursor: text;\\n                        white-space: nowrap;\\n                        display: inline-block;\\n                        box-shadow: 0 0 3px rgba(0,0,0,0.2);\\n                    \\&quot;\\u003e1223142998\\u003c/div\\u003e\\n                    &quot;});\n",
       "            marker_248481cf112f4b0fd18bf1b65ab1180f.setIcon(div_icon_b5bd45ca453f1d6cfaf3465a75c1d3db);\n",
       "        \n",
       "    \n",
       "            var polygon_bf726ccf515af4310365d008e0209dd2 = L.polygon(\n",
       "                [[34.6872207, 135.5259868], [34.6875034, 135.5260167], [34.6875246, 135.5257231], [34.6872442, 135.5256895], [34.6872207, 135.5259868]],\n",
       "                {&quot;bubblingMouseEvents&quot;: true, &quot;color&quot;: &quot;blue&quot;, &quot;dashArray&quot;: null, &quot;dashOffset&quot;: null, &quot;fill&quot;: true, &quot;fillColor&quot;: &quot;blue&quot;, &quot;fillOpacity&quot;: 0.2, &quot;fillRule&quot;: &quot;evenodd&quot;, &quot;lineCap&quot;: &quot;round&quot;, &quot;lineJoin&quot;: &quot;round&quot;, &quot;noClip&quot;: false, &quot;opacity&quot;: 1.0, &quot;smoothFactor&quot;: 1.0, &quot;stroke&quot;: true, &quot;weight&quot;: 2}\n",
       "            ).addTo(map_4f70508b57c4e54c27351fc02fde6cc4);\n",
       "        \n",
       "    \n",
       "        var popup_ebbfb1dc5bde491973a747ffc7811fdc = L.popup({&quot;maxWidth&quot;: &quot;100%&quot;});\n",
       "\n",
       "        \n",
       "            \n",
       "                var html_dd75e1c28010ea72012d0df756f463ee = $(`&lt;div id=&quot;html_dd75e1c28010ea72012d0df756f463ee&quot; style=&quot;width: 100.0%; height: 100.0%;&quot;&gt;             &lt;div&gt;                 Building ID: &lt;span style=&quot;user-select: all&quot;&gt;1223142999&lt;/span&gt;&lt;br&gt;                 Name: Building 1223142999             &lt;/div&gt;             &lt;/div&gt;`)[0];\n",
       "                popup_ebbfb1dc5bde491973a747ffc7811fdc.setContent(html_dd75e1c28010ea72012d0df756f463ee);\n",
       "            \n",
       "        \n",
       "\n",
       "        polygon_bf726ccf515af4310365d008e0209dd2.bindPopup(popup_ebbfb1dc5bde491973a747ffc7811fdc)\n",
       "        ;\n",
       "\n",
       "        \n",
       "    \n",
       "    \n",
       "            var marker_650063197d0953481e96c9685fffcf39 = L.marker(\n",
       "                [34.68734272, 135.52588058],\n",
       "                {}\n",
       "            ).addTo(map_4f70508b57c4e54c27351fc02fde6cc4);\n",
       "        \n",
       "    \n",
       "            var div_icon_a998e98f3d02f2103f4e953dbe467442 = L.divIcon({&quot;className&quot;: &quot;building-label&quot;, &quot;html&quot;: &quot;\\n                    \\u003cdiv style=\\&quot;\\n                        position: relative;\\n                        font-family: monospace;\\n                        font-size: 12px;\\n                        color: black;\\n                        background-color: rgba(255, 255, 255, 0.9);\\n                        padding: 5px 8px;\\n                        margin: -10px -15px;\\n                        border: 1px solid black;\\n                        border-radius: 4px;\\n                        user-select: all;\\n                        cursor: text;\\n                        white-space: nowrap;\\n                        display: inline-block;\\n                        box-shadow: 0 0 3px rgba(0,0,0,0.2);\\n                    \\&quot;\\u003e1223142999\\u003c/div\\u003e\\n                    &quot;});\n",
       "            marker_650063197d0953481e96c9685fffcf39.setIcon(div_icon_a998e98f3d02f2103f4e953dbe467442);\n",
       "        \n",
       "    \n",
       "            var polygon_1760d5e6dafa543e9d40c505fc07d8b9 = L.polygon(\n",
       "                [[34.6874781, 135.5257483], [34.6872855, 135.5257288], [34.6872687, 135.525959], [34.6874605, 135.5259802], [34.6874781, 135.5257483]],\n",
       "                {&quot;bubblingMouseEvents&quot;: true, &quot;color&quot;: &quot;blue&quot;, &quot;dashArray&quot;: null, &quot;dashOffset&quot;: null, &quot;fill&quot;: true, &quot;fillColor&quot;: &quot;blue&quot;, &quot;fillOpacity&quot;: 0.2, &quot;fillRule&quot;: &quot;evenodd&quot;, &quot;lineCap&quot;: &quot;round&quot;, &quot;lineJoin&quot;: &quot;round&quot;, &quot;noClip&quot;: false, &quot;opacity&quot;: 1.0, &quot;smoothFactor&quot;: 1.0, &quot;stroke&quot;: true, &quot;weight&quot;: 2}\n",
       "            ).addTo(map_4f70508b57c4e54c27351fc02fde6cc4);\n",
       "        \n",
       "    \n",
       "        var popup_a31331feb4d8f07f51bdd2e305d5819a = L.popup({&quot;maxWidth&quot;: &quot;100%&quot;});\n",
       "\n",
       "        \n",
       "            \n",
       "                var html_38c9abb048eb03b6e5738c185ba0dae7 = $(`&lt;div id=&quot;html_38c9abb048eb03b6e5738c185ba0dae7&quot; style=&quot;width: 100.0%; height: 100.0%;&quot;&gt;             &lt;div&gt;                 Building ID: &lt;span style=&quot;user-select: all&quot;&gt;1223143000&lt;/span&gt;&lt;br&gt;                 Name: Building 1223143000             &lt;/div&gt;             &lt;/div&gt;`)[0];\n",
       "                popup_a31331feb4d8f07f51bdd2e305d5819a.setContent(html_38c9abb048eb03b6e5738c185ba0dae7);\n",
       "            \n",
       "        \n",
       "\n",
       "        polygon_1760d5e6dafa543e9d40c505fc07d8b9.bindPopup(popup_a31331feb4d8f07f51bdd2e305d5819a)\n",
       "        ;\n",
       "\n",
       "        \n",
       "    \n",
       "    \n",
       "            var marker_82870b5489db1f8e9bf07863489b2834 = L.marker(\n",
       "                [34.68739418, 135.52583292],\n",
       "                {}\n",
       "            ).addTo(map_4f70508b57c4e54c27351fc02fde6cc4);\n",
       "        \n",
       "    \n",
       "            var div_icon_096d9f57db3d2877fc4baea1acde5c85 = L.divIcon({&quot;className&quot;: &quot;building-label&quot;, &quot;html&quot;: &quot;\\n                    \\u003cdiv style=\\&quot;\\n                        position: relative;\\n                        font-family: monospace;\\n                        font-size: 12px;\\n                        color: black;\\n                        background-color: rgba(255, 255, 255, 0.9);\\n                        padding: 5px 8px;\\n                        margin: -10px -15px;\\n                        border: 1px solid black;\\n                        border-radius: 4px;\\n                        user-select: all;\\n                        cursor: text;\\n                        white-space: nowrap;\\n                        display: inline-block;\\n                        box-shadow: 0 0 3px rgba(0,0,0,0.2);\\n                    \\&quot;\\u003e1223143000\\u003c/div\\u003e\\n                    &quot;});\n",
       "            marker_82870b5489db1f8e9bf07863489b2834.setIcon(div_icon_096d9f57db3d2877fc4baea1acde5c85);\n",
       "        \n",
       "    \n",
       "            var polygon_c7803705fc0cc29a3ee790ff6da7b97a = L.polygon(\n",
       "                [[34.6874273, 135.5257927], [34.687327, 135.5257826], [34.6873179, 135.525916], [34.6874182, 135.5259261], [34.6874273, 135.5257927]],\n",
       "                {&quot;bubblingMouseEvents&quot;: true, &quot;color&quot;: &quot;blue&quot;, &quot;dashArray&quot;: null, &quot;dashOffset&quot;: null, &quot;fill&quot;: true, &quot;fillColor&quot;: &quot;blue&quot;, &quot;fillOpacity&quot;: 0.2, &quot;fillRule&quot;: &quot;evenodd&quot;, &quot;lineCap&quot;: &quot;round&quot;, &quot;lineJoin&quot;: &quot;round&quot;, &quot;noClip&quot;: false, &quot;opacity&quot;: 1.0, &quot;smoothFactor&quot;: 1.0, &quot;stroke&quot;: true, &quot;weight&quot;: 2}\n",
       "            ).addTo(map_4f70508b57c4e54c27351fc02fde6cc4);\n",
       "        \n",
       "    \n",
       "        var popup_214db36bab5cd81a498d6df7fb38bdbe = L.popup({&quot;maxWidth&quot;: &quot;100%&quot;});\n",
       "\n",
       "        \n",
       "            \n",
       "                var html_c1e6f0fa5ca4bc98dfd384d7add49a3f = $(`&lt;div id=&quot;html_c1e6f0fa5ca4bc98dfd384d7add49a3f&quot; style=&quot;width: 100.0%; height: 100.0%;&quot;&gt;             &lt;div&gt;                 Building ID: &lt;span style=&quot;user-select: all&quot;&gt;1223143001&lt;/span&gt;&lt;br&gt;                 Name: Building 1223143001             &lt;/div&gt;             &lt;/div&gt;`)[0];\n",
       "                popup_214db36bab5cd81a498d6df7fb38bdbe.setContent(html_c1e6f0fa5ca4bc98dfd384d7add49a3f);\n",
       "            \n",
       "        \n",
       "\n",
       "        polygon_c7803705fc0cc29a3ee790ff6da7b97a.bindPopup(popup_214db36bab5cd81a498d6df7fb38bdbe)\n",
       "        ;\n",
       "\n",
       "        \n",
       "    \n",
       "    \n",
       "            var marker_0ed71b4383bbbf49b3309ea0e799e331 = L.marker(\n",
       "                [34.68738354, 135.52584202],\n",
       "                {}\n",
       "            ).addTo(map_4f70508b57c4e54c27351fc02fde6cc4);\n",
       "        \n",
       "    \n",
       "            var div_icon_52c8cafa04c1913cb95a1a033e556a1e = L.divIcon({&quot;className&quot;: &quot;building-label&quot;, &quot;html&quot;: &quot;\\n                    \\u003cdiv style=\\&quot;\\n                        position: relative;\\n                        font-family: monospace;\\n                        font-size: 12px;\\n                        color: black;\\n                        background-color: rgba(255, 255, 255, 0.9);\\n                        padding: 5px 8px;\\n                        margin: -10px -15px;\\n                        border: 1px solid black;\\n                        border-radius: 4px;\\n                        user-select: all;\\n                        cursor: text;\\n                        white-space: nowrap;\\n                        display: inline-block;\\n                        box-shadow: 0 0 3px rgba(0,0,0,0.2);\\n                    \\&quot;\\u003e1223143001\\u003c/div\\u003e\\n                    &quot;});\n",
       "            marker_0ed71b4383bbbf49b3309ea0e799e331.setIcon(div_icon_52c8cafa04c1913cb95a1a033e556a1e);\n",
       "        \n",
       "&lt;/script&gt;\n",
       "&lt;/html&gt;\" style=\"position:absolute;width:100%;height:100%;left:0;top:0;border:none !important;\" allowfullscreen webkitallowfullscreen mozallowfullscreen></iframe></div></div>"
      ],
      "text/plain": [
       "<folium.folium.Map at 0x1d44d3f2660>"
      ]
     },
     "execution_count": 17,
     "metadata": {},
     "output_type": "execute_result"
    }
   ],
   "source": [
    "#@title Simulation of landmark visibility\n",
    "from voxelcity.utils.visualization import display_builing_ids_on_map\n",
    "display_builing_ids_on_map(building_geojson, rectangle_vertices)"
   ]
  },
  {
   "cell_type": "markdown",
   "metadata": {},
   "source": [
    "# **References**\n",
    "\n",
    "**OpenStreetMap**\n",
    "\n",
    "Type: Building footprint\n",
    "\n",
    "Coverage: All over the world (crowdsourced)\n",
    "\n",
    "Link:https://wiki.openstreetmap.org/wiki/Key:building\n",
    "\n",
    "**Microsoft Building Footprints**\n",
    "\n",
    "Type: Building footprint\n",
    "\n",
    "Coverage: footprint: all over the world, height: US, Europe, Australia\n",
    "\n",
    "Link: https://github.com/microsoft/GlobalMLBuildingFootprints\n",
    "\n",
    "**Urbanwatch**\n",
    "\n",
    "Type: Land Use Land Cover\n",
    "\n",
    "Resolution: 1 meter\n",
    "\n",
    "Coverage: 22 major cities in the US including Atlanta, Boston, Charlotte, Chicago, Denver, Dallas, Detroit, Houston, Los Angeles, Miami, Minneapolis, New York City, Philadelphia, Phoenix, Raleigh, Riverside, San Diego, San Francisco, Seattle, Tampa, St. Louis, and Washington D.C.\n",
    "\n",
    "Link: https://urbanwatch.charlotte.edu/\n",
    "\n",
    "Citation: Zhang, Y., Chen, G., Myint, S.W., Zhou, Y., Hay, G.J., Vukomanovic, J., & Meentemeyer, R.K. (2022). UrbanWatch: A 1-meter resolution land cover and land use database for 22 major cities in the United States. Remote Sensing of Environment, 278: 113106.\n",
    "\n",
    "**OpenEarthMap Japan**\n",
    "\n",
    "Type: Land Use Land Cover\n",
    "\n",
    "Resolution: <= 1 meter\n",
    "\n",
    "Coverage: Japan\n",
    "\n",
    "Link: https://www.open-earth-map.org/demo/Japan/leaflet.html\n",
    "\n",
    "Citation: Yokoya, N., Xia, J., & Broni-Bediako, C. (2024). Submeter-level land cover mapping of Japan. International Journal of Applied Earth Observation and Geoinformation, 127, 103660.\n",
    "\n",
    "**ESA World Cover**\n",
    "\n",
    "Type: Land Use Land Cover\n",
    "\n",
    "Resolution: 10 meters\n",
    "\n",
    "Coverage: All over the world\n",
    "\n",
    "Link: https://esa-worldcover.org/en\n",
    "\n",
    "**NASA DEM**\n",
    "\n",
    "Type: Digital Elevation Model\n",
    "\n",
    "Resolution: <= 30 meters\n",
    "\n",
    "Coverage: All over the world\n",
    "\n",
    "Link: https://developers.google.com/earth-engine/datasets/catalog/USGS_SRTMGL1_003\n",
    "\n",
    "**COPERNICUS DEM**\n",
    "\n",
    "Type: Digital Elevation Model\n",
    "\n",
    "Resolution: <= 30 meters\n",
    "\n",
    "Coverage: All over the world\n",
    "\n",
    "Link: https://developers.google.com/earth-engine/datasets/catalog/COPERNICUS_DEM_GLO30\n",
    "\n",
    "**DeltaDTM**\n",
    "\n",
    "Type: Digital Terrain Model\n",
    "\n",
    "Resolution: <= 30 meters\n",
    "\n",
    "Coverage: All over the world (coastral area)\n",
    "\n",
    "Link: https://gee-community-catalog.org/projects/delta_dtm/\n",
    "\n"
   ]
  }
 ],
 "metadata": {
  "colab": {
   "authorship_tag": "ABX9TyP0I5fNMNjJ1Idrl3IjdjyQ",
   "mount_file_id": "1b7jE-b8tX-ZbOEwZjyUDusMv2PLoaYTG",
   "provenance": []
  },
  "kernelspec": {
   "display_name": "voxelcity",
   "language": "python",
   "name": "voxelcity"
  },
  "language_info": {
   "codemirror_mode": {
    "name": "ipython",
    "version": 3
   },
   "file_extension": ".py",
   "mimetype": "text/x-python",
   "name": "python",
   "nbconvert_exporter": "python",
   "pygments_lexer": "ipython3",
   "version": "3.12.7"
  },
  "widgets": {
   "application/vnd.jupyter.widget-state+json": {
    "00d54f381cb247559a88ef8bf695ac1a": {
     "model_module": "jupyter-leaflet",
     "model_module_version": "^0.19",
     "model_name": "LeafletTileLayerModel",
     "state": {
      "_model_module": "jupyter-leaflet",
      "_model_module_version": "^0.19",
      "_model_name": "LeafletTileLayerModel",
      "_view_count": null,
      "_view_module": "jupyter-leaflet",
      "_view_module_version": "^0.19",
      "_view_name": "LeafletTileLayerView",
      "attribution": "&copy; <a href=\"https://www.openstreetmap.org/copyright\">OpenStreetMap</a> contributors",
      "base": true,
      "bottom": true,
      "bounds": null,
      "detect_retina": false,
      "loading": false,
      "max_native_zoom": null,
      "max_zoom": 19,
      "min_native_zoom": null,
      "min_zoom": 1,
      "name": "OpenStreetMap.Mapnik",
      "no_wrap": false,
      "opacity": 1,
      "options": [
       "attribution",
       "bounds",
       "detect_retina",
       "max_native_zoom",
       "max_zoom",
       "min_native_zoom",
       "min_zoom",
       "no_wrap",
       "tile_size",
       "tms",
       "zoom_offset"
      ],
      "pane": "",
      "popup": null,
      "popup_max_height": null,
      "popup_max_width": 300,
      "popup_min_width": 50,
      "show_loading": false,
      "subitems": [],
      "tile_size": 256,
      "tms": false,
      "url": "https://tile.openstreetmap.org/{z}/{x}/{y}.png",
      "visible": true,
      "zoom_offset": 0
     }
    },
    "1ee31ad06e0a4a0aa83f59786b3a884a": {
     "model_module": "jupyter-leaflet",
     "model_module_version": "^0.19",
     "model_name": "LeafletDrawControlModel",
     "state": {
      "_model_module": "jupyter-leaflet",
      "_model_module_version": "^0.19",
      "_model_name": "LeafletDrawControlModel",
      "_view_count": null,
      "_view_module": "jupyter-leaflet",
      "_view_module_version": "^0.19",
      "_view_name": "LeafletDrawControlView",
      "circle": {},
      "circlemarker": {
       "shapeOptions": {}
      },
      "data": [],
      "edit": true,
      "marker": {},
      "options": [
       "position"
      ],
      "polygon": {},
      "polyline": {},
      "position": "topleft",
      "rectangle": {
       "shapeOptions": {
        "color": "#6bc2e5",
        "weight": 4
       }
      },
      "remove": true
     }
    },
    "4331ec93404a4bb7829aeccf767f009f": {
     "model_module": "jupyter-leaflet",
     "model_module_version": "^0.19",
     "model_name": "LeafletMapModel",
     "state": {
      "_dom_classes": [],
      "_model_module": "jupyter-leaflet",
      "_model_module_version": "^0.19",
      "_model_name": "LeafletMapModel",
      "_view_count": null,
      "_view_module": "jupyter-leaflet",
      "_view_module_version": "^0.19",
      "_view_name": "LeafletMapView",
      "bottom": 4162878,
      "bounce_at_zoom_limits": true,
      "box_zoom": true,
      "center": [
       1.357107,
       103.8194992
      ],
      "close_popup_on_click": true,
      "controls": [
       "IPY_MODEL_bb4ef23c7591404387c030ac01fda6a5",
       "IPY_MODEL_89a847ecd1db40c88bf8000863996476",
       "IPY_MODEL_1ee31ad06e0a4a0aa83f59786b3a884a"
      ],
      "crs": {
       "custom": false,
       "name": "EPSG3857"
      },
      "default_style": "IPY_MODEL_f08e0f82d8114978a59c3a45f1ea3b41",
      "double_click_zoom": true,
      "dragging": true,
      "dragging_style": "IPY_MODEL_4eb70ec0199948439bc87c3bef920b37",
      "east": 103.8618278503418,
      "fullscreen": false,
      "inertia": true,
      "inertia_deceleration": 3000,
      "inertia_max_speed": 1500,
      "interpolation": "bilinear",
      "keyboard": true,
      "keyboard_pan_offset": 80,
      "keyboard_zoom_offset": 1,
      "layers": [
       "IPY_MODEL_d9cf530ff07f4316b19fa42d680c6833"
      ],
      "layout": "IPY_MODEL_5b88e4c15d744e9d94b961d8df8ec3bd",
      "left": 6612488,
      "max_zoom": null,
      "min_zoom": null,
      "modisdate": "2024-09-21",
      "north": 1.365694407838087,
      "options": [
       "bounce_at_zoom_limits",
       "box_zoom",
       "center",
       "close_popup_on_click",
       "double_click_zoom",
       "dragging",
       "fullscreen",
       "inertia",
       "inertia_deceleration",
       "inertia_max_speed",
       "interpolation",
       "keyboard",
       "keyboard_pan_offset",
       "keyboard_zoom_offset",
       "max_zoom",
       "min_zoom",
       "prefer_canvas",
       "scroll_wheel_zoom",
       "tap",
       "tap_tolerance",
       "touch_zoom",
       "world_copy_jump",
       "zoom",
       "zoom_animation_threshold",
       "zoom_delta",
       "zoom_snap"
      ],
      "panes": {},
      "prefer_canvas": false,
      "right": 6614460,
      "scroll_wheel_zoom": false,
      "south": 1.3485330853537403,
      "style": "IPY_MODEL_b96a1de8e11e4a86aa8fd507fb5dc489",
      "tap": true,
      "tap_tolerance": 15,
      "top": 4162478,
      "touch_zoom": true,
      "west": 103.77719879150392,
      "window_url": "https://dl58raobsze-496ff2e9c6d22116-0-colab.googleusercontent.com/outputframe.html?vrz=colab_20240918-060111_RC00_675939473",
      "world_copy_jump": false,
      "zoom": 15,
      "zoom_animation_threshold": 4,
      "zoom_delta": 1,
      "zoom_snap": 1
     }
    },
    "4eb70ec0199948439bc87c3bef920b37": {
     "model_module": "jupyter-leaflet",
     "model_module_version": "^0.19",
     "model_name": "LeafletMapStyleModel",
     "state": {
      "_model_module": "jupyter-leaflet",
      "_model_module_version": "^0.19",
      "_model_name": "LeafletMapStyleModel",
      "_view_count": null,
      "_view_module": "@jupyter-widgets/base",
      "_view_module_version": "1.2.0",
      "_view_name": "StyleView",
      "cursor": "move"
     }
    },
    "58da19d4c48a4960a08567bd2f5c2911": {
     "model_module": "jupyter-leaflet",
     "model_module_version": "^0.19",
     "model_name": "LeafletMapStyleModel",
     "state": {
      "_model_module": "jupyter-leaflet",
      "_model_module_version": "^0.19",
      "_model_name": "LeafletMapStyleModel",
      "_view_count": null,
      "_view_module": "@jupyter-widgets/base",
      "_view_module_version": "1.2.0",
      "_view_name": "StyleView",
      "cursor": "move"
     }
    },
    "5b88e4c15d744e9d94b961d8df8ec3bd": {
     "model_module": "@jupyter-widgets/base",
     "model_module_version": "1.2.0",
     "model_name": "LayoutModel",
     "state": {
      "_model_module": "@jupyter-widgets/base",
      "_model_module_version": "1.2.0",
      "_model_name": "LayoutModel",
      "_view_count": null,
      "_view_module": "@jupyter-widgets/base",
      "_view_module_version": "1.2.0",
      "_view_name": "LayoutView",
      "align_content": null,
      "align_items": null,
      "align_self": null,
      "border": null,
      "bottom": null,
      "display": null,
      "flex": null,
      "flex_flow": null,
      "grid_area": null,
      "grid_auto_columns": null,
      "grid_auto_flow": null,
      "grid_auto_rows": null,
      "grid_column": null,
      "grid_gap": null,
      "grid_row": null,
      "grid_template_areas": null,
      "grid_template_columns": null,
      "grid_template_rows": null,
      "height": null,
      "justify_content": null,
      "justify_items": null,
      "left": null,
      "margin": null,
      "max_height": null,
      "max_width": null,
      "min_height": null,
      "min_width": null,
      "object_fit": null,
      "object_position": null,
      "order": null,
      "overflow": null,
      "overflow_x": null,
      "overflow_y": null,
      "padding": null,
      "right": null,
      "top": null,
      "visibility": null,
      "width": null
     }
    },
    "89a847ecd1db40c88bf8000863996476": {
     "model_module": "jupyter-leaflet",
     "model_module_version": "^0.19",
     "model_name": "LeafletAttributionControlModel",
     "state": {
      "_model_module": "jupyter-leaflet",
      "_model_module_version": "^0.19",
      "_model_name": "LeafletAttributionControlModel",
      "_view_count": null,
      "_view_module": "jupyter-leaflet",
      "_view_module_version": "^0.19",
      "_view_name": "LeafletAttributionControlView",
      "options": [
       "position",
       "prefix"
      ],
      "position": "bottomright",
      "prefix": "ipyleaflet"
     }
    },
    "8d047f814ebf4a1f98e1d79783b6636b": {
     "model_module": "jupyter-leaflet",
     "model_module_version": "^0.19",
     "model_name": "LeafletMapModel",
     "state": {
      "_dom_classes": [],
      "_model_module": "jupyter-leaflet",
      "_model_module_version": "^0.19",
      "_model_name": "LeafletMapModel",
      "_view_count": null,
      "_view_module": "jupyter-leaflet",
      "_view_module_version": "^0.19",
      "_view_name": "LeafletMapView",
      "bottom": 4164191,
      "bounce_at_zoom_limits": true,
      "box_zoom": true,
      "center": [
       1.3007810735785752,
       103.86772871017456
      ],
      "close_popup_on_click": true,
      "controls": [
       "IPY_MODEL_9a757aed38694ff883c4b8a64c7985e4",
       "IPY_MODEL_963b8a22063f4d70a192fa3ff178869f",
       "IPY_MODEL_9db59ba2b66e49f8a95bbee76c91e1a1"
      ],
      "crs": {
       "custom": false,
       "name": "EPSG3857"
      },
      "default_style": "IPY_MODEL_e081b3c251e34c71b547fef95af8b796",
      "double_click_zoom": true,
      "dragging": true,
      "dragging_style": "IPY_MODEL_58da19d4c48a4960a08567bd2f5c2911",
      "east": 103.89367103576662,
      "fullscreen": false,
      "inertia": true,
      "inertia_deceleration": 3000,
      "inertia_max_speed": 1500,
      "interpolation": "bilinear",
      "keyboard": true,
      "keyboard_pan_offset": 80,
      "keyboard_zoom_offset": 1,
      "layers": [
       "IPY_MODEL_00d54f381cb247559a88ef8bf695ac1a",
       "IPY_MODEL_a1f4ed7d969643af890160d433791b2f"
      ],
      "layout": "IPY_MODEL_d7ac8adec6cc4c41ad2dde54884a6bee",
      "left": 6613993,
      "max_zoom": null,
      "min_zoom": null,
      "modisdate": "2024-10-02",
      "north": 1.3093619159465821,
      "options": [
       "bounce_at_zoom_limits",
       "box_zoom",
       "center",
       "close_popup_on_click",
       "double_click_zoom",
       "dragging",
       "fullscreen",
       "inertia",
       "inertia_deceleration",
       "inertia_max_speed",
       "interpolation",
       "keyboard",
       "keyboard_pan_offset",
       "keyboard_zoom_offset",
       "max_zoom",
       "min_zoom",
       "prefer_canvas",
       "scroll_wheel_zoom",
       "tap",
       "tap_tolerance",
       "touch_zoom",
       "world_copy_jump",
       "zoom",
       "zoom_animation_threshold",
       "zoom_delta",
       "zoom_snap"
      ],
      "panes": {},
      "prefer_canvas": false,
      "right": 6615202,
      "scroll_wheel_zoom": false,
      "south": 1.292200202029946,
      "style": "IPY_MODEL_e081b3c251e34c71b547fef95af8b796",
      "tap": true,
      "tap_tolerance": 15,
      "top": 4163791,
      "touch_zoom": true,
      "west": 103.84178638458253,
      "window_url": "https://uu0ndjz5e-496ff2e9c6d22116-0-colab.googleusercontent.com/outputframe.html?vrz=colab_20241001-060119_RC01_681036954",
      "world_copy_jump": false,
      "zoom": 15,
      "zoom_animation_threshold": 4,
      "zoom_delta": 1,
      "zoom_snap": 1
     }
    },
    "963b8a22063f4d70a192fa3ff178869f": {
     "model_module": "jupyter-leaflet",
     "model_module_version": "^0.19",
     "model_name": "LeafletAttributionControlModel",
     "state": {
      "_model_module": "jupyter-leaflet",
      "_model_module_version": "^0.19",
      "_model_name": "LeafletAttributionControlModel",
      "_view_count": null,
      "_view_module": "jupyter-leaflet",
      "_view_module_version": "^0.19",
      "_view_name": "LeafletAttributionControlView",
      "options": [
       "position",
       "prefix"
      ],
      "position": "bottomright",
      "prefix": "ipyleaflet"
     }
    },
    "9a757aed38694ff883c4b8a64c7985e4": {
     "model_module": "jupyter-leaflet",
     "model_module_version": "^0.19",
     "model_name": "LeafletZoomControlModel",
     "state": {
      "_model_module": "jupyter-leaflet",
      "_model_module_version": "^0.19",
      "_model_name": "LeafletZoomControlModel",
      "_view_count": null,
      "_view_module": "jupyter-leaflet",
      "_view_module_version": "^0.19",
      "_view_name": "LeafletZoomControlView",
      "options": [
       "position",
       "zoom_in_text",
       "zoom_in_title",
       "zoom_out_text",
       "zoom_out_title"
      ],
      "position": "topleft",
      "zoom_in_text": "+",
      "zoom_in_title": "Zoom in",
      "zoom_out_text": "-",
      "zoom_out_title": "Zoom out"
     }
    },
    "9db59ba2b66e49f8a95bbee76c91e1a1": {
     "model_module": "jupyter-leaflet",
     "model_module_version": "^0.19",
     "model_name": "LeafletDrawControlModel",
     "state": {
      "_model_module": "jupyter-leaflet",
      "_model_module_version": "^0.19",
      "_model_name": "LeafletDrawControlModel",
      "_view_count": null,
      "_view_module": "jupyter-leaflet",
      "_view_module_version": "^0.19",
      "_view_name": "LeafletDrawControlView",
      "circle": {},
      "circlemarker": {
       "shapeOptions": {}
      },
      "data": [
       {
        "geometry": {
         "coordinates": [
          103.864112,
          1.304041
         ],
         "type": "Point"
        },
        "properties": {
         "style": {
          "clickable": true,
          "color": "#3388ff",
          "fill": true,
          "fillColor": null,
          "fillOpacity": 0.2,
          "icon": {
           "_initHooksCalled": true,
           "options": {}
          },
          "opacity": 0.5,
          "repeatMode": false,
          "shapeOptions": {},
          "stroke": true,
          "weight": 4,
          "zIndexOffset": 2000
         }
        },
        "type": "Feature"
       }
      ],
      "edit": true,
      "marker": {},
      "options": [
       "position"
      ],
      "polygon": {},
      "polyline": {},
      "position": "topleft",
      "rectangle": {},
      "remove": true
     }
    },
    "a1f4ed7d969643af890160d433791b2f": {
     "model_module": "jupyter-leaflet",
     "model_module_version": "^0.19",
     "model_name": "LeafletRectangleModel",
     "state": {
      "_model_module": "jupyter-leaflet",
      "_model_module_version": "^0.19",
      "_model_name": "LeafletRectangleModel",
      "_view_count": null,
      "_view_module": "jupyter-leaflet",
      "_view_module_version": "^0.19",
      "_view_name": "LeafletRectangleView",
      "base": false,
      "bottom": false,
      "bounds": [
       [
        1.3063019119138002,
        103.86186563388924
       ],
       [
        1.3017800880454342,
        103.86635836611077
       ]
      ],
      "color": "red",
      "dash_array": null,
      "draggable": false,
      "fill": true,
      "fill_color": "red",
      "fill_opacity": 0.2,
      "line_cap": "round",
      "line_join": "round",
      "locations": [],
      "name": "",
      "no_clip": true,
      "opacity": 1,
      "options": [
       "color",
       "dash_array",
       "draggable",
       "fill",
       "fill_color",
       "fill_opacity",
       "line_cap",
       "line_join",
       "no_clip",
       "opacity",
       "pointer_events",
       "smooth_factor",
       "stroke",
       "transform",
       "weight"
      ],
      "pane": "",
      "pointer_events": "",
      "popup": null,
      "popup_max_height": null,
      "popup_max_width": 300,
      "popup_min_width": 50,
      "rotation": true,
      "scaling": true,
      "smooth_factor": 1,
      "stroke": true,
      "subitems": [],
      "transform": false,
      "uniform_scaling": false,
      "weight": 5
     }
    },
    "b96a1de8e11e4a86aa8fd507fb5dc489": {
     "model_module": "jupyter-leaflet",
     "model_module_version": "^0.19",
     "model_name": "LeafletMapStyleModel",
     "state": {
      "_model_module": "jupyter-leaflet",
      "_model_module_version": "^0.19",
      "_model_name": "LeafletMapStyleModel",
      "_view_count": null,
      "_view_module": "@jupyter-widgets/base",
      "_view_module_version": "1.2.0",
      "_view_name": "StyleView",
      "cursor": "grab"
     }
    },
    "bb4ef23c7591404387c030ac01fda6a5": {
     "model_module": "jupyter-leaflet",
     "model_module_version": "^0.19",
     "model_name": "LeafletZoomControlModel",
     "state": {
      "_model_module": "jupyter-leaflet",
      "_model_module_version": "^0.19",
      "_model_name": "LeafletZoomControlModel",
      "_view_count": null,
      "_view_module": "jupyter-leaflet",
      "_view_module_version": "^0.19",
      "_view_name": "LeafletZoomControlView",
      "options": [
       "position",
       "zoom_in_text",
       "zoom_in_title",
       "zoom_out_text",
       "zoom_out_title"
      ],
      "position": "topleft",
      "zoom_in_text": "+",
      "zoom_in_title": "Zoom in",
      "zoom_out_text": "-",
      "zoom_out_title": "Zoom out"
     }
    },
    "d3a226a60cc54a328cdd5000e6fd5ae0": {
     "model_module": "jupyter-leaflet",
     "model_module_version": "^0.19",
     "model_name": "LeafletMapStyleModel",
     "state": {
      "_model_module": "jupyter-leaflet",
      "_model_module_version": "^0.19",
      "_model_name": "LeafletMapStyleModel",
      "_view_count": null,
      "_view_module": "@jupyter-widgets/base",
      "_view_module_version": "1.2.0",
      "_view_name": "StyleView",
      "cursor": "grab"
     }
    },
    "d7ac8adec6cc4c41ad2dde54884a6bee": {
     "model_module": "@jupyter-widgets/base",
     "model_module_version": "1.2.0",
     "model_name": "LayoutModel",
     "state": {
      "_model_module": "@jupyter-widgets/base",
      "_model_module_version": "1.2.0",
      "_model_name": "LayoutModel",
      "_view_count": null,
      "_view_module": "@jupyter-widgets/base",
      "_view_module_version": "1.2.0",
      "_view_name": "LayoutView",
      "align_content": null,
      "align_items": null,
      "align_self": null,
      "border": null,
      "bottom": null,
      "display": null,
      "flex": null,
      "flex_flow": null,
      "grid_area": null,
      "grid_auto_columns": null,
      "grid_auto_flow": null,
      "grid_auto_rows": null,
      "grid_column": null,
      "grid_gap": null,
      "grid_row": null,
      "grid_template_areas": null,
      "grid_template_columns": null,
      "grid_template_rows": null,
      "height": null,
      "justify_content": null,
      "justify_items": null,
      "left": null,
      "margin": null,
      "max_height": null,
      "max_width": null,
      "min_height": null,
      "min_width": null,
      "object_fit": null,
      "object_position": null,
      "order": null,
      "overflow": null,
      "overflow_x": null,
      "overflow_y": null,
      "padding": null,
      "right": null,
      "top": null,
      "visibility": null,
      "width": null
     }
    },
    "d9cf530ff07f4316b19fa42d680c6833": {
     "model_module": "jupyter-leaflet",
     "model_module_version": "^0.19",
     "model_name": "LeafletTileLayerModel",
     "state": {
      "_model_module": "jupyter-leaflet",
      "_model_module_version": "^0.19",
      "_model_name": "LeafletTileLayerModel",
      "_view_count": null,
      "_view_module": "jupyter-leaflet",
      "_view_module_version": "^0.19",
      "_view_name": "LeafletTileLayerView",
      "attribution": "&copy; <a href=\"https://www.openstreetmap.org/copyright\">OpenStreetMap</a> contributors",
      "base": true,
      "bottom": true,
      "bounds": null,
      "detect_retina": false,
      "loading": false,
      "max_native_zoom": null,
      "max_zoom": 19,
      "min_native_zoom": null,
      "min_zoom": 1,
      "name": "OpenStreetMap.Mapnik",
      "no_wrap": false,
      "opacity": 1,
      "options": [
       "attribution",
       "bounds",
       "detect_retina",
       "max_native_zoom",
       "max_zoom",
       "min_native_zoom",
       "min_zoom",
       "no_wrap",
       "tile_size",
       "tms",
       "zoom_offset"
      ],
      "pane": "",
      "popup": null,
      "popup_max_height": null,
      "popup_max_width": 300,
      "popup_min_width": 50,
      "show_loading": false,
      "subitems": [],
      "tile_size": 256,
      "tms": false,
      "url": "https://tile.openstreetmap.org/{z}/{x}/{y}.png",
      "visible": true,
      "zoom_offset": 0
     }
    },
    "e081b3c251e34c71b547fef95af8b796": {
     "model_module": "jupyter-leaflet",
     "model_module_version": "^0.19",
     "model_name": "LeafletMapStyleModel",
     "state": {
      "_model_module": "jupyter-leaflet",
      "_model_module_version": "^0.19",
      "_model_name": "LeafletMapStyleModel",
      "_view_count": null,
      "_view_module": "@jupyter-widgets/base",
      "_view_module_version": "1.2.0",
      "_view_name": "StyleView",
      "cursor": "grab"
     }
    },
    "f08e0f82d8114978a59c3a45f1ea3b41": {
     "model_module": "jupyter-leaflet",
     "model_module_version": "^0.19",
     "model_name": "LeafletMapStyleModel",
     "state": {
      "_model_module": "jupyter-leaflet",
      "_model_module_version": "^0.19",
      "_model_name": "LeafletMapStyleModel",
      "_view_count": null,
      "_view_module": "@jupyter-widgets/base",
      "_view_module_version": "1.2.0",
      "_view_name": "StyleView",
      "cursor": "grab"
     }
    }
   }
  }
 },
 "nbformat": 4,
 "nbformat_minor": 0
}
